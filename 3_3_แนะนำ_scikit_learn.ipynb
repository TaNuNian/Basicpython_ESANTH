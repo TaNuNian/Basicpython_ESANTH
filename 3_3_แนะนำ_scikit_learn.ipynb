{
  "nbformat": 4,
  "nbformat_minor": 0,
  "metadata": {
    "colab": {
      "provenance": [],
      "include_colab_link": true
    },
    "kernelspec": {
      "name": "python3",
      "display_name": "Python 3"
    },
    "language_info": {
      "name": "python"
    }
  },
  "cells": [
    {
      "cell_type": "markdown",
      "metadata": {
        "id": "view-in-github",
        "colab_type": "text"
      },
      "source": [
        "<a href=\"https://colab.research.google.com/github/TaNuNian/Basicpython_ESANTH/blob/main/3_3_%E0%B9%81%E0%B8%99%E0%B8%B0%E0%B8%99%E0%B8%B3_scikit_learn.ipynb\" target=\"_parent\"><img src=\"https://colab.research.google.com/assets/colab-badge.svg\" alt=\"Open In Colab\"/></a>"
      ]
    },
    {
      "cell_type": "markdown",
      "source": [
        "<img src = 'https://drive.google.com/uc?id=18zsxFId1FaUI1RvfkAex6ZoNpToP8GoT'>"
      ],
      "metadata": {
        "id": "xVHmMcnDzXsr"
      }
    },
    {
      "cell_type": "markdown",
      "source": [
        "# ผู้เรียบเรียงเนื้อหา: ดร.เปรม จันทร์สว่าง\n",
        "## สาขาวิชาสถิติ คณะวิทยาศาตร์ มหาวิทยาลัยขอนแก่น\n",
        "\n",
        "# ผู้บรรยาย: ดร.วิธวินท์ สุสุทธิ\n",
        "## ภาควิชาคณิตศาสตร์ คณะวิทยาศาสตร์ มหาวิทยาลัยเทคโนโลยีพระจอมเกล้าธนบุรี"
      ],
      "metadata": {
        "id": "HIsGJwMn3prp"
      }
    },
    {
      "cell_type": "markdown",
      "source": [
        "## **แนะนำ scikit-learn และการพัฒนา ML ด้วย  sklearn ใน python**\n",
        "\n",
        "> scikit-learn เป็น open source project ไลบราลีที่ใช้ในงานทางการเรียนรู้ของเครื่องที่สนับสนุนการพัฒนาตัวแบบการเรียนรู้ของเครื่องทั้งในกลุ่มการเรียนรู้แบบมีผู้สอน (Supervised learning) และการเรียนรู้แบบไม่มีผู้สอน (Unsupervise) รวมไปถึงการพัฒนาตัวแบบตามแนวทาง Machine learning workflow\n",
        "\n",
        "scikit-learn มีตัวแบบการเรียนรู้ของเครื่องให้เลือกหลายตัวแบบ ซึ่งจะเรียกตัวแบบ (Model) ว่าเป็นตัวประมาณ (Estimator)\n",
        "ใน scikit-learn มีฟังก์ชันต่าง ๆ ที่ใช้ในการพัฒนา ML เช่น\n",
        "\n",
        "*   ฟังก์ชันการแปลงข้อมูล\n",
        "*   ฟังก์ชั้นในการประเมินตัวแบบ\n",
        "*   ฟังก์ชันในการตรวจสอบประสิทธิภาพตัวแบบ\n",
        "\n",
        "เป็นต้น"
      ],
      "metadata": {
        "id": "SgSLI-uMzZyx"
      }
    },
    {
      "cell_type": "markdown",
      "source": [
        "### **ตัวอย่าง** การประยุกต์ใช้สร้างตัวแบบเพื่อจำแนกพันธุ์ดอกไม้ตาม ML workflow"
      ],
      "metadata": {
        "id": "VmFjsJbIzpJP"
      }
    },
    {
      "cell_type": "markdown",
      "source": [
        "#### **นำเข้าข้อมูล (Import data)**\n",
        "อ่านข้อมูล \"IRIS 2.csv\" ที่เก็บใน google drive และกำหนดให้ mount อัตโนมัติและเก็บข้อมูลในรูปแบบ dataframe\n",
        "\n",
        "\n"
      ],
      "metadata": {
        "id": "LYWE5Golzyet"
      }
    },
    {
      "cell_type": "code",
      "execution_count": null,
      "metadata": {
        "id": "bM6uqVg6zTC_"
      },
      "outputs": [],
      "source": [
        "from google.colab import drive\n",
        "drive.mount('/content/drive')"
      ]
    },
    {
      "cell_type": "code",
      "source": [
        "import pandas as pd\n",
        "df = pd.read_csv('/content/drive/MyDrive/MLDataset/IRIS2.csv')"
      ],
      "metadata": {
        "id": "m2pImQYH0Gfx"
      },
      "execution_count": null,
      "outputs": []
    },
    {
      "cell_type": "markdown",
      "source": [
        "#### **สำรวจข้อมูล (Explore data)**"
      ],
      "metadata": {
        "id": "y4RMShAx0ge_"
      }
    },
    {
      "cell_type": "markdown",
      "source": [
        "<img src = 'https://drive.google.com/uc?id=13cu7U_cQtSS8DnR8G3g9pWf73O9p5xot'>\n",
        "\n",
        "[Ref](http://www.lac.inpe.br/~rafael.santos/Docs/CAP394/WholeStory-Iris.html)"
      ],
      "metadata": {
        "id": "JLH7TmAI0_NM"
      }
    },
    {
      "cell_type": "code",
      "source": [
        "df.head()"
      ],
      "metadata": {
        "id": "nAmf94qg026y"
      },
      "execution_count": null,
      "outputs": []
    },
    {
      "cell_type": "code",
      "source": [
        "df.info()"
      ],
      "metadata": {
        "id": "NDgNGS_X1CL0"
      },
      "execution_count": null,
      "outputs": []
    },
    {
      "cell_type": "code",
      "source": [
        "df.describe()"
      ],
      "metadata": {
        "id": "O-sXTAM-1Ed-"
      },
      "execution_count": null,
      "outputs": []
    },
    {
      "cell_type": "code",
      "source": [
        "df.describe(include = object)"
      ],
      "metadata": {
        "id": "498BUV_m1Hds"
      },
      "execution_count": null,
      "outputs": []
    },
    {
      "cell_type": "code",
      "source": [
        "target = df['species'].unique()\n",
        "print(target)"
      ],
      "metadata": {
        "id": "qu5byf_k1KcC"
      },
      "execution_count": null,
      "outputs": []
    },
    {
      "cell_type": "code",
      "source": [
        "nrow, ncol = df.shape\n",
        "print(nrow,ncol)"
      ],
      "metadata": {
        "id": "V7EysCAv28AU"
      },
      "execution_count": null,
      "outputs": []
    },
    {
      "cell_type": "markdown",
      "source": [
        "#### **เตรียมข้อมูล (Prepare data)**\n",
        "\n",
        "เป็นการเตรียมข้อมูลให้เหมาะสมกับตัวแบบ เช่น  \n",
        "\n",
        "*   การกำหนดตัวแปรต้น (Independent variables)\n",
        "*   การกำหนดตัวแปรเป้าหมาย (Target variable)\n",
        "*   การปรับชนิดของข้อมูลให้เหมาะสมกับตัวแบบเช่น การปรับข้อมูลชนิดต่อเนื่องให้เป็นชนิดไม่ต่อเนื่อง หรือการปรับข้อมูลข้อความเป็นข้อมูลมูลตัวเลข หรือการเพิ่มตัวแปรตัวเลขของตัวแปรเป้าหมาย"
      ],
      "metadata": {
        "id": "y9kAC0As3fNu"
      }
    },
    {
      "cell_type": "code",
      "source": [
        "df['target_num'] = [0]*nrow\n",
        "class_num = 0\n",
        "for i in target:\n",
        "  class_num +=1\n",
        "  df.loc[df['species']== i,['target_num']] = class_num"
      ],
      "metadata": {
        "id": "TthNkQ_D3uAT"
      },
      "execution_count": null,
      "outputs": []
    },
    {
      "cell_type": "code",
      "source": [
        "df.head()"
      ],
      "metadata": {
        "id": "21EPVnP6_exM"
      },
      "execution_count": null,
      "outputs": []
    },
    {
      "cell_type": "code",
      "source": [
        "df_X = df.iloc[:,range(4)]\n",
        "print(f'Input data:\\n {df_X.head()}')\n",
        "df_y = df.loc[:,['target_num']]\n",
        "print(f'Target data:\\n {df_y.tail()}')"
      ],
      "metadata": {
        "id": "wHCQyE7o31ZT"
      },
      "execution_count": null,
      "outputs": []
    },
    {
      "cell_type": "markdown",
      "source": [
        "#### **การพัฒนาและสอนตัวแบบ**"
      ],
      "metadata": {
        "id": "DpWV3ncK4waf"
      }
    },
    {
      "cell_type": "code",
      "source": [
        "from sklearn.model_selection import train_test_split\n",
        "df_X_train, df_X_test, df_y_train, df_y_test = train_test_split(df_X,df_y,test_size = 0.3, random_state=40)\n",
        "print(f' # of train: {df_X_train.shape[0]}\\n # of test: {df_X_test.shape[0]}')"
      ],
      "metadata": {
        "id": "oFks0QLB42xg"
      },
      "execution_count": null,
      "outputs": []
    },
    {
      "cell_type": "code",
      "source": [
        "pd.plotting.scatter_matrix(df_X_train,alpha=0.5)"
      ],
      "metadata": {
        "id": "NzInGfMj47_Z"
      },
      "execution_count": null,
      "outputs": []
    },
    {
      "cell_type": "markdown",
      "source": [
        "**K-Nearest Neighbors (KNN)**\n",
        "\n",
        "<img src = 'https://drive.google.com/uc?id=1yKzKUuE5qH9oXOTctFz3x_5FO6OLK9D1' width=70%>\n",
        "\n",
        "[Ref](https://vitalflux.com/k-nearest-neighbors-explained-with-python-examples)"
      ],
      "metadata": {
        "id": "hoi3vygmyk2B"
      }
    },
    {
      "cell_type": "code",
      "source": [
        "from sklearn.neighbors import KNeighborsClassifier\n",
        "knn = KNeighborsClassifier(n_neighbors=1)\n",
        "knn.fit(df_X_train,df_y_train)"
      ],
      "metadata": {
        "id": "fH_dYVjd5D1_"
      },
      "execution_count": null,
      "outputs": []
    },
    {
      "cell_type": "markdown",
      "source": [
        "#### **การประเมินตัวแบบ**"
      ],
      "metadata": {
        "id": "lcW0QijO5Lcr"
      }
    },
    {
      "cell_type": "code",
      "source": [
        "pred_value = knn.predict(df_X_test)\n",
        "Result= df_y_test.loc[:,['target_num']]\n",
        "Result['target_predict'] = pred_value"
      ],
      "metadata": {
        "id": "NVpkfQuw5U0p"
      },
      "execution_count": null,
      "outputs": []
    },
    {
      "cell_type": "markdown",
      "source": [
        "**Confusion matrix**\n",
        "\n",
        "<img src = 'https://drive.google.com/uc?id=1UNhg9f8KpnpqeyphyKDSI1ECgEz1OlBj' width=70%>\n",
        "\n",
        "[Ref](https://medium.com/analytics-vidhya/what-is-a-confusion-matrix-d1c0f8feda5)"
      ],
      "metadata": {
        "id": "zHCvbCgG2JoG"
      }
    },
    {
      "cell_type": "code",
      "source": [
        "from sklearn.metrics import confusion_matrix, ConfusionMatrixDisplay"
      ],
      "metadata": {
        "id": "AtwycDHQ5avi"
      },
      "execution_count": null,
      "outputs": []
    },
    {
      "cell_type": "code",
      "source": [
        "cm = confusion_matrix(df_y_test, pred_value, labels=knn.classes_)\n",
        "cm"
      ],
      "metadata": {
        "id": "73cFwGGZ5ewc"
      },
      "execution_count": null,
      "outputs": []
    },
    {
      "cell_type": "code",
      "source": [
        "disp = ConfusionMatrixDisplay(confusion_matrix = cm, display_labels = knn.classes_)\n",
        "disp.plot()"
      ],
      "metadata": {
        "id": "ewOHs1YT5jw6"
      },
      "execution_count": null,
      "outputs": []
    },
    {
      "cell_type": "code",
      "source": [
        "print(f'Accuracy on test dataset: {knn.score(df_X_test,df_y_test)}')"
      ],
      "metadata": {
        "id": "MPZTyN0w5uFj"
      },
      "execution_count": null,
      "outputs": []
    },
    {
      "cell_type": "markdown",
      "source": [
        "<img src = 'https://drive.google.com/uc?id=18qUXmnQK3FIPfMCm8m0aKf1Saam6ezdJ'>\n",
        "<img src = 'https://drive.google.com/uc?id=192V5NZG8GXDFzYQIxTRJCSmiBUkc2xys'>"
      ],
      "metadata": {
        "id": "vSW9VILn5__M"
      }
    }
  ]
}