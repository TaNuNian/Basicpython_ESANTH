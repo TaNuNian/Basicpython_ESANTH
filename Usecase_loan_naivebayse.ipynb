{
  "nbformat": 4,
  "nbformat_minor": 0,
  "metadata": {
    "colab": {
      "private_outputs": true,
      "provenance": [],
      "include_colab_link": true
    },
    "kernelspec": {
      "name": "python3",
      "display_name": "Python 3"
    },
    "language_info": {
      "name": "python"
    }
  },
  "cells": [
    {
      "cell_type": "markdown",
      "metadata": {
        "id": "view-in-github",
        "colab_type": "text"
      },
      "source": [
        "<a href=\"https://colab.research.google.com/github/TaNuNian/Basicpython_ESANTH/blob/main/Usecase_loan_naivebayse.ipynb\" target=\"_parent\"><img src=\"https://colab.research.google.com/assets/colab-badge.svg\" alt=\"Open In Colab\"/></a>"
      ]
    },
    {
      "cell_type": "code",
      "metadata": {
        "id": "XGihzXlFegsb"
      },
      "source": [
        "import pandas as pd\n",
        "import matplotlib.pyplot as plt\n",
        "import seaborn as sns\n",
        "df = pd.read_csv('/content/LoanPrediction.csv')"
      ],
      "execution_count": null,
      "outputs": []
    },
    {
      "cell_type": "code",
      "metadata": {
        "id": "M4EdtoQx6qoQ"
      },
      "source": [
        "df"
      ],
      "execution_count": null,
      "outputs": []
    },
    {
      "cell_type": "code",
      "metadata": {
        "id": "kSlzrLwq3Oqb"
      },
      "source": [
        "df.isnull().sum()"
      ],
      "execution_count": null,
      "outputs": []
    },
    {
      "cell_type": "code",
      "metadata": {
        "id": "uh23c6b55G4O"
      },
      "source": [
        "df.shape"
      ],
      "execution_count": null,
      "outputs": []
    },
    {
      "cell_type": "code",
      "metadata": {
        "id": "vkYQ2HbQ3ora"
      },
      "source": [
        "df.dropna()"
      ],
      "execution_count": null,
      "outputs": []
    },
    {
      "cell_type": "code",
      "metadata": {
        "id": "5ZOdjmiK5zdI"
      },
      "source": [
        "df.dropna(inplace=True)"
      ],
      "execution_count": null,
      "outputs": []
    },
    {
      "cell_type": "code",
      "metadata": {
        "id": "Tzq0ha9b523k"
      },
      "source": [
        "df.isnull().sum()"
      ],
      "execution_count": null,
      "outputs": []
    },
    {
      "cell_type": "code",
      "metadata": {
        "id": "TNM8eiBp_uNY"
      },
      "source": [
        "df.dtypes"
      ],
      "execution_count": null,
      "outputs": []
    },
    {
      "cell_type": "code",
      "metadata": {
        "id": "HGD8H1sX4IIi"
      },
      "source": [
        "from sklearn.preprocessing import LabelEncoder\n",
        "# creating instance of labelencoder\n",
        "labelencoder = LabelEncoder()\n",
        "df['Gender'] = labelencoder.fit_transform(df['Gender'])\n",
        "df['Married'] = labelencoder.fit_transform(df['Married'])\n",
        "df['Education'] = labelencoder.fit_transform(df['Education'])\n",
        "df['Self_Employed'] = labelencoder.fit_transform(df['Self_Employed'])\n",
        "df['Property_Area'] = labelencoder.fit_transform(df['Property_Area'])\n",
        "df['Loan_Status'] = labelencoder.fit_transform(df['Loan_Status'])"
      ],
      "execution_count": null,
      "outputs": []
    },
    {
      "cell_type": "code",
      "metadata": {
        "id": "5jjfUQn4Bo7q"
      },
      "source": [
        "df.dtypes"
      ],
      "execution_count": null,
      "outputs": []
    },
    {
      "cell_type": "code",
      "metadata": {
        "id": "_oTpgCN8yWgK"
      },
      "source": [
        "df = df.drop(['Loan_ID'],axis=1)"
      ],
      "execution_count": null,
      "outputs": []
    },
    {
      "cell_type": "code",
      "metadata": {
        "id": "kfcQ9bIACeel"
      },
      "source": [
        "df.dtypes"
      ],
      "execution_count": null,
      "outputs": []
    },
    {
      "cell_type": "markdown",
      "metadata": {
        "id": "9-SeI0WCDewC"
      },
      "source": [
        "Naive Bayse\n",
        "Sklearn provides 5 types of Naive Bayes :\n",
        "- GaussianNB works for continuous features\n",
        "- CategoricalNB works for categorical features\n",
        "- BernoulliNB works for binary features\n",
        "- MultinomialNB works for multinomial features\n",
        "- ComplementNB work for multinomial features/ imbalance/ text classification"
      ]
    },
    {
      "cell_type": "code",
      "metadata": {
        "id": "7e68AqEBDdpZ"
      },
      "source": [
        "from sklearn.naive_bayes import GaussianNB\n",
        "\n",
        "x = df.drop(['Loan_Status'],axis=1)\n",
        "y = df.Loan_Status\n",
        "\n",
        "from sklearn.model_selection import train_test_split\n",
        "\n",
        "# Split dataset into training set and test set\n",
        "train_data, test_data, train_y, test_y = train_test_split(x, y, test_size=0.20, shuffle=True)\n",
        "\n",
        "# Create NB classifer object\n",
        "NBclassifier = GaussianNB()\n",
        "\n",
        "# Train NB Classifer\n",
        "NBclassifier.fit(train_data,train_y)\n",
        "\n",
        "y_predict = NBclassifier.predict(test_data)\n",
        "y_predict"
      ],
      "execution_count": null,
      "outputs": []
    },
    {
      "cell_type": "code",
      "metadata": {
        "id": "dqxgOjILpZhx"
      },
      "source": [
        "y_predict_prob = NBclassifier.predict_proba(test_data)\n",
        "y_predict_prob"
      ],
      "execution_count": null,
      "outputs": []
    },
    {
      "cell_type": "code",
      "metadata": {
        "id": "EWplbzX9vE3Y"
      },
      "source": [
        "df_prob = pd.DataFrame(data=y_predict_prob)\n",
        "df_prob"
      ],
      "execution_count": null,
      "outputs": []
    },
    {
      "cell_type": "code",
      "metadata": {
        "id": "aRNTBLbGv691"
      },
      "source": [
        "mergedata = pd.concat([test_data,df_prob], axis=1)\n",
        "mergedata"
      ],
      "execution_count": null,
      "outputs": []
    },
    {
      "cell_type": "code",
      "metadata": {
        "id": "qcIhzr-wDYma"
      },
      "source": [
        "from sklearn import metrics\n",
        "print(\"Accuracy:\",metrics.accuracy_score(test_y,y_predict))"
      ],
      "execution_count": null,
      "outputs": []
    },
    {
      "cell_type": "code",
      "metadata": {
        "id": "OrwfXU5fpMJy"
      },
      "source": [
        "from sklearn.metrics import classification_report,confusion_matrix\n",
        "\n",
        "print(classification_report(test_y,y_predict))"
      ],
      "execution_count": null,
      "outputs": []
    },
    {
      "cell_type": "code",
      "metadata": {
        "id": "1dtkkvpJpmlr"
      },
      "source": [
        "import matplotlib.pyplot as plt\n",
        "from mlxtend.plotting import plot_confusion_matrix\n",
        "cm = confusion_matrix(test_y,y_predict)\n",
        "fig, ax = plot_confusion_matrix(conf_mat=cm)\n",
        "plt.show()"
      ],
      "execution_count": null,
      "outputs": []
    },
    {
      "cell_type": "code",
      "metadata": {
        "id": "sC2gJVz9e4BT"
      },
      "source": [
        "from sklearn.tree import DecisionTreeClassifier, export_graphviz\n",
        "from sklearn import tree\n",
        "x = df.drop(['Loan_Status'],axis=1)\n",
        "y = df.Loan_Status\n",
        "from sklearn.model_selection import train_test_split\n",
        "\n",
        "# Split dataset into training set and test set\n",
        "train_data, test_data, train_y, test_y = train_test_split(x, y, test_size=0.20, shuffle=False)\n",
        "\n",
        "# Create Decision Tree classifer object\n",
        "decision_tree_classifier = DecisionTreeClassifier(criterion=\"entropy\")\n",
        "\n",
        "# Train Decision Tree Classifer\n",
        "decision_tree_classifier.fit(train_data,train_y)\n",
        "\n",
        "y_predict = decision_tree_classifier.predict(test_data)\n",
        "\n",
        "from sklearn import metrics\n",
        "print(\"Accuracy:\",metrics.accuracy_score(test_y,y_predict))"
      ],
      "execution_count": null,
      "outputs": []
    }
  ]
}