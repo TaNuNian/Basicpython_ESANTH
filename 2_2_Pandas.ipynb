{
  "nbformat": 4,
  "nbformat_minor": 0,
  "metadata": {
    "colab": {
      "provenance": [],
      "include_colab_link": true
    },
    "kernelspec": {
      "name": "python3",
      "display_name": "Python 3"
    },
    "language_info": {
      "name": "python"
    }
  },
  "cells": [
    {
      "cell_type": "markdown",
      "metadata": {
        "id": "view-in-github",
        "colab_type": "text"
      },
      "source": [
        "<a href=\"https://colab.research.google.com/github/TaNuNian/Basicpython_ESANTH/blob/main/2_2_Pandas.ipynb\" target=\"_parent\"><img src=\"https://colab.research.google.com/assets/colab-badge.svg\" alt=\"Open In Colab\"/></a>"
      ]
    },
    {
      "cell_type": "markdown",
      "source": [
        "<img src = 'https://drive.google.com/uc?id=18zsxFId1FaUI1RvfkAex6ZoNpToP8GoT'>"
      ],
      "metadata": {
        "id": "DOk92eNImspk"
      }
    },
    {
      "cell_type": "markdown",
      "source": [
        "# ผู้บรรยาย: ดร.วิธวินท์ สุสุทธิ\n",
        "## ภาควิชาคณิตศาสตร์ คณะวิทยาศาสตร์ มหาวิทยาลัยเทคโนโลยีพระจอมเกล้าธนบุรี"
      ],
      "metadata": {
        "id": "lbRpOeXYmx3k"
      }
    },
    {
      "cell_type": "markdown",
      "source": [
        "### **มารู้จักกับ Pandas**\n",
        "\n",
        "\n",
        "\n",
        "*   การติดตั้ง\n",
        "*   ข้อมูลแบบ Dataframe\n",
        "*   การอ่านและเขียนข้อมูล\n",
        "*   การจัดการกับข้อมูลสูญหาย\n",
        "\n",
        "\n",
        "\n",
        "\n",
        "\n"
      ],
      "metadata": {
        "id": "SoKZhsHFtDSd"
      }
    },
    {
      "cell_type": "markdown",
      "source": [
        "## **Pandas คืออะไร?**\n",
        "*   Pandas คือ Python library สำหรับทำงานกับชุดข้อมูลที่สะดวก รวดเร็ว เหมาะกับข้อมูลลักษณะที่เป็นตาราง ข้อมูล time series ข้อมูลที่เก็บเป็น matrix\n",
        "*   มีฟังก์ชันการทำงานด้านการวิเคราะห์ ทำความสะอาดข้อมูล และจัดการข้อมูล"
      ],
      "metadata": {
        "id": "jfqOV_AYtyhq"
      }
    },
    {
      "cell_type": "markdown",
      "source": [
        "## **การติดตั้ง pandas และการเรียกใช้งาน**\n",
        "\n",
        "\n",
        "```\n",
        "conda install -c conda-forge pandas\n",
        "```\n",
        "\n",
        "\n",
        "```\n",
        "pip install pandas\n",
        "```\n",
        "\n",
        "\n",
        "\n"
      ],
      "metadata": {
        "id": "EnZZd1Emwlmk"
      }
    },
    {
      "cell_type": "code",
      "source": [
        "import pandas as pd\n",
        "import numpy as np"
      ],
      "metadata": {
        "id": "3kt-Fsj_w9NJ"
      },
      "execution_count": null,
      "outputs": []
    },
    {
      "cell_type": "markdown",
      "source": [
        "## **โครงสร้างข้อมูลพื้นฐานทีใช้ใน pandas**\n",
        "\n",
        "\n",
        "ใน pandas จะมีรูปแบบของข้อมูล 2 รูปแบบ\n",
        "\n",
        "\n",
        "1.   Series - โครงสร้างข้อมูลแบบ 1 มิติ มีลักษณะเหมือนคอลัมภ์ของตาราง\n",
        "2.   DataFrame - โครงสร้างข้อมูลแบบ 2 มิติ มีลักษณะเหมือนตาราง หรือ array 2 มิติ ใช้แถวและหลักในการอ้างถึงข้อมูลแต่ละตัว"
      ],
      "metadata": {
        "id": "bH-94CP6xXzG"
      }
    },
    {
      "cell_type": "markdown",
      "source": [
        "## **การสร้าง Series อย่างง่าย**"
      ],
      "metadata": {
        "id": "xoZfuCB6VtbF"
      }
    },
    {
      "cell_type": "code",
      "source": [
        "dataSeries = pd.Series([1, 2, 3, 4])\n",
        "dataSeries"
      ],
      "metadata": {
        "id": "Eg6tSS7JBebH"
      },
      "execution_count": null,
      "outputs": []
    },
    {
      "cell_type": "code",
      "source": [
        "data = [1,2,3,4]\n",
        "dataSeries = pd.Series(data)\n",
        "dataSeries"
      ],
      "metadata": {
        "id": "CthJdRu_VzZ8"
      },
      "execution_count": null,
      "outputs": []
    },
    {
      "cell_type": "markdown",
      "source": [
        "## **การสร้าง Series จาก dictionary**"
      ],
      "metadata": {
        "id": "GstpdmtpsM--"
      }
    },
    {
      "cell_type": "code",
      "source": [
        "dat = {'Type A':1, 'Type B':2, 'Type C':3}\n",
        "dataSeries = pd.Series(data=dat)\n",
        "dataSeries"
      ],
      "metadata": {
        "id": "hRn1PsR-sSlj"
      },
      "execution_count": null,
      "outputs": []
    },
    {
      "cell_type": "code",
      "source": [
        "dat = {'Type A':1, 'Type B':2, 'Type C':3}\n",
        "dataSeries = pd.Series(data=dat, index=['Type A','Type B','Type C'])\n",
        "dataSeries"
      ],
      "metadata": {
        "id": "0hdwlJdfEnRT"
      },
      "execution_count": null,
      "outputs": []
    },
    {
      "cell_type": "markdown",
      "source": [
        "## **การสร้าง DataFrames จาก dictionary**"
      ],
      "metadata": {
        "id": "ZdzEp9hgy5vg"
      }
    },
    {
      "cell_type": "code",
      "source": [
        "data = {\n",
        "    'apples':[1,2,3,4],\n",
        "    'mango': [0,1,5,4]\n",
        "}\n",
        "dataFrameA = pd.DataFrame(data)\n",
        "dataFrameA"
      ],
      "metadata": {
        "id": "Tbqkriciz5Pz"
      },
      "execution_count": null,
      "outputs": []
    },
    {
      "cell_type": "code",
      "source": [
        "dataFrameB = pd.DataFrame(\n",
        "    {\n",
        "        'A': 1.0,\n",
        "        'B': pd.Timestamp('20130102'),\n",
        "        'C': pd.Series(1, index=list(range(4)), dtype='float32'),\n",
        "        'D': np.array([3] * 4, dtype='int32'),\n",
        "        'E': pd.Categorical(['test', 'train', 'test', 'train']),\n",
        "        'F': 'foo',\n",
        "    }\n",
        ")\n",
        "dataFrameB"
      ],
      "metadata": {
        "id": "SnooMI32_0WJ"
      },
      "execution_count": null,
      "outputs": []
    },
    {
      "cell_type": "markdown",
      "source": [
        "## **Index**"
      ],
      "metadata": {
        "id": "V30SSP8dV-2D"
      }
    },
    {
      "cell_type": "code",
      "source": [
        "dataFrameC = pd.DataFrame(data, index=['Index 1', 'Index 2', 'Index 3', 'Index 4'])\n",
        "dataFrameC"
      ],
      "metadata": {
        "id": "Z7HRRKjTWC3I"
      },
      "execution_count": null,
      "outputs": []
    },
    {
      "cell_type": "markdown",
      "source": [
        "## **การอ่านไฟล์ข้อมูล**\n",
        "\n",
        "\n",
        "*   ไฟล์ CSV\n",
        "*   ไฟล์ Excel\n",
        "\n"
      ],
      "metadata": {
        "id": "wV2UqQxUWn6P"
      }
    },
    {
      "cell_type": "code",
      "source": [
        "from google.colab import drive\n",
        "drive.mount('/content/drive')"
      ],
      "metadata": {
        "id": "slKeaeZJBp86"
      },
      "execution_count": null,
      "outputs": []
    },
    {
      "cell_type": "code",
      "source": [
        "df = pd.read_csv('/content/drive/MyDrive/dataset/imdb_top_1000.csv')\n",
        "df"
      ],
      "metadata": {
        "id": "GIpTyffrW3Cv"
      },
      "execution_count": null,
      "outputs": []
    },
    {
      "cell_type": "code",
      "source": [
        "df = pd.read_csv('/content/drive/MyDrive/dataset/imdb_top_1000.csv', index_col = 'Series_Title')\n",
        "df\n"
      ],
      "metadata": {
        "id": "ei_HJfbLW-v6"
      },
      "execution_count": null,
      "outputs": []
    },
    {
      "cell_type": "code",
      "source": [
        "df2 = pd.read_excel('/content/drive/MyDrive/dataset/imdb_top_1000.xls')\n",
        "df2"
      ],
      "metadata": {
        "id": "jPf0gU5ohJiM"
      },
      "execution_count": null,
      "outputs": []
    },
    {
      "cell_type": "markdown",
      "source": [
        "## **การบันทึกข้อมูล**"
      ],
      "metadata": {
        "id": "fJJ3kKApXXg5"
      }
    },
    {
      "cell_type": "code",
      "source": [
        "df.to_csv('/content/drive/MyDrive/dataset/new_imdb_top_1000.csv')"
      ],
      "metadata": {
        "id": "4OSSR2r2Xd91"
      },
      "execution_count": null,
      "outputs": []
    },
    {
      "cell_type": "code",
      "source": [
        "df.to_excel('/content/drive/MyDrive/dataset/new_imdb_top_1000.xlsx')"
      ],
      "metadata": {
        "id": "7nZKhk7CircN"
      },
      "execution_count": null,
      "outputs": []
    },
    {
      "cell_type": "markdown",
      "source": [
        "## **ทำความรู้จักกับข้อมูล**"
      ],
      "metadata": {
        "id": "2lIUuPEYMjnd"
      }
    },
    {
      "cell_type": "code",
      "source": [
        "df.head(10)"
      ],
      "metadata": {
        "id": "ET8oQ7inXway"
      },
      "execution_count": null,
      "outputs": []
    },
    {
      "cell_type": "code",
      "source": [
        "df.tail()"
      ],
      "metadata": {
        "id": "TB_EBjrwDcJ7"
      },
      "execution_count": null,
      "outputs": []
    },
    {
      "cell_type": "code",
      "source": [
        "df.index"
      ],
      "metadata": {
        "id": "kwLh9TCeEHeU"
      },
      "execution_count": null,
      "outputs": []
    },
    {
      "cell_type": "code",
      "source": [
        "df.columns"
      ],
      "metadata": {
        "id": "FSwncG2REJi6"
      },
      "execution_count": null,
      "outputs": []
    },
    {
      "cell_type": "code",
      "source": [
        "df.info()"
      ],
      "metadata": {
        "id": "9SAk5NBiMqVJ"
      },
      "execution_count": null,
      "outputs": []
    },
    {
      "cell_type": "code",
      "source": [
        "df.shape"
      ],
      "metadata": {
        "id": "CbuSlGMr3495"
      },
      "execution_count": null,
      "outputs": []
    },
    {
      "cell_type": "code",
      "source": [
        "len(df)"
      ],
      "metadata": {
        "id": "zizY56lp37hI"
      },
      "execution_count": null,
      "outputs": []
    },
    {
      "cell_type": "code",
      "source": [
        "df.size"
      ],
      "metadata": {
        "id": "00B1na_S37F0"
      },
      "execution_count": null,
      "outputs": []
    },
    {
      "cell_type": "code",
      "source": [
        "df.dtypes"
      ],
      "metadata": {
        "id": "cro_rMX335n1"
      },
      "execution_count": null,
      "outputs": []
    },
    {
      "cell_type": "code",
      "source": [
        "df.describe()"
      ],
      "metadata": {
        "id": "LOVw_U5XHlyY"
      },
      "execution_count": null,
      "outputs": []
    },
    {
      "cell_type": "code",
      "source": [
        "df.sort_values(by = 'Meta_score').head()"
      ],
      "metadata": {
        "id": "N5sGVGno4cME"
      },
      "execution_count": null,
      "outputs": []
    },
    {
      "cell_type": "code",
      "source": [
        "df.sort_values(by = ['Meta_score', 'Released_Year'], ascending = False).head()"
      ],
      "metadata": {
        "id": "YxNkiufh4kDJ"
      },
      "execution_count": null,
      "outputs": []
    },
    {
      "cell_type": "code",
      "source": [
        "df.sort_index(axis=1).head()"
      ],
      "metadata": {
        "id": "u4Zv-dl24pBG"
      },
      "execution_count": null,
      "outputs": []
    },
    {
      "cell_type": "markdown",
      "source": [
        "## **การเข้าถึงข้อมูลใน DataFrame**"
      ],
      "metadata": {
        "id": "DziiXTmsMqvh"
      }
    },
    {
      "cell_type": "code",
      "source": [
        "df.Released_Year"
      ],
      "metadata": {
        "id": "TiGP-t9iRp4u"
      },
      "execution_count": null,
      "outputs": []
    },
    {
      "cell_type": "code",
      "source": [
        "df['Released_Year']"
      ],
      "metadata": {
        "id": "toZ8M0Jj4zzP"
      },
      "execution_count": null,
      "outputs": []
    },
    {
      "cell_type": "code",
      "source": [
        "df[0:6]"
      ],
      "metadata": {
        "id": "a_A_XkmCR1cH"
      },
      "execution_count": null,
      "outputs": []
    },
    {
      "cell_type": "code",
      "source": [
        "df.iloc[499]"
      ],
      "metadata": {
        "id": "TUbNSbXs4IGi"
      },
      "execution_count": null,
      "outputs": []
    },
    {
      "cell_type": "code",
      "source": [
        "df.iloc[499,0:2]"
      ],
      "metadata": {
        "id": "tp_uxLsmTN8g"
      },
      "execution_count": null,
      "outputs": []
    },
    {
      "cell_type": "code",
      "source": [
        "df.iloc[499,[0,2]]"
      ],
      "metadata": {
        "id": "FlfmmKcITWGR"
      },
      "execution_count": null,
      "outputs": []
    },
    {
      "cell_type": "code",
      "source": [
        "df.iloc[[499]]"
      ],
      "metadata": {
        "id": "OUoSRkNnLyAM"
      },
      "execution_count": null,
      "outputs": []
    },
    {
      "cell_type": "code",
      "source": [
        "df.loc['Forrest Gump']"
      ],
      "metadata": {
        "id": "iOBjU0Zw4Uzp"
      },
      "execution_count": null,
      "outputs": []
    },
    {
      "cell_type": "code",
      "source": [
        "df.loc['Forrest Gump',['Released_Year']]"
      ],
      "metadata": {
        "id": "5iJC_MvpSUxW"
      },
      "execution_count": null,
      "outputs": []
    },
    {
      "cell_type": "code",
      "source": [
        "df.loc[['Forrest Gump']]"
      ],
      "metadata": {
        "id": "aPobTYF4M73d"
      },
      "execution_count": null,
      "outputs": []
    },
    {
      "cell_type": "code",
      "source": [
        "df['Released_Year'].value_counts().head(10)"
      ],
      "metadata": {
        "id": "sEoM4IQb41zd"
      },
      "execution_count": null,
      "outputs": []
    },
    {
      "cell_type": "code",
      "source": [
        "df[df['Released_Year'] == '2014']"
      ],
      "metadata": {
        "id": "fW0J6G2648QY"
      },
      "execution_count": null,
      "outputs": []
    },
    {
      "cell_type": "markdown",
      "source": [
        "## **การ filter ข้อมูลเบื้องต้นใน DataFrame**"
      ],
      "metadata": {
        "id": "eakJhn-QUDcY"
      }
    },
    {
      "cell_type": "code",
      "source": [
        "before_1975 = df['Released_Year'] < '1975'\n",
        "df[before_1975]"
      ],
      "metadata": {
        "id": "Diy5udo15hYy"
      },
      "execution_count": null,
      "outputs": []
    },
    {
      "cell_type": "code",
      "source": [
        "mid_80s = df['Released_Year'].between('1983', '1986')\n",
        "df[mid_80s]"
      ],
      "metadata": {
        "id": "QMX_1Lf-5lwe"
      },
      "execution_count": null,
      "outputs": []
    },
    {
      "cell_type": "code",
      "source": [
        "df['IMDB_Rating'].mean()"
      ],
      "metadata": {
        "id": "Shn8ZMYv50dm"
      },
      "execution_count": null,
      "outputs": []
    },
    {
      "cell_type": "code",
      "source": [
        "genre = df.groupby('Genre')"
      ],
      "metadata": {
        "id": "4pZ7bYsb59A-"
      },
      "execution_count": null,
      "outputs": []
    },
    {
      "cell_type": "code",
      "source": [
        "genre['IMDB_Rating'].count().head()"
      ],
      "metadata": {
        "id": "Sc8daYKJ5-fv"
      },
      "execution_count": null,
      "outputs": []
    },
    {
      "cell_type": "code",
      "source": [
        "genre['IMDB_Rating'].mean().head()"
      ],
      "metadata": {
        "id": "DHk02kNE6GYA"
      },
      "execution_count": null,
      "outputs": []
    },
    {
      "cell_type": "markdown",
      "source": [
        "## **การจัดการกับข้อมูลซ้ำ**"
      ],
      "metadata": {
        "id": "2GfgZDnvJb-k"
      }
    },
    {
      "cell_type": "code",
      "source": [
        "df['Director'].duplicated(keep=False).head()"
      ],
      "metadata": {
        "id": "aB6pWFNSIzKt"
      },
      "execution_count": null,
      "outputs": []
    },
    {
      "cell_type": "code",
      "source": [
        "temp_df = df.append(df)\n",
        "temp_df.shape"
      ],
      "metadata": {
        "id": "-zE0PvbZNCIg"
      },
      "execution_count": null,
      "outputs": []
    },
    {
      "cell_type": "code",
      "source": [
        "temp_df = temp_df.drop_duplicates()\n",
        "temp_df.shape"
      ],
      "metadata": {
        "id": "9Oc36bfPNhQB"
      },
      "execution_count": null,
      "outputs": []
    },
    {
      "cell_type": "code",
      "source": [
        "temp_df.drop_duplicates(inplace=True)\n",
        "temp_df.shape"
      ],
      "metadata": {
        "id": "s8yVzbgdNxQw"
      },
      "execution_count": null,
      "outputs": []
    },
    {
      "cell_type": "code",
      "source": [
        "temp_df = df.append(df)\n",
        "temp_df.drop_duplicates(inplace=True, keep=False)\n",
        "temp_df.shape"
      ],
      "metadata": {
        "id": "vulrp2XDN-VT"
      },
      "execution_count": null,
      "outputs": []
    },
    {
      "cell_type": "markdown",
      "source": [
        "## **การจัดการกับ Missing values**\n",
        "ในเบื้องต้นมี 2 วิธี\n",
        "\n",
        "\n",
        "1.   ลบแถว หรือหลักที่มีข้อมูลที่สูญหาย หรือ NA\n",
        "2.   แทนที่ค่าที่หายไปหรือ NA ด้วยค่าอื่น ๆ\n",
        "\n"
      ],
      "metadata": {
        "id": "AXO1vrKpPHZ_"
      }
    },
    {
      "cell_type": "code",
      "source": [
        "df.isnull()"
      ],
      "metadata": {
        "id": "_vJ6oLbpPoo5"
      },
      "execution_count": null,
      "outputs": []
    },
    {
      "cell_type": "code",
      "source": [
        "df.isnull().sum()"
      ],
      "metadata": {
        "id": "KYY1k9T2UxIN"
      },
      "execution_count": null,
      "outputs": []
    },
    {
      "cell_type": "code",
      "source": [
        "df.isna().sum()"
      ],
      "metadata": {
        "id": "r_riaV6kVCWR"
      },
      "execution_count": null,
      "outputs": []
    },
    {
      "cell_type": "code",
      "source": [
        "df.dropna()"
      ],
      "metadata": {
        "id": "-kuxDWyoPM9S"
      },
      "execution_count": null,
      "outputs": []
    },
    {
      "cell_type": "code",
      "source": [
        "df.isnull()"
      ],
      "metadata": {
        "id": "G86AjnfCiXbe"
      },
      "execution_count": null,
      "outputs": []
    },
    {
      "cell_type": "code",
      "source": [
        "df.fillna(value=5)"
      ],
      "metadata": {
        "id": "EM5_v2FSVYs9"
      },
      "execution_count": null,
      "outputs": []
    },
    {
      "cell_type": "markdown",
      "source": [
        "## **การจัดการ Column**"
      ],
      "metadata": {
        "id": "T-wqm-KxOZM1"
      }
    },
    {
      "cell_type": "code",
      "source": [
        "df.columns"
      ],
      "metadata": {
        "id": "XUCVgRS7ne2r"
      },
      "execution_count": null,
      "outputs": []
    },
    {
      "cell_type": "code",
      "source": [
        "df.rename(columns={'Series_Title':'Title', 'No_of_Votes':'Votes'}, inplace=True)\n",
        "df.columns"
      ],
      "metadata": {
        "id": "f5IMjMqrOfqU"
      },
      "execution_count": null,
      "outputs": []
    },
    {
      "cell_type": "markdown",
      "source": [
        "## **การสร้าง column ใหม่จากการคำนวนโดยใช้ column อื่น ๆ**"
      ],
      "metadata": {
        "id": "hMj-YqPVpgFJ"
      }
    },
    {
      "cell_type": "code",
      "source": [
        "df['Meta_percent'] = df['Meta_score']/100\n",
        "df.head(2)"
      ],
      "metadata": {
        "id": "G25sJOAxpyK3"
      },
      "execution_count": null,
      "outputs": []
    },
    {
      "cell_type": "markdown",
      "source": [
        "## **การสร้าง column ใหม่โดยการใช้ function ร่วม**"
      ],
      "metadata": {
        "id": "d3lSDv9-rG6t"
      }
    },
    {
      "cell_type": "code",
      "source": [
        "def rating_function(x):\n",
        "    if x >= 8.0:\n",
        "        return 'Good'\n",
        "    else:\n",
        "        return 'Bad'"
      ],
      "metadata": {
        "id": "dtcI6ppOrNuP"
      },
      "execution_count": null,
      "outputs": []
    },
    {
      "cell_type": "code",
      "source": [
        "df['Rating'] = df['IMDB_Rating'].apply(rating_function)\n",
        "df.head(2)"
      ],
      "metadata": {
        "id": "qBgdqCQqrPTA"
      },
      "execution_count": null,
      "outputs": []
    },
    {
      "cell_type": "code",
      "source": [
        "df.tail()"
      ],
      "metadata": {
        "id": "m_pfolCbpzsA"
      },
      "execution_count": null,
      "outputs": []
    },
    {
      "cell_type": "code",
      "source": [
        "df['Rating 2'] = df['IMDB_Rating'].apply(lambda x: 'Good' if x >= 8.0 else 'Bad')\n",
        "df.head(2)"
      ],
      "metadata": {
        "id": "uALbmkmIrXOP"
      },
      "execution_count": null,
      "outputs": []
    },
    {
      "cell_type": "markdown",
      "source": [
        "# เอกสารอ้างอิง\n",
        "1. Python Language. https://www.python.org\n",
        "2. Pandas. https://pandas.pydata.org/\n",
        "4. Boris Paskhaver, Pandas in action (Manning Publications, 2021).\n",
        "\n",
        "<img src = 'https://drive.google.com/uc?id=18qUXmnQK3FIPfMCm8m0aKf1Saam6ezdJ'>\n",
        "<img src = 'https://drive.google.com/uc?id=192V5NZG8GXDFzYQIxTRJCSmiBUkc2xys'>\n"
      ],
      "metadata": {
        "id": "5axHifTpnrrC"
      }
    }
  ]
}