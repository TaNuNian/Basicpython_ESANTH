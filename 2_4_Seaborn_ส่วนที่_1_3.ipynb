{
  "nbformat": 4,
  "nbformat_minor": 0,
  "metadata": {
    "colab": {
      "provenance": [],
      "include_colab_link": true
    },
    "kernelspec": {
      "name": "python3",
      "display_name": "Python 3"
    },
    "language_info": {
      "name": "python"
    }
  },
  "cells": [
    {
      "cell_type": "markdown",
      "metadata": {
        "id": "view-in-github",
        "colab_type": "text"
      },
      "source": [
        "<a href=\"https://colab.research.google.com/github/TaNuNian/Basicpython_ESANTH/blob/main/2_4_Seaborn_%E0%B8%AA%E0%B9%88%E0%B8%A7%E0%B8%99%E0%B8%97%E0%B8%B5%E0%B9%88_1_3.ipynb\" target=\"_parent\"><img src=\"https://colab.research.google.com/assets/colab-badge.svg\" alt=\"Open In Colab\"/></a>"
      ]
    },
    {
      "cell_type": "markdown",
      "source": [
        "<img src = 'https://drive.google.com/uc?id=18zsxFId1FaUI1RvfkAex6ZoNpToP8GoT'>"
      ],
      "metadata": {
        "id": "UpFCpCLAL5j3"
      }
    },
    {
      "cell_type": "markdown",
      "source": [
        "# ผู้บรรยาย: ดร.วิธวินท์ สุสุทธิ\n",
        "## ภาควิชาคณิตศาสตร์ คณะวิทยาศาสตร์ มหาวิทยาลัยเทคโนโลยีพระจอมเกล้าธนบุรี"
      ],
      "metadata": {
        "id": "G1M1SQuCL82r"
      }
    },
    {
      "cell_type": "markdown",
      "source": [
        "# **การสร้างกราฟด้วย Seaborn**\n",
        "Seaborn คือ library หนึ่งของ Python ที่พัฒนาบนฐานของ matplotlib เพื่อให้สามารถสร้างกราฟต่าง ๆ ที่มีความสวยงามได้ง่ายยิ่งขึ้น โดยความสามารถหลักของ seaborn คือการแสดงผลทางสถิติที่ดึงดูดสายตา สามารถสร้างกราฟทางสถิติที่สวยงามและซับซ้อนได้ด้วยการเขียน code ที่ง่าย\n",
        "\n",
        "# **จุดเด่นของ Seaborn**\n",
        "*   มี dataset ตัวอย่างพร้อมให้ศึกษา และทดลองใช้งาน\n",
        "*   มีฟังก์ชันที่ใช้งานง่าย ในการสร้างกราฟหลากหลายรูปแบบ\n",
        "*   มีฟังก์ชันทางสถิติที่สามารถใช้ในการดูความสัมพันธ์ระหว่างตัวแปรต่าง ๆ ได้\n",
        "*   Seaborn สร้างขึ้นโดยใช้ Matplotlib เป็นฐาน ทำให้ผู้ใช้งานสามารถใช้ฟังก์ชันต่าง ๆ ของ Matplotlib ร่วมด้วยได้\n",
        "\n",
        "\n",
        "## **การติดตั้ง**\n",
        "\n",
        "```\n",
        "pip install seaborn\n",
        "```\n",
        "หรือ\n",
        "```\n",
        "conda install seaborn\n",
        "```\n",
        "\n"
      ],
      "metadata": {
        "id": "XsEF-CW0MHBW"
      }
    },
    {
      "cell_type": "markdown",
      "source": [
        "## **การนำ seaborn เข้ามาใช้งาน**"
      ],
      "metadata": {
        "id": "H3oHbKuVMt9u"
      }
    },
    {
      "cell_type": "code",
      "execution_count": null,
      "metadata": {
        "id": "q1AOh1WaLxTP"
      },
      "outputs": [],
      "source": [
        "import seaborn as sns"
      ]
    },
    {
      "cell_type": "markdown",
      "source": [
        "## **Seaborn dataset**\n",
        "Seaborn มี dataset เตรียมไว้สำหรับผู้ใช้งานได้ทดลอง และฝึกฝน โดยสามารถเรียกดูรายชื่อ dataset ทั้งหมดได้ และ โหลดมาใช้งานได้ทันที (ต้องเชื่อมต่อกับ Internet เท่านั้น)"
      ],
      "metadata": {
        "id": "zzmsOMsYQmFP"
      }
    },
    {
      "cell_type": "code",
      "source": [
        "sns.get_dataset_names()"
      ],
      "metadata": {
        "id": "7xj0LngyQojs"
      },
      "execution_count": null,
      "outputs": []
    },
    {
      "cell_type": "markdown",
      "source": [
        "## **ส่วนประกอบของ plot ใน Seaborn**\n",
        "\n",
        "*   **Figure** - container หรือพื้นที่สำหรับส่วนประกอบอื่น ๆ ของ plot\n",
        "*   **Axes และ subplots** - plot หนึ่ง ๆ ที่อยู่ใน figure\n",
        "*   **Palettes** - กลุ่มสีที่ใช้แสดง หรือแยกแยะความแตกต่างของตัวแปรใน plot"
      ],
      "metadata": {
        "id": "kWIWrVsuRNUT"
      }
    },
    {
      "cell_type": "code",
      "source": [
        "import numpy as np\n",
        "import pandas as pd\n",
        "\n",
        "import matplotlib as mpl\n",
        "import matplotlib.pyplot as plt"
      ],
      "metadata": {
        "id": "xVDPNjmaRR3G"
      },
      "execution_count": null,
      "outputs": []
    },
    {
      "cell_type": "code",
      "source": [
        "tips = sns.load_dataset('tips')\n",
        "tips.info()"
      ],
      "metadata": {
        "id": "jrNQk9ycRVxF"
      },
      "execution_count": null,
      "outputs": []
    },
    {
      "cell_type": "code",
      "source": [
        "tips.head()"
      ],
      "metadata": {
        "id": "1HGe3SnxBKVy"
      },
      "execution_count": null,
      "outputs": []
    },
    {
      "cell_type": "markdown",
      "source": [
        "## **การสร้างกราฟแสดงชุดข้อมูลแบบ Categorical**\n",
        "มี 3 แบบ\n",
        "\n",
        "*   Categorical estimate plots\n",
        "*   Categorical distribution plots\n",
        "*   Categorical scatterplots"
      ],
      "metadata": {
        "id": "wkXBar4mRxKY"
      }
    },
    {
      "cell_type": "markdown",
      "source": [
        "### **แบบที่ 1 Categorical estimate plots**\n",
        "*   Point plot\n",
        "*   Bar plot\n",
        "*   Count plot"
      ],
      "metadata": {
        "id": "z8P1YsUCSDrD"
      }
    },
    {
      "cell_type": "markdown",
      "source": [
        "### **Point plot**"
      ],
      "metadata": {
        "id": "BTpQcZFNcPq5"
      }
    },
    {
      "cell_type": "code",
      "source": [
        "sns.pointplot(data=tips, x=\"sex\", y=\"tip\", hue=\"smoker\")"
      ],
      "metadata": {
        "id": "s94t1He-cSWT"
      },
      "execution_count": null,
      "outputs": []
    },
    {
      "cell_type": "code",
      "source": [
        "sns.catplot(\n",
        "    data=tips, x=\"day\", y=\"total_bill\", hue=\"smoker\",\n",
        "    palette={\"Yes\": \"g\", \"No\": \"m\"},\n",
        "    markers=[\"^\", \"o\"], linestyles=[\"-\", \"--\"],\n",
        "    kind=\"point\"\n",
        ")"
      ],
      "metadata": {
        "id": "G9zhJhFycXfB"
      },
      "execution_count": null,
      "outputs": []
    },
    {
      "cell_type": "markdown",
      "source": [
        "### **Bar plot**"
      ],
      "metadata": {
        "id": "k8gBbl79SZT4"
      }
    },
    {
      "cell_type": "code",
      "source": [
        "sns.barplot(x='sex', y='tip', data=tips, hue='smoker')"
      ],
      "metadata": {
        "id": "lmpx0sYN1Juo"
      },
      "execution_count": null,
      "outputs": []
    },
    {
      "cell_type": "code",
      "source": [
        "sns.catplot(x='day', y='total_bill', data=tips, kind='bar', hue='sex', errorbar=None, palette='Set2')\n",
        "plt.title('Total Bill Amount by Day of the Week and Gender')\n",
        "plt.xlabel('Day of the Week')\n",
        "plt.ylabel('Total Bill Amount ($)')\n",
        "plt.show()"
      ],
      "metadata": {
        "id": "U3A5rlDESgdt"
      },
      "execution_count": null,
      "outputs": []
    },
    {
      "cell_type": "code",
      "source": [
        "sns.catplot(x='day', y='total_bill', data=tips,kind='bar', estimator=sum,\n",
        "            \t\t\torder=['Thur', 'Fri', 'Sat', 'Sun'])\n",
        "# Set the title and axis labels of the plot\n",
        "plt.title('Average total bill amount by day of the week')\n",
        "plt.xlabel('Day of the Week')\n",
        "plt.ylabel('Total Bill Amount ($)')\n",
        "# Show the plot\n",
        "plt.show()"
      ],
      "metadata": {
        "id": "UGsFbzOuSnGc"
      },
      "execution_count": null,
      "outputs": []
    },
    {
      "cell_type": "markdown",
      "source": [
        "### **Count plots**"
      ],
      "metadata": {
        "id": "tiv3Y6NBVTpB"
      }
    },
    {
      "cell_type": "code",
      "source": [
        "sns.countplot(x='day', data=tips)\n",
        "plt.title('Number of Customers by Day of the Week')\n",
        "plt.xlabel('Day of the Week')\n",
        "plt.ylabel('Number of Customers')\n",
        "plt.show()"
      ],
      "metadata": {
        "id": "Xc0id2WHU9Af"
      },
      "execution_count": null,
      "outputs": []
    },
    {
      "cell_type": "code",
      "source": [
        "sns.countplot(x='day', hue='sex', data=tips, palette='pastel',\n",
        "order=['Thur', 'Fri', 'Sat', 'Sun'])"
      ],
      "metadata": {
        "id": "nNeIhHDLVlxE"
      },
      "execution_count": null,
      "outputs": []
    },
    {
      "cell_type": "markdown",
      "source": [
        "### **แบบที่ 2 Categorical distribution plots**\n",
        "\n",
        "\n",
        "*   Box plots\n",
        "*   Violin plots"
      ],
      "metadata": {
        "id": "i5AJHgnHWD6P"
      }
    },
    {
      "cell_type": "markdown",
      "source": [
        "### **Box plots**"
      ],
      "metadata": {
        "id": "nU8uetfwWY9W"
      }
    },
    {
      "cell_type": "code",
      "source": [
        "sns.boxplot(x='day', y='total_bill', data=tips,\n",
        "            hue='sex', palette='Set2')\n",
        "plt.title(\"\"\"Distribution of Total Bill Amount\n",
        "          by Day of the Week and Gender\"\"\")\n",
        "plt.xlabel('Day of the Week')\n",
        "plt.ylabel('Total Bill Amount ($)')\n",
        "plt.show()"
      ],
      "metadata": {
        "id": "AhZgDEKYWJKb"
      },
      "execution_count": null,
      "outputs": []
    },
    {
      "cell_type": "markdown",
      "source": [
        "### **Violin plots**"
      ],
      "metadata": {
        "id": "VqcnSXAMWd1U"
      }
    },
    {
      "cell_type": "code",
      "source": [
        "sns.violinplot(x='day', y='total_bill', data=tips,\n",
        "               hue='sex', palette='Set2')\n",
        "plt.title('Distribution of Total Bill Amount by Day of the Week and Gender')\n",
        "plt.xlabel('Day of the Week')\n",
        "plt.ylabel('Total Bill Amount ($)')\n",
        "plt.show()"
      ],
      "metadata": {
        "id": "8xC0ZtrSWg8w"
      },
      "execution_count": null,
      "outputs": []
    },
    {
      "cell_type": "code",
      "source": [
        "sns.catplot(\n",
        "    data=tips, x='total_bill', y='day', hue='sex', kind='violin',\n",
        ")"
      ],
      "metadata": {
        "id": "XjNFEPZ2WyjY"
      },
      "execution_count": null,
      "outputs": []
    },
    {
      "cell_type": "markdown",
      "source": [
        "### **แบบที่ 3 Categorical scatterplots**\n",
        "\n",
        "*   Strip plots\n",
        "*   Swarm plots"
      ],
      "metadata": {
        "id": "jSL1GYQ3Xzre"
      }
    },
    {
      "cell_type": "markdown",
      "source": [
        "### **Strip plots**"
      ],
      "metadata": {
        "id": "Jz_BlCl2X-KB"
      }
    },
    {
      "cell_type": "code",
      "source": [
        "sns.stripplot(x='day', y='total_bill',\n",
        "              data=tips, jitter=True, hue='sex', palette='Set2')\n",
        "plt.title('Total Bill Amount by Day of the Week and Gender')\n",
        "plt.xlabel('Day of the Week')\n",
        "plt.ylabel('Total Bill Amount ($)')\n",
        "plt.show()"
      ],
      "metadata": {
        "id": "nB-R81MTYCHi"
      },
      "execution_count": null,
      "outputs": []
    },
    {
      "cell_type": "code",
      "source": [
        "sns.catplot(x='day', y='total_bill',\n",
        "              data=tips, jitter=True, hue='sex', palette='Set2')"
      ],
      "metadata": {
        "id": "C4VAI5e4YIMq"
      },
      "execution_count": null,
      "outputs": []
    },
    {
      "cell_type": "markdown",
      "source": [
        "### **Swarm plots**"
      ],
      "metadata": {
        "id": "sDCpaGhkYTfj"
      }
    },
    {
      "cell_type": "code",
      "source": [
        "sns.swarmplot(x='day', y='total_bill',\n",
        "              data=tips, hue='sex', palette='Set2')\n",
        "plt.title('Total Bill Amount by Day of the Week and Gender')\n",
        "plt.xlabel('Day of the Week')\n",
        "plt.ylabel('Total Bill Amount ($)')\n",
        "plt.show()"
      ],
      "metadata": {
        "id": "LdD_QDWmYVfB"
      },
      "execution_count": null,
      "outputs": []
    },
    {
      "cell_type": "code",
      "source": [
        "sns.catplot(data=tips, x='day', y='total_bill', hue='sex', kind='swarm')"
      ],
      "metadata": {
        "id": "6MhtLRvkYgqP"
      },
      "execution_count": null,
      "outputs": []
    },
    {
      "cell_type": "code",
      "source": [
        "sns.catplot(data=tips, x=\"total_bill\", y=\"day\", hue=\"time\", kind=\"swarm\")"
      ],
      "metadata": {
        "id": "mxVa5djUYjAx"
      },
      "execution_count": null,
      "outputs": []
    },
    {
      "cell_type": "markdown",
      "source": [
        "# **FacetGrid**\n",
        "การ plot แบบ categorical เพื่อใช้สำหรับการเปรียบเทียบตัวแปร มีประโยชน์เมื่อต้องการเปรียบเทียบการกระจายตัวของตัวแปรระหว่าง category ต่าง ๆ"
      ],
      "metadata": {
        "id": "cR5GNIyWYrCT"
      }
    },
    {
      "cell_type": "code",
      "source": [
        "grd = sns.FacetGrid(data=tips, col='day', col_wrap=2,)\n",
        "grd = grd.map(sns.scatterplot, 'total_bill', 'tip')\n",
        "grdr = grd.set_titles('{col_name}')\n",
        "grd = grd.set_axis_labels('Total Bill', 'Tip')\n",
        "plt.show()"
      ],
      "metadata": {
        "id": "AVqQFhyuYsV5"
      },
      "execution_count": null,
      "outputs": []
    },
    {
      "cell_type": "markdown",
      "source": [
        "# เอกสารอ้างอิง\n",
        "1. Python Language. https://www.python.org\n",
        "2. Seaborn. https://seaborn.pydata.org/\n",
        "3. Dr. Pooja, Data Visualization with Python (BPB Online, 2023).\n",
        "\n",
        "<img src = 'https://drive.google.com/uc?id=18qUXmnQK3FIPfMCm8m0aKf1Saam6ezdJ'>\n",
        "<img src = 'https://drive.google.com/uc?id=192V5NZG8GXDFzYQIxTRJCSmiBUkc2xys'>"
      ],
      "metadata": {
        "id": "ekW8SuDiaLZn"
      }
    }
  ]
}