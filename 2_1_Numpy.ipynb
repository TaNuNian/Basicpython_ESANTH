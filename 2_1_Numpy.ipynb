{
  "nbformat": 4,
  "nbformat_minor": 0,
  "metadata": {
    "colab": {
      "provenance": [],
      "include_colab_link": true
    },
    "kernelspec": {
      "name": "python3",
      "display_name": "Python 3"
    },
    "language_info": {
      "name": "python"
    }
  },
  "cells": [
    {
      "cell_type": "markdown",
      "metadata": {
        "id": "view-in-github",
        "colab_type": "text"
      },
      "source": [
        "<a href=\"https://colab.research.google.com/github/TaNuNian/Basicpython_ESANTH/blob/main/2_1_Numpy.ipynb\" target=\"_parent\"><img src=\"https://colab.research.google.com/assets/colab-badge.svg\" alt=\"Open In Colab\"/></a>"
      ]
    },
    {
      "cell_type": "code",
      "source": [
        "from google.colab import drive\n",
        "drive.mount('/content/drive',force_remount=True)"
      ],
      "metadata": {
        "colab": {
          "base_uri": "https://localhost:8080/"
        },
        "id": "eEvbpvXQLr1w",
        "outputId": "42d974c9-190e-4c67-ea5f-6d13d7f837da"
      },
      "execution_count": null,
      "outputs": [
        {
          "output_type": "stream",
          "name": "stdout",
          "text": [
            "Mounted at /content/drive\n"
          ]
        }
      ]
    },
    {
      "cell_type": "markdown",
      "source": [
        "<img src = 'https://drive.google.com/uc?id=1prj-mqSRBDZ6j01TFDJGwcDniB-gqVE4' alt = 'image test' width ='1100px'>\n",
        "\n"
      ],
      "metadata": {
        "id": "CCqlk_uu0Omz"
      }
    },
    {
      "cell_type": "markdown",
      "source": [
        "\n",
        "บรรยายโดย <font color='blue'>ผู้ช่วยศาสตราจารย์ ดร.บุรัสกร นันทดิลก</font>\n",
        "\n",
        "สาขาวิชา *Industrial Optimisation and Applications* (international program) และสาขาวิชา *คณิตศาสตร์*\n",
        "\n",
        "คณะวิทยาศาสตร์ มหาวิทยาลัยแม่โจ้ จ.เชียงใหม่"
      ],
      "metadata": {
        "id": "A_3ZLFLnxSde"
      }
    },
    {
      "cell_type": "markdown",
      "source": [
        "คอร์สที่ 2 **Coding for Data scientists** ประกอบด้วย\n",
        "\n",
        "2.1 <font color='darkpurple'>**Numpy**</font>\n",
        "\n",
        "2.2 <font color='darkpurple'>Pandas</font>\n",
        "\n",
        "2.3 <font color='darkpurple'>Matplotlib</font>\n",
        "\n",
        "2.4 <font color='darkpurple'>Seaborn</font>"
      ],
      "metadata": {
        "id": "QCczhZAkPPH8"
      }
    },
    {
      "cell_type": "markdown",
      "source": [
        "#**<font color='darkpurple'>2.1 Numpy**</font>\n",
        "\n",
        "> **NumPy** เป็นไลบรารีของ Python ที่ให้โครงสร้างข้อมูลที่เรียบง่ายแต่ทรงพลัง นั่นคือ ใช้จัดการข้อมูล อาร์เรย์ n มิติ ได้\n",
        "\n",
        "> การเรียนรู้ NumPy จะเป็นก้าวแรกในการเดินทางของนักวิทยาศาสตร์ข้อมูล (Python data scientist)\n",
        "\n",
        "- Array\n",
        "- Array Shapes and Axes\n",
        "- Data Science Operations: Filter, Order, Aggregate"
      ],
      "metadata": {
        "id": "IQmNKwu16PXI"
      }
    },
    {
      "cell_type": "markdown",
      "source": [
        "##<font color='blue'>2.1.1 Array</font>\n",
        "\n",
        "> Array (อาเรย์) คือประเภทข้อมูลที่สามารถเก็บเรียงกันเป็นลำดับได้ หรือข้อมูลที่ระบุตำแหน่งได้\n",
        "\n",
        "> อาจจะเรียงกันเป็นแถวแนวนอน เรียงกันเป็นเป็นแถวแนวตั้ง หรือเรียงกันเป็นตาราง หรือหลายๆตารางซ้อนกัน\n",
        "\n",
        "<img src = 'https://drive.google.com/uc?id=1TBTrhNr7vb5Lkq9Z_mgt0x0FYRIeu7b-' alt = 'image test' width ='500px'>"
      ],
      "metadata": {
        "id": "OujFGEdzsL7U"
      }
    },
    {
      "cell_type": "code",
      "execution_count": null,
      "metadata": {
        "id": "p4ODNjwqngi1"
      },
      "outputs": [],
      "source": [
        "import numpy as np #เรียกใช้งาน numpy และแทนด้วย np"
      ]
    },
    {
      "cell_type": "code",
      "source": [
        "number1D = np.array([1, 2, 3]) #ข้อมูลเรียงกันเป็นแถว (แนวนอน) ขนาด 1 แถว x 3 หลัก"
      ],
      "metadata": {
        "id": "XOEtpzoY1F0O"
      },
      "execution_count": null,
      "outputs": []
    },
    {
      "cell_type": "code",
      "source": [
        "number1D"
      ],
      "metadata": {
        "id": "EYPK-gTE1X9p"
      },
      "execution_count": null,
      "outputs": []
    },
    {
      "cell_type": "code",
      "source": [
        "number1D[2]"
      ],
      "metadata": {
        "id": "wq-9csazlBnv"
      },
      "execution_count": null,
      "outputs": []
    },
    {
      "cell_type": "code",
      "source": [
        "number2D = np.array([ [1,2,3],\n",
        "                      [4,5,6],\n",
        "                      [7,8,9], ]) #ข้อมูลเรียงกันเป็นตารางขนาด 3 แถว x 3 หลัก"
      ],
      "metadata": {
        "id": "0I4ZWpvUopP-"
      },
      "execution_count": null,
      "outputs": []
    },
    {
      "cell_type": "code",
      "source": [
        "number2D"
      ],
      "metadata": {
        "id": "SDFUiu4DUAqM"
      },
      "execution_count": null,
      "outputs": []
    },
    {
      "cell_type": "code",
      "source": [
        "number2D[(2,2)]"
      ],
      "metadata": {
        "id": "ZzhUlSEClLAd"
      },
      "execution_count": null,
      "outputs": []
    },
    {
      "cell_type": "code",
      "source": [
        "#สร้างตัวแปร text1 เพื่อเก็บข้อมูลตัวอักษร a, b, c ในแนวนอน\n",
        "text1 = np.array(['a', 'b', 'c'])"
      ],
      "metadata": {
        "id": "JdaIwtP-6xl6"
      },
      "execution_count": null,
      "outputs": []
    },
    {
      "cell_type": "code",
      "source": [
        "text1"
      ],
      "metadata": {
        "id": "zVhBFc9gUyP3"
      },
      "execution_count": null,
      "outputs": []
    },
    {
      "cell_type": "code",
      "source": [
        "#สร้างตัวแปร text2 เพื่อเก็บข้อมูลตัวอักษร d, e, f ในแนวตั้ง\n",
        "text2 = np.array([['d'],['e'],['f']])"
      ],
      "metadata": {
        "id": "U8NAFiXH7dNj"
      },
      "execution_count": null,
      "outputs": []
    },
    {
      "cell_type": "code",
      "source": [
        "text2"
      ],
      "metadata": {
        "id": "mPub7DMUVHHB"
      },
      "execution_count": null,
      "outputs": []
    },
    {
      "cell_type": "code",
      "source": [
        "#ทดลองสร้างข้อมูล 3 มิติง่ายๆกันขนาด 2x3x4 กัน\n",
        "# 2 ชั้น x 3 แถว x 4 หลัก\n",
        "number3D = np.array([[[1, 2, 3, 4],\n",
        "                      [11, 12, 13, 14],\n",
        "                      [21, 22, 23, 24]],\n",
        "                     [[34, 35, 36, 37],\n",
        "                      [45, 46, 47, 48],\n",
        "                      [56, 57, 58, 59]]])"
      ],
      "metadata": {
        "id": "RpsVXeI62I54"
      },
      "execution_count": null,
      "outputs": []
    },
    {
      "cell_type": "code",
      "source": [
        "number3D"
      ],
      "metadata": {
        "id": "mdqYs_VfhZO4"
      },
      "execution_count": null,
      "outputs": []
    },
    {
      "cell_type": "code",
      "source": [
        "number3D[(0,1,2)] # ทายซิ...ว่าเลขอะไร ??"
      ],
      "metadata": {
        "id": "XW04v70BloG-"
      },
      "execution_count": null,
      "outputs": []
    },
    {
      "cell_type": "markdown",
      "source": [
        "[<font color='red'>**แบบฝึกหัด**</font>] จงสร้างอาเรย์ 2 มิติ เพื่อเก็บข้อมูลของวันที่ 1 และ 2 ไว้ในตัวแปร N1 และ N2 ตามลำดับ\n",
        "\n",
        "และหาค่าเฉลี่ยของอุณหภูมิเฉลี่ยของทั้งสองวันเก็บไว้ใน N3\n",
        "\n",
        "<img src = 'https://drive.google.com/uc?id=15NLul3WmoRXbOG8Bps0vqlcs9jLuRau3' alt = 'image test' width ='350px'>\n"
      ],
      "metadata": {
        "id": "k7T_lQ34V62A"
      }
    },
    {
      "cell_type": "code",
      "source": [
        "import numpy as np"
      ],
      "metadata": {
        "id": "1hJY9pRr2QjZ"
      },
      "execution_count": null,
      "outputs": []
    },
    {
      "cell_type": "code",
      "source": [
        "N1 = np.array([[23.5, 24.7, 25.1],\n",
        "               [35.2 , 34.1 , 32.9]])"
      ],
      "metadata": {
        "id": "AzLat7QOuE_N"
      },
      "execution_count": null,
      "outputs": []
    },
    {
      "cell_type": "code",
      "source": [
        "N2 = np.array([[22.4,24.3,24.9],\n",
        "               [37.1,35.5,34.6]])"
      ],
      "metadata": {
        "id": "D36X8QQ_6sOK"
      },
      "execution_count": null,
      "outputs": []
    },
    {
      "cell_type": "code",
      "source": [
        "N3 = (N1 + N2)/2"
      ],
      "metadata": {
        "id": "fXgSV-M6oZ-b"
      },
      "execution_count": null,
      "outputs": []
    },
    {
      "cell_type": "code",
      "source": [
        "N3"
      ],
      "metadata": {
        "id": "_oFSP_Lwz0Mz",
        "colab": {
          "base_uri": "https://localhost:8080/"
        },
        "outputId": "fe73c781-0e87-4047-825a-780293d86d86"
      },
      "execution_count": null,
      "outputs": [
        {
          "output_type": "execute_result",
          "data": {
            "text/plain": [
              "array([[22.95, 24.5 , 25.  ],\n",
              "       [36.15, 34.8 , 33.75]])"
            ]
          },
          "metadata": {},
          "execution_count": 9
        }
      ]
    },
    {
      "cell_type": "markdown",
      "source": [
        "### ตัวอย่างการใช้งานอาเรย์ ในการปรับคะแนน\n",
        "\n",
        "> การปรับคะแนน :สมมุติว่าคะแนนที่นักศึกษาได้ อาจจะน้อยกว่าที่คาดไว้ เพราะข้อสอบอาจจะยากเกินไป\n",
        "\n",
        "> อาจารย์จะสามารถปรับเกรดง่ายๆได้ดังตัวอย่าง (คะแนนเต็ม = 100)\n",
        "\n"
      ],
      "metadata": {
        "id": "oICN7h9YrtvP"
      }
    },
    {
      "cell_type": "code",
      "source": [
        "import numpy as np"
      ],
      "metadata": {
        "id": "brMhklwFsVSO"
      },
      "execution_count": null,
      "outputs": []
    },
    {
      "cell_type": "code",
      "source": [
        "scores = np.array([71, 36, 63, 87, 49, 74, 10])"
      ],
      "metadata": {
        "id": "B1zsp7VAsq8s"
      },
      "execution_count": null,
      "outputs": []
    },
    {
      "cell_type": "code",
      "source": [
        "np.mean(scores) #คำนวณคะแนนเฉลี่ย"
      ],
      "metadata": {
        "id": "UOcKfWojBcaJ",
        "colab": {
          "base_uri": "https://localhost:8080/"
        },
        "outputId": "dbb9f3f2-416d-4bac-d4de-389a50473cce"
      },
      "execution_count": null,
      "outputs": [
        {
          "output_type": "execute_result",
          "data": {
            "text/plain": [
              "55.714285714285715"
            ]
          },
          "metadata": {},
          "execution_count": 11
        }
      ]
    },
    {
      "cell_type": "code",
      "source": [
        "CURVE_CENTER = 75 #ค่าที่ใช้ปรับค่าเฉลี่ย"
      ],
      "metadata": {
        "id": "VF6yaDa1sfsH"
      },
      "execution_count": null,
      "outputs": []
    },
    {
      "cell_type": "code",
      "source": [
        "def adjust(scores):\n",
        "  average = scores.mean()\n",
        "  print('Average =', average)\n",
        "  change = CURVE_CENTER - average\n",
        "  print('Change =', change)\n",
        "  new_scores = scores + change\n",
        "  print('New scores=',new_scores)\n",
        "  return np.clip(new_scores, scores, 100)"
      ],
      "metadata": {
        "id": "SHIYGOzptCUy"
      },
      "execution_count": null,
      "outputs": []
    },
    {
      "cell_type": "code",
      "source": [
        "adjust(scores)"
      ],
      "metadata": {
        "id": "SoznDpoCuNR9",
        "colab": {
          "base_uri": "https://localhost:8080/"
        },
        "outputId": "ccf5136f-271a-4f98-ab7c-3e72154abf14"
      },
      "execution_count": null,
      "outputs": [
        {
          "output_type": "stream",
          "name": "stdout",
          "text": [
            "Average = 55.714285714285715\n",
            "Change = 19.285714285714285\n",
            "New scores= [ 90.28571429  55.28571429  82.28571429 106.28571429  68.28571429\n",
            "  93.28571429  29.28571429]\n"
          ]
        },
        {
          "output_type": "execute_result",
          "data": {
            "text/plain": [
              "array([ 90.28571429,  55.28571429,  82.28571429, 100.        ,\n",
              "        68.28571429,  93.28571429,  29.28571429])"
            ]
          },
          "metadata": {},
          "execution_count": 14
        }
      ]
    },
    {
      "cell_type": "markdown",
      "source": [
        "##<font color='blue'>2.1.2 Array Shapes and Axes</font>\n",
        "\n",
        "\n",
        "> อาร์เรย์ทั้งหมดมีคุณสมบัติที่เรียกว่า .shape ซึ่งส่งกลับค่าเป็นขนาดในแต่ละมิติ\n",
        "\n",
        "> มิติของข้อมูลเป็นเท่าไร ไม่ใช่สิ่งสำคัญ  แต่สิ่งที่สำคัญจริงๆ คืออาร์เรย์ที่คุณส่งไปยังฟังก์ชันจะต้องมีรูปร่างตามที่ฟังก์ชันคาดหวัง\n",
        "\n",
        "> วิธีทั่วไปในการยืนยันว่าข้อมูลมีรูปร่างที่เหมาะสมคือ การพิมพ์ข้อมูลและรูปร่างจนกว่าจะแน่ใจว่า ทุกอย่างทำงานได้ตามที่คาดหวัง"
      ],
      "metadata": {
        "id": "geT9rqbey1jw"
      }
    },
    {
      "cell_type": "markdown",
      "source": [
        "###1.) Shapes\n",
        "\n",
        "> shape (รูปร่าง) บอกจำนวนชั้น/แถว/หลัก\n",
        "\n",
        "\n",
        "<img src = 'https://drive.google.com/uc?id=1xKFEWL2SodhfYKONCqCmKP10qmGYQn--' alt = 'image test' width ='550px'>"
      ],
      "metadata": {
        "id": "AjP8fJfhAFdT"
      }
    },
    {
      "cell_type": "code",
      "source": [
        "import numpy as np"
      ],
      "metadata": {
        "id": "tuN71Lem24xb"
      },
      "execution_count": null,
      "outputs": []
    },
    {
      "cell_type": "code",
      "source": [
        "a1 = np.array([1, 2, 3, 4]) # 1d-array"
      ],
      "metadata": {
        "id": "SNwdXSm33VCN"
      },
      "execution_count": null,
      "outputs": []
    },
    {
      "cell_type": "code",
      "source": [
        "a1.shape"
      ],
      "metadata": {
        "id": "5H2NEY863kJo"
      },
      "execution_count": null,
      "outputs": []
    },
    {
      "cell_type": "code",
      "source": [
        "a2 = np.array([[1, 2, 3, 4],\n",
        "               [5, 6, 7, 8]]) # 2d-array"
      ],
      "metadata": {
        "id": "ccKqPTsm33Zp"
      },
      "execution_count": null,
      "outputs": []
    },
    {
      "cell_type": "code",
      "source": [
        "a2.shape"
      ],
      "metadata": {
        "id": "3r1DKE3I3--P"
      },
      "execution_count": null,
      "outputs": []
    },
    {
      "cell_type": "code",
      "source": [
        "a3 = np.array([[[1, 2, 3, 4],\n",
        "                [5, 6, 7, 8]],\n",
        "               [[1, 2, 3, 4],\n",
        "                [5, 6, 7, 8]],\n",
        "               [[1, 2, 3, 4],\n",
        "                [5, 6, 7, 8]]]) # 3d-array"
      ],
      "metadata": {
        "id": "0PBMWzHM4k7Z"
      },
      "execution_count": null,
      "outputs": []
    },
    {
      "cell_type": "code",
      "source": [
        "a3.shape"
      ],
      "metadata": {
        "id": "ZMj5CTcG4lam",
        "colab": {
          "base_uri": "https://localhost:8080/"
        },
        "outputId": "9a90bbe9-dcd5-46cb-db0a-2ff6783012ca"
      },
      "execution_count": null,
      "outputs": [
        {
          "output_type": "execute_result",
          "data": {
            "text/plain": [
              "(3, 2, 4)"
            ]
          },
          "metadata": {},
          "execution_count": 17
        }
      ]
    },
    {
      "cell_type": "code",
      "source": [
        "temperatures = np.array([29.3, 42.1, 18.8, 16.1, 38.1, 12.0, 12.5, 48.7, 39.9, 33.1, 9.9, 22.3]).reshape(2,2,3)"
      ],
      "metadata": {
        "id": "DJ24ovn-5OG-"
      },
      "execution_count": null,
      "outputs": []
    },
    {
      "cell_type": "code",
      "source": [
        "temperatures.shape"
      ],
      "metadata": {
        "id": "By8KksN05wt5"
      },
      "execution_count": null,
      "outputs": []
    },
    {
      "cell_type": "code",
      "source": [
        "temperatures #3d-array"
      ],
      "metadata": {
        "id": "fMEApJEU57kI"
      },
      "execution_count": null,
      "outputs": []
    },
    {
      "cell_type": "code",
      "source": [
        "np.swapaxes(temperatures, 1, 2) #สลับระหว่าง แถว กับ หลัก"
      ],
      "metadata": {
        "id": "1O2S9eWW6VFe"
      },
      "execution_count": null,
      "outputs": []
    },
    {
      "cell_type": "markdown",
      "source": [
        "<font color='red'>16.1 เดิมอยู่ที่ตำแหน่ง (0,1,0) ย้ายไปอยู่ที่ตำแหน่ง (0,0,1)</font>\n",
        "\n",
        "<font color='red'>39.9 เดิมอยู่ที่ตำแหน่ง (1,0,2) ย้ายไปอยู่ที่ตำแหน่ง (1,2,0)</font>\n"
      ],
      "metadata": {
        "id": "gIjK9u8R7cBQ"
      }
    },
    {
      "cell_type": "code",
      "source": [
        "np.swapaxes(temperatures, 0, 1) #สลับระหว่าง ชั้น กับ แถว"
      ],
      "metadata": {
        "id": "ol6VcR5LGGgx"
      },
      "execution_count": null,
      "outputs": []
    },
    {
      "cell_type": "markdown",
      "source": [
        "<font color='red'>16.1 เดิมอยู่ที่ตำแหน่ง (0,1,0) ย้ายไปอยู่ที่ตำแหน่ง (1,0,0)</font>\n",
        "\n",
        "<font color='red'>39.9 เดิมอยู่ที่ตำแหน่ง (1,0,2) ย้ายไปอยู่ที่ตำแหน่ง (0,1,2)</font>"
      ],
      "metadata": {
        "id": "b8qahyvK8SfG"
      }
    },
    {
      "cell_type": "markdown",
      "source": [
        "###2.) Axes\n",
        "> axis (แกน)\n",
        "\n",
        "<img src = 'https://drive.google.com/uc?id=1xKFEWL2SodhfYKONCqCmKP10qmGYQn--' alt = 'image test' width ='550px'>"
      ],
      "metadata": {
        "id": "iZtBzGvJAM0J"
      }
    },
    {
      "cell_type": "code",
      "source": [
        "import numpy as np"
      ],
      "metadata": {
        "id": "8Zk20HYsAcyg"
      },
      "execution_count": null,
      "outputs": []
    },
    {
      "cell_type": "code",
      "source": [
        "table1 =np.array([1, 2, 3, 4, 5, 6, 7, 8, 9, 10, 11, 12, 13, 14, 15, 16]).reshape(4,4)"
      ],
      "metadata": {
        "id": "EvzZwGzoAmLw"
      },
      "execution_count": null,
      "outputs": []
    },
    {
      "cell_type": "code",
      "source": [
        "table1"
      ],
      "metadata": {
        "id": "rZzWpf6JBIfT"
      },
      "execution_count": null,
      "outputs": []
    },
    {
      "cell_type": "code",
      "source": [
        "table1.max()"
      ],
      "metadata": {
        "id": "pH-P_MYJCdDZ"
      },
      "execution_count": null,
      "outputs": []
    },
    {
      "cell_type": "code",
      "source": [
        "table1.max(axis=0)"
      ],
      "metadata": {
        "id": "1M_LZqadCkc2"
      },
      "execution_count": null,
      "outputs": []
    },
    {
      "cell_type": "code",
      "source": [
        "table1.max(axis=1)"
      ],
      "metadata": {
        "id": "E678dSc9C7Az"
      },
      "execution_count": null,
      "outputs": []
    },
    {
      "cell_type": "code",
      "source": [
        "table2 =np.array([1, 2, 13, 14, 5, 6, 7, 8, 9, 10, 11, 12, 3, 4, 15, 16]).reshape(4,2,2)"
      ],
      "metadata": {
        "id": "IHpWMLnhDa1x"
      },
      "execution_count": null,
      "outputs": []
    },
    {
      "cell_type": "code",
      "source": [
        "table2"
      ],
      "metadata": {
        "id": "jO9y6CHlDii8"
      },
      "execution_count": null,
      "outputs": []
    },
    {
      "cell_type": "code",
      "source": [
        "table2.max(axis=0)"
      ],
      "metadata": {
        "id": "5bs0itpFDxWm"
      },
      "execution_count": null,
      "outputs": []
    },
    {
      "cell_type": "code",
      "source": [
        "table2.max(axis=1)"
      ],
      "metadata": {
        "id": "zL9yPnFJEUMe"
      },
      "execution_count": null,
      "outputs": []
    },
    {
      "cell_type": "code",
      "source": [
        "table2.max(axis=2)"
      ],
      "metadata": {
        "id": "8emSGRihE_Xz"
      },
      "execution_count": null,
      "outputs": []
    },
    {
      "cell_type": "markdown",
      "source": [
        "[<font color='red'>**แบบฝึกหัด**</font>] จงสร้างอาเรย์ 3 มิติ ขนาด (2,3,2) เพื่อเก็บข้อมูล 1 - 12 ไว้ในตัวแปร num3d\n",
        "\n",
        "และหาค่า min เมื่อ axis = 1"
      ],
      "metadata": {
        "id": "7TJQAy7FAQOI"
      }
    },
    {
      "cell_type": "code",
      "source": [
        "import numpy as np"
      ],
      "metadata": {
        "id": "43t7jDVQ2UhS"
      },
      "execution_count": null,
      "outputs": []
    },
    {
      "cell_type": "code",
      "source": [
        "num3d = np.array([[[1],[2],\n",
        "                   [3],[4],\n",
        "                   [5],[6]],\n",
        "                  [[7],[8],\n",
        "                   [9],[10],\n",
        "                   [11],[12]]])"
      ],
      "metadata": {
        "id": "3demTAGNAuwQ"
      },
      "execution_count": null,
      "outputs": []
    },
    {
      "cell_type": "code",
      "source": [
        "num3d.min(axis=1)"
      ],
      "metadata": {
        "id": "vXzYNC5yA5mD",
        "colab": {
          "base_uri": "https://localhost:8080/"
        },
        "outputId": "31d2799b-ea81-46d4-ec11-82b10a2da084"
      },
      "execution_count": null,
      "outputs": [
        {
          "output_type": "execute_result",
          "data": {
            "text/plain": [
              "array([[1],\n",
              "       [7]])"
            ]
          },
          "metadata": {},
          "execution_count": 22
        }
      ]
    },
    {
      "cell_type": "code",
      "source": [
        "min = num3d.min(axis=1)"
      ],
      "metadata": {
        "id": "X58Tqlh52uD4"
      },
      "execution_count": null,
      "outputs": []
    },
    {
      "cell_type": "markdown",
      "source": [
        "##<font color='blue'>2.1.3 Data Science Operations: Filter, Order, Aggregate</font>\n",
        "\n",
        "> กรองข้อมูล, จัดเรียงข้อมูล, การนำข้อมูลมาต่อกัน"
      ],
      "metadata": {
        "id": "gzHHhOka5ARi"
      }
    },
    {
      "cell_type": "markdown",
      "source": [
        "###1.) Masking\n",
        "\n",
        "> การกรองข้อมูลโดยใช้ mask"
      ],
      "metadata": {
        "id": "1tqkvRcS7R7b"
      }
    },
    {
      "cell_type": "markdown",
      "source": [
        "> **mask** คือ อาเรย์ที่มีขนาดเท่ากันกับขนาดข้อมูลของเรา แต่ไม่ใช้อาเรย์ที่เก็บข้อมูล เป็นอาเรย์ที่เก็บค่า True หรือ False\n",
        "\n",
        "เราสามารถใช้ mask เพื่อเป็น index ของข้อมูลได้ ซึ่ง*จะได้ค่าข้อมูลที่เป็น True ออกมา*\n"
      ],
      "metadata": {
        "id": "Dp2bfng_BrdF"
      }
    },
    {
      "cell_type": "code",
      "source": [
        "import numpy as np"
      ],
      "metadata": {
        "id": "A0HA6czU4-no"
      },
      "execution_count": null,
      "outputs": []
    },
    {
      "cell_type": "code",
      "source": [
        "np.linspace(0, 10, 25)"
      ],
      "metadata": {
        "id": "AVpguiuECUjn"
      },
      "execution_count": null,
      "outputs": []
    },
    {
      "cell_type": "code",
      "source": [
        "np.linspace(0, 10, 25, dtype = int)"
      ],
      "metadata": {
        "id": "71tUz56eDTG6"
      },
      "execution_count": null,
      "outputs": []
    },
    {
      "cell_type": "code",
      "source": [
        "numbers = np.linspace(5, 50 ,25, dtype = int).reshape(5,-1) #Reshaping an array with -1"
      ],
      "metadata": {
        "id": "qZLeIY6L77Ru"
      },
      "execution_count": null,
      "outputs": []
    },
    {
      "cell_type": "code",
      "source": [
        "numbers"
      ],
      "metadata": {
        "id": "z5gCZ-rC8YNU"
      },
      "execution_count": null,
      "outputs": []
    },
    {
      "cell_type": "code",
      "source": [
        "mask = numbers % 5 == 0 #modulo"
      ],
      "metadata": {
        "id": "HnQoT3G4-c9-"
      },
      "execution_count": null,
      "outputs": []
    },
    {
      "cell_type": "code",
      "source": [
        "mask"
      ],
      "metadata": {
        "id": "liivuePv_9tG"
      },
      "execution_count": null,
      "outputs": []
    },
    {
      "cell_type": "code",
      "source": [
        "numbers[mask]"
      ],
      "metadata": {
        "id": "xtaQvLDoAR-g"
      },
      "execution_count": null,
      "outputs": []
    },
    {
      "cell_type": "code",
      "source": [
        "by_five = numbers[numbers % 5 == 0]"
      ],
      "metadata": {
        "id": "O3mJwnppAmvb"
      },
      "execution_count": null,
      "outputs": []
    },
    {
      "cell_type": "code",
      "source": [
        "by_five"
      ],
      "metadata": {
        "id": "EDZXEes5BGpm"
      },
      "execution_count": null,
      "outputs": []
    },
    {
      "cell_type": "code",
      "source": [
        "by_five.shape"
      ],
      "metadata": {
        "id": "9vaicKhXFmjB"
      },
      "execution_count": null,
      "outputs": []
    },
    {
      "cell_type": "markdown",
      "source": [
        "###2.) Transposing\n",
        "\n",
        "> การจัดเรียงข้อมูลโดยสลับแถวและหลัก"
      ],
      "metadata": {
        "id": "JCG5kT5hKEJG"
      }
    },
    {
      "cell_type": "code",
      "source": [
        "import numpy as np"
      ],
      "metadata": {
        "id": "01fWaEuRKDgu"
      },
      "execution_count": null,
      "outputs": []
    },
    {
      "cell_type": "code",
      "source": [
        "a = np.array([[1, 2],\n",
        "              [3, 4],\n",
        "              [5, 6]])"
      ],
      "metadata": {
        "id": "6GSnj4wSKUuC"
      },
      "execution_count": null,
      "outputs": []
    },
    {
      "cell_type": "code",
      "source": [
        "a"
      ],
      "metadata": {
        "id": "eWdC3ghFKqRb"
      },
      "execution_count": null,
      "outputs": []
    },
    {
      "cell_type": "code",
      "source": [
        "a.T"
      ],
      "metadata": {
        "id": "FVuHl91YKnhY"
      },
      "execution_count": null,
      "outputs": []
    },
    {
      "cell_type": "code",
      "source": [
        "a.transpose()"
      ],
      "metadata": {
        "id": "o4hX7N21Kurc"
      },
      "execution_count": null,
      "outputs": []
    },
    {
      "cell_type": "markdown",
      "source": [
        "###3.) Sorting\n",
        "\n",
        "> การจัดเรียงข้อมูลโดยเรียงลำดับข้อมูลจากน้อยไปหามาก"
      ],
      "metadata": {
        "id": "4-_m-6UkLCIf"
      }
    },
    {
      "cell_type": "code",
      "source": [
        "import numpy as np"
      ],
      "metadata": {
        "id": "DdYqGGqrK9rU"
      },
      "execution_count": null,
      "outputs": []
    },
    {
      "cell_type": "code",
      "source": [
        "data = np.array([[3, 1, 5],\n",
        "                 [5, 7, 6],\n",
        "                 [1, 8, 9]])"
      ],
      "metadata": {
        "id": "bEcua4UiLK4s"
      },
      "execution_count": null,
      "outputs": []
    },
    {
      "cell_type": "code",
      "source": [
        "data"
      ],
      "metadata": {
        "id": "W4jJIFMgLh3P"
      },
      "execution_count": null,
      "outputs": []
    },
    {
      "cell_type": "code",
      "source": [
        "np.sort(data)"
      ],
      "metadata": {
        "id": "WpjLe8ukLi3-"
      },
      "execution_count": null,
      "outputs": []
    },
    {
      "cell_type": "code",
      "source": [
        "data"
      ],
      "metadata": {
        "id": "Qeyjz4i7Ltz3"
      },
      "execution_count": null,
      "outputs": []
    },
    {
      "cell_type": "code",
      "source": [
        "np.sort(data, axis = None)"
      ],
      "metadata": {
        "id": "3pRASUabLxbV"
      },
      "execution_count": null,
      "outputs": []
    },
    {
      "cell_type": "code",
      "source": [
        "np.sort(data, axis = 0)"
      ],
      "metadata": {
        "id": "KaXR6Mj6MbZV"
      },
      "execution_count": null,
      "outputs": []
    },
    {
      "cell_type": "markdown",
      "source": [
        "###4.) Concatenating\n",
        "\n",
        "> การรวมข้อมูล หรือเอาข้อมูลมาต่อกัน"
      ],
      "metadata": {
        "id": "R-S2zmhiMiG8"
      }
    },
    {
      "cell_type": "code",
      "source": [
        "import numpy as np"
      ],
      "metadata": {
        "id": "WCOJBBBIMdbv"
      },
      "execution_count": null,
      "outputs": []
    },
    {
      "cell_type": "code",
      "source": [
        "a = np.array([[1, 2],\n",
        "              [6, 7]])"
      ],
      "metadata": {
        "id": "SmHngHJwMvYg"
      },
      "execution_count": null,
      "outputs": []
    },
    {
      "cell_type": "code",
      "source": [
        "b = np.array([[3, 5],\n",
        "              [8, 9]])"
      ],
      "metadata": {
        "id": "xUYwWHoZM7OO"
      },
      "execution_count": null,
      "outputs": []
    },
    {
      "cell_type": "code",
      "source": [
        "np.hstack((a, b))"
      ],
      "metadata": {
        "id": "muHFcaFtNDI-"
      },
      "execution_count": null,
      "outputs": []
    },
    {
      "cell_type": "code",
      "source": [
        "np.vstack((a, b))"
      ],
      "metadata": {
        "id": "UhuihoTZNJul"
      },
      "execution_count": null,
      "outputs": []
    },
    {
      "cell_type": "code",
      "source": [
        "np.vstack((b, a))"
      ],
      "metadata": {
        "id": "CQgfxneiNMIN"
      },
      "execution_count": null,
      "outputs": []
    },
    {
      "cell_type": "code",
      "source": [
        "np.concatenate((a, b))"
      ],
      "metadata": {
        "id": "4wr9XuOxNUhw"
      },
      "execution_count": null,
      "outputs": []
    },
    {
      "cell_type": "code",
      "source": [
        "np.concatenate((a, b), axis = None)"
      ],
      "metadata": {
        "id": "DMYEptGNNefA"
      },
      "execution_count": null,
      "outputs": []
    },
    {
      "cell_type": "markdown",
      "source": [
        "[<font color='red'>**แบบฝึกหัด**</font>] จากภาพ จงนำข้อมูลของทั้ง 4 คน มาต่อกันและเรียงข้อมูลให้ถูกต้องตามเวลา\n",
        "\n",
        "เมื่อกำหนดอาเรย์ T1, T2, T3, และ T4  แทนข้อมูลของคนที่ 1, 2, 3, และ 4 ตามลำดับ"
      ],
      "metadata": {
        "id": "QR8xSfPwBhsW"
      }
    },
    {
      "cell_type": "markdown",
      "source": [
        "<img src = 'https://drive.google.com/uc?id=1xxgkT7ctMkyivPRLbxzfA7HiDXzSLr-1' alt = 'image test' width ='550px'>"
      ],
      "metadata": {
        "id": "Rf45P9WBBVxE"
      }
    },
    {
      "cell_type": "code",
      "source": [
        "import numpy as np"
      ],
      "metadata": {
        "id": "9gftoKgC39HC"
      },
      "execution_count": null,
      "outputs": []
    },
    {
      "cell_type": "code",
      "source": [
        "#T1 =\n",
        "#T2 =\n",
        "#T3 =\n",
        "#T4 ="
      ],
      "metadata": {
        "id": "b-jSL6Yr6iMp"
      },
      "execution_count": null,
      "outputs": []
    },
    {
      "cell_type": "code",
      "source": [
        "#T1324 = np.hstack()"
      ],
      "metadata": {
        "id": "S0gqd_JPDfDi"
      },
      "execution_count": null,
      "outputs": []
    },
    {
      "cell_type": "code",
      "source": [
        "#T1324"
      ],
      "metadata": {
        "id": "JkM2L7OdOngE"
      },
      "execution_count": null,
      "outputs": []
    },
    {
      "cell_type": "code",
      "source": [
        "#TT = np.hstack()"
      ],
      "metadata": {
        "id": "PzZUcauhJVGG"
      },
      "execution_count": null,
      "outputs": []
    },
    {
      "cell_type": "code",
      "source": [
        "#TT"
      ],
      "metadata": {
        "id": "l4gdJ6d9JY7_"
      },
      "execution_count": null,
      "outputs": []
    },
    {
      "cell_type": "markdown",
      "source": [
        "#**เอกสารอ้างอิง**\n",
        "\n",
        "> https://www.programiz.com/python-programming/operators\n",
        "\n",
        "> https://realpython.com/numpy-tutorial/\n",
        "\n",
        "> https://www.geeksforgeeks.org/numpy-tutorial/\n",
        "\n",
        "> https://www.w3schools.com/python/numpy/default.asp\n",
        "\n",
        "> หรือค้นหาในเว็บเบราว์เซอร์ ด้วยคำว่า \"Data Science, Numpy\""
      ],
      "metadata": {
        "id": "a5yHtLGFYXoS"
      }
    },
    {
      "cell_type": "markdown",
      "source": [
        "<img src = 'https://drive.google.com/uc?id=1yV9MzBC4w8J58eKhK8iCuo_O7ttjo4tQ' alt = 'image test' width ='1100px'>"
      ],
      "metadata": {
        "id": "yKHLkdduYYJT"
      }
    }
  ]
}