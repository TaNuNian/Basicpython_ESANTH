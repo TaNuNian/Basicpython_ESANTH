{
  "nbformat": 4,
  "nbformat_minor": 0,
  "metadata": {
    "colab": {
      "provenance": [],
      "include_colab_link": true
    },
    "kernelspec": {
      "name": "python3",
      "display_name": "Python 3"
    },
    "language_info": {
      "name": "python"
    }
  },
  "cells": [
    {
      "cell_type": "markdown",
      "metadata": {
        "id": "view-in-github",
        "colab_type": "text"
      },
      "source": [
        "<a href=\"https://colab.research.google.com/github/TaNuNian/Basicpython_ESANTH/blob/main/Live2_NP_MPL.ipynb\" target=\"_parent\"><img src=\"https://colab.research.google.com/assets/colab-badge.svg\" alt=\"Open In Colab\"/></a>"
      ]
    },
    {
      "cell_type": "code",
      "source": [
        "from google.colab import drive\n",
        "drive.mount('/content/drive',force_remount=True)"
      ],
      "metadata": {
        "colab": {
          "base_uri": "https://localhost:8080/"
        },
        "id": "kiJvSOeg78tI",
        "outputId": "e8209fe8-e2ae-4581-8865-cab5cdee5cab"
      },
      "execution_count": null,
      "outputs": [
        {
          "output_type": "stream",
          "name": "stdout",
          "text": [
            "Mounted at /content/drive\n"
          ]
        }
      ]
    },
    {
      "cell_type": "markdown",
      "source": [
        "#NUMPY"
      ],
      "metadata": {
        "id": "Xqp6xxnCO3LN"
      }
    },
    {
      "cell_type": "markdown",
      "source": [
        "\n",
        "<img src = 'https://drive.google.com/uc?id=1j_ch3SxN0idRj9Fv6ye8NTeC8ZwweSxT' alt = 'image test' width ='500px'>\n"
      ],
      "metadata": {
        "id": "LQ_JzHz9K0Tl"
      }
    },
    {
      "cell_type": "markdown",
      "source": [
        "1. จงสร้างอาเรย์ที่ชื่อว่า random_list (1 มิติ) เพื่อสุ่มสร้างข้อมูลยอดขายสินค้าในปี 2022 ของจังหวัดเชียงใหม่ สงขลา ขอนแก่น และกาญจนบุรี ในแต่ละเดือน ตั้งแต่เดือนมกราคม ถึง เดือนธันวาคม โดยที่ข้อมูลมีค่าระหว่าง 'วันที่ของวันเกิดของผู้เรียน' กับ '200'\n",
        "\n",
        "> แปลโจทย์ก่อนว่ามีทั้งหมดกี่ข้อมูล ??\n",
        "\n",
        "2. สมมุติว่า ข้อมูล 4 ตัวแรก คือข้อมูลในเดือนมกราคมของจังหวัดเชียงใหม่ สงขลา ขอนแก่น และกาญจนบุรี ตามลำดับ ข้อมูล 4 ตัวถัดไป คือข้อมูลในเดือนกุมภาพันธ์ของจังหวัดเชียงใหม่ สงขลา ขอนแก่น และกาญจนบุรี ตามลำดับ ... จงสร้างอาเรย์ที่ชื่อว่า random_table (2 มิติ)  เพื่อเก็บข้อมูลจากข้อ 1. ให้มีจำนวนแถวทั้งหมด 12 แถว\n",
        "\n",
        "3. จงหาว่าในจังหวัดเชียงใหม่ สงขลา ขอนแก่น และกาญจนบุรี มียอดขายสูงสุดอยู่ที่เดือนละเท่าไร และเก็บไว้ในตัวแปร Max_Province\n",
        "\n",
        "4. จงหาว่าในแต่ละเดือน มียอดขายสูงสุดอยู่ที่เท่าไร และเก็บไว้ในตัวแปร Max_Month\n",
        "\n",
        "5. จงหาว่ามียอดขายสูงสุดต่อเดือนอยู่ที่เท่าไร และเก็บไว้ในตัวแปร Max_All\n",
        "\n",
        "6. จงกรองข้อมูลยอดขายที่มากว่า 100 ว่ามียอดขายเป็นเท่าไรบ้าง และเก็บไว้ในตัวแปร morethan_100 และนับว่ามีกี่ข้อมูล"
      ],
      "metadata": {
        "id": "afvZIp4z7d1Y"
      }
    },
    {
      "cell_type": "code",
      "execution_count": null,
      "metadata": {
        "id": "GxpTK3h05UBO"
      },
      "outputs": [],
      "source": [
        "import numpy as np\n",
        "import random"
      ]
    },
    {
      "cell_type": "code",
      "source": [
        "#1\n",
        "random_list = np.array(random.sample(range(13, 200), 48))\n",
        "random_list"
      ],
      "metadata": {
        "id": "GbyaQpm57RU3",
        "outputId": "fef4918f-7cb9-4102-9547-9c6ea60bcef0",
        "colab": {
          "base_uri": "https://localhost:8080/"
        }
      },
      "execution_count": null,
      "outputs": [
        {
          "output_type": "execute_result",
          "data": {
            "text/plain": [
              "array([171, 139,  94, 157, 192, 162,  24,  80, 173, 147, 122,  28, 169,\n",
              "        47,  57,  97, 107,  25, 146, 116, 144, 188,  50, 189, 198, 136,\n",
              "       187,  42, 176,  37, 115, 121,  63, 135, 120, 159,  14,  59,  21,\n",
              "       119,  69, 182, 164, 131,  92, 104, 195, 183])"
            ]
          },
          "metadata": {},
          "execution_count": 2
        }
      ]
    },
    {
      "cell_type": "code",
      "source": [
        "#2\n",
        "random_table = random_list.reshape(12,-1)\n",
        "random_table"
      ],
      "metadata": {
        "id": "vs0KMCsYAbxt"
      },
      "execution_count": null,
      "outputs": []
    },
    {
      "cell_type": "code",
      "source": [
        "#3\n",
        "Max_Province = random_table.max(axis = 0)\n",
        "Max_Province"
      ],
      "metadata": {
        "id": "pup392weAt4k"
      },
      "execution_count": null,
      "outputs": []
    },
    {
      "cell_type": "code",
      "source": [
        "#4\n",
        "Max_Month = random_table.max(axis = 1)\n",
        "Max_Month"
      ],
      "metadata": {
        "id": "rD0Trq-2F4aZ"
      },
      "execution_count": null,
      "outputs": []
    },
    {
      "cell_type": "code",
      "source": [
        "#5\n",
        "Max_All = random_table.max()\n",
        "Max_All"
      ],
      "metadata": {
        "id": "RWYsMi_1GnNR"
      },
      "execution_count": null,
      "outputs": []
    },
    {
      "cell_type": "code",
      "source": [
        "#6\n",
        "morethan_100 = random_table[random_table > 100]\n",
        "morethan_100"
      ],
      "metadata": {
        "id": "g0qfWk9UHTd1"
      },
      "execution_count": null,
      "outputs": []
    },
    {
      "cell_type": "code",
      "source": [
        "#6\n",
        "morethan_100.shape"
      ],
      "metadata": {
        "id": "ZxE3ATB8IcZI"
      },
      "execution_count": null,
      "outputs": []
    },
    {
      "cell_type": "markdown",
      "source": [
        "#MATPLOTLIB"
      ],
      "metadata": {
        "id": "WaGNtXjhO-RU"
      }
    },
    {
      "cell_type": "markdown",
      "source": [
        "1. จงวาดกราฟเพื่อเปรียบเที่ยบ ยอดขายแต่ละเดือนของ\n",
        "\n",
        " >1.1 เชียงใหม่ และ สงขลา\n",
        "\n",
        " >1.2 สงขลา และ ขอนแก่น\n",
        "\n",
        " >1.3 ขอแก่น และ กาญจนบุรี\n",
        "\n",
        "2. จงวาดกราฟจากข้อ 1.1, 1.2, และ 1.3 ไว้ใน figure เดียวกัน\n"
      ],
      "metadata": {
        "id": "MWgkqOnbQaeT"
      }
    },
    {
      "cell_type": "code",
      "source": [
        "import matplotlib.pyplot as plt"
      ],
      "metadata": {
        "id": "Zk3U-Q5zO9Ar"
      },
      "execution_count": null,
      "outputs": []
    },
    {
      "cell_type": "code",
      "source": [
        "x = np.linspace(1, 12, 12)\n",
        "x"
      ],
      "metadata": {
        "id": "Nan4kp3JPJUX"
      },
      "execution_count": null,
      "outputs": []
    },
    {
      "cell_type": "code",
      "source": [
        "y1 = random_table[:,0]\n",
        "y1"
      ],
      "metadata": {
        "id": "36y2v49hPV-q"
      },
      "execution_count": null,
      "outputs": []
    },
    {
      "cell_type": "code",
      "source": [
        "y2 = random_table[:,1]\n",
        "y2"
      ],
      "metadata": {
        "id": "f5siFtDZPqcs"
      },
      "execution_count": null,
      "outputs": []
    },
    {
      "cell_type": "code",
      "source": [
        "y3 = random_table[:,2]\n",
        "y3"
      ],
      "metadata": {
        "id": "SzIbjK9wP2ML"
      },
      "execution_count": null,
      "outputs": []
    },
    {
      "cell_type": "code",
      "source": [
        "y4 = random_table[:,3]\n",
        "y4"
      ],
      "metadata": {
        "id": "DzOoQLyxP5vQ"
      },
      "execution_count": null,
      "outputs": []
    },
    {
      "cell_type": "code",
      "source": [
        "#1.1\n",
        "fig = plt.figure(figsize=(4,3), facecolor='lightblue', edgecolor='black', linewidth = 4)\n",
        "ax = fig.add_axes([0,0,1,1])\n",
        "ax1 = ax.plot(x,y1)\n",
        "ax2 = ax.plot(x,y2)\n",
        "\n",
        "ax.set_title(\"Chiangmai VS. Songkhla\", fontsize = 10, color = \"red\")\n",
        "ax.set_xlabel('Month')\n",
        "ax.set_ylabel('Revenue (Baht)')\n",
        "\n",
        "#plt.xlim(1,31)\n",
        "#plt.ylim(35,38)\n",
        "\n",
        "plt.xticks(x,labels=[\"Jan\", \"Feb\", \"Mar\", \"Apr\", \"May\", \"Jun\", \"Jul\", \"Aug\", \"Sep\", \"Oct\", \"Nov\", \"Dec\"])\n",
        "\n",
        "plt.legend([\"Chiangmai\", \"Songkhla\"])\n",
        "\n",
        "plt.show()"
      ],
      "metadata": {
        "id": "asgg7m0sP9xL"
      },
      "execution_count": null,
      "outputs": []
    },
    {
      "cell_type": "code",
      "source": [
        "#1.2\n",
        "fig = plt.figure(figsize=(4,3), facecolor='lightblue', edgecolor='black', linewidth = 4)\n",
        "ax = fig.add_axes([0,0,1,1])\n",
        "ax1 = ax.plot(x,y2)\n",
        "ax2 = ax.plot(x,y3)\n",
        "\n",
        "ax.set_title(\"Songkhla VS. Khon Kaen\", fontsize = 10, color = \"red\")\n",
        "ax.set_xlabel('Month')\n",
        "ax.set_ylabel('Revenue (Baht)')\n",
        "\n",
        "#plt.xlim(1,31)\n",
        "#plt.ylim(35,38)\n",
        "\n",
        "plt.xticks(x,labels=[\"Jan\", \"Feb\", \"Mar\", \"Apr\", \"May\", \"Jun\", \"Jul\", \"Aug\", \"Sep\", \"Oct\", \"Nov\", \"Dec\"])\n",
        "\n",
        "plt.legend([\"Songkhla\", \"Khon Kaen\"])\n",
        "\n",
        "plt.show()"
      ],
      "metadata": {
        "id": "ide98hEQSeKi"
      },
      "execution_count": null,
      "outputs": []
    },
    {
      "cell_type": "code",
      "source": [
        "#1.3\n",
        "fig = plt.figure(figsize=(4,3), facecolor='lightblue', edgecolor='black', linewidth = 4)\n",
        "ax = fig.add_axes([0,0,1,1])\n",
        "ax1 = ax.plot(x,y3)\n",
        "ax2 = ax.plot(x,y4)\n",
        "\n",
        "ax.set_title(\"Khon Kaen VS. Kanchanaburi\", fontsize = 10, color = \"red\")\n",
        "ax.set_xlabel('Month')\n",
        "ax.set_ylabel('Revenue (Baht)')\n",
        "\n",
        "#plt.xlim(1,31)\n",
        "#plt.ylim(35,38)\n",
        "\n",
        "plt.xticks(x,labels=[\"Jan\", \"Feb\", \"Mar\", \"Apr\", \"May\", \"Jun\", \"Jul\", \"Aug\", \"Sep\", \"Oct\", \"Nov\", \"Dec\"])\n",
        "\n",
        "plt.legend([\"Khon Kaen\", \"Kanchanaburi\"])\n",
        "\n",
        "plt.show()"
      ],
      "metadata": {
        "id": "aJBwUGQwTedy"
      },
      "execution_count": null,
      "outputs": []
    },
    {
      "cell_type": "code",
      "source": [
        "#2\n",
        "fig, axes = plt.subplots(1,3, figsize=(15, 4), sharey=True)\n",
        "\n",
        "axes[0].plot(x,y1)\n",
        "axes[0].plot(x,y2)\n",
        "axes[0].set_title(\"Chiangmai VS. Songkhla\", fontsize = 8, color = \"red\")\n",
        "axes[0].legend([\"Chiangmai\", \"Songkhla\"])\n",
        "\n",
        "axes[1].plot(x,y2)\n",
        "axes[1].plot(x,y3)\n",
        "axes[1].set_title(\"Songkhla VS. Khon Kaen\", fontsize = 8, color = \"red\")\n",
        "axes[1].legend([\"Songkhla\", \"Khon Kaen\"])\n",
        "\n",
        "axes[2].plot(x,y3)\n",
        "axes[2].plot(x,y4)\n",
        "axes[2].set_title(\"Khon Kaen VS. Kanchanaburi\", fontsize = 8, color = \"red\")\n",
        "axes[2].legend([\"Khon Kaen\", \"Kanchanaburi\"])\n",
        "\n",
        "plt.show()"
      ],
      "metadata": {
        "id": "mJGCofeYT21w"
      },
      "execution_count": null,
      "outputs": []
    }
  ]
}