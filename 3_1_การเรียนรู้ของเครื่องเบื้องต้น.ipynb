{
  "nbformat": 4,
  "nbformat_minor": 0,
  "metadata": {
    "colab": {
      "provenance": [],
      "include_colab_link": true
    },
    "kernelspec": {
      "name": "python3",
      "display_name": "Python 3"
    },
    "language_info": {
      "name": "python"
    }
  },
  "cells": [
    {
      "cell_type": "markdown",
      "metadata": {
        "id": "view-in-github",
        "colab_type": "text"
      },
      "source": [
        "<a href=\"https://colab.research.google.com/github/TaNuNian/Basicpython_ESANTH/blob/main/3_1_%E0%B8%81%E0%B8%B2%E0%B8%A3%E0%B9%80%E0%B8%A3%E0%B8%B5%E0%B8%A2%E0%B8%99%E0%B8%A3%E0%B8%B9%E0%B9%89%E0%B8%82%E0%B8%AD%E0%B8%87%E0%B9%80%E0%B8%84%E0%B8%A3%E0%B8%B7%E0%B9%88%E0%B8%AD%E0%B8%87%E0%B9%80%E0%B8%9A%E0%B8%B7%E0%B9%89%E0%B8%AD%E0%B8%87%E0%B8%95%E0%B9%89%E0%B8%99.ipynb\" target=\"_parent\"><img src=\"https://colab.research.google.com/assets/colab-badge.svg\" alt=\"Open In Colab\"/></a>"
      ]
    },
    {
      "cell_type": "markdown",
      "source": [
        "<img src = 'https://drive.google.com/uc?id=18zsxFId1FaUI1RvfkAex6ZoNpToP8GoT'>"
      ],
      "metadata": {
        "id": "Qo98jkVQvf42"
      }
    },
    {
      "cell_type": "markdown",
      "source": [
        "# ผู้เรียบเรียงเนื้อหา: ดร.เปรม จันทร์สว่าง\n",
        "## สาขาวิชาสถิติ คณะวิทยาศาตร์ มหาวิทยาลัยขอนแก่น\n",
        "\n",
        "# ผู้บรรยาย: ดร.วิธวินท์ สุสุทธิ\n",
        "## ภาควิชาคณิตศาสตร์ คณะวิทยาศาสตร์ มหาวิทยาลัยเทคโนโลยีพระจอมเกล้าธนบุรี"
      ],
      "metadata": {
        "id": "0A2rO2g7cFjk"
      }
    },
    {
      "cell_type": "markdown",
      "source": [
        "#  **การเรียนรู้ของเครื่องเบื้องต้น (Introduction to machine learning)**\n",
        "\n",
        "\n",
        "*   แนวคิดการเรียนรู้ของเครื่อง (Concept of Machine Learning)\n",
        "*   ขั้นตอนการพัฒนาตัวแบบการเรียนรู้ของเครื่อง (Machine learning workflow)\n",
        "*   scikit-learn และตัวอย่างการพัฒนา ML ด้วย  sklearn ใน python (scikit-learn and an example)      \n",
        "*   การเรียนรู้แบบมีผู้สอน (Supervised learning)\n",
        "*   การเรียนรู้แบบไม่มีผู้สอน (Unsupervised learning)"
      ],
      "metadata": {
        "id": "7As_a94xvmqZ"
      }
    },
    {
      "cell_type": "markdown",
      "source": [
        "## **แนวคิดการเรียนรู้ของเครื่อง**\n",
        "\n",
        "- ปัญญาประดิษฐ์ (Artificial Intelligence, AI) คืออะไร ?\n",
        "- การเรียนรู้ของเครื่อง (Machine learning, ML) คืออะไร ?"
      ],
      "metadata": {
        "id": "Tu3rcEHgvorH"
      }
    },
    {
      "cell_type": "markdown",
      "source": [
        "### **ปัญญาประดิษฐ์ (Artificial Intelligence, AI) คืออะไร ?**\n",
        "\n",
        "\n",
        "<img src='https://images.datacamp.com/image/upload/f_auto,q_auto:best/v1542231692/Artificial_Intelligence_qhcetx.jpg'>\n",
        "\n",
        "[Image Ref:](t.ly/OY9CD)\n",
        "\n",
        "Ref:[Click](https://www.datacamp.com/tutorial/machine-deep-learning?utm_source=google&utm_medium=paid_search&utm_campaignid=19589720824&utm_adgroupid=143216588537&utm_device=c&utm_keyword=&utm_matchtype=&utm_network=g&utm_adpostion=&utm_creative=671350460579&utm_targetid=dsa-1947282172981&utm_loc_interest_ms=&utm_loc_physical_ms=9073383&utm_content=dsa~page~community-tuto&utm_campaign=230119_1-sea~dsa~tutorials_2-b2c_3-row-p2_4-prc_5-na_6-na_7-le_8-pdsh-go_9-na_10-na_11-na-sep23&gclid=Cj0KCQjw0vWnBhC6ARIsAJpJM6cQ8yWeUNR9jfJ3Qgeymtv3PrCfyACOHUtUCPChamIwLTzNfOfTrJAaAlVTEALw_wcB)\n",
        "\n",
        "ระบบคอมพิวเตอร์ที่มีความสามารถเลียนแบบความสามารถในการรับรู้ของมนุษย์ได้แก่ การรับรู้ การให้เหตุผล การกระทำ และการปรับตัว ผ่านการเรียนรู้จากข้อมูล หรือที่เรียกว่าเป็น วิธีการบนพื้นฐานของข้อมูล (Data-driven approach) โดยมีเป้าหมายในการเรียนรู้เพื่อตรวจหารูปแบบความสำคัญที่ช่วยในการจำแนกวัตถุต่างๆ หรือความสัมพันธ์ที่ซ่อนอยู่ในข้อมูลที่มีปริมาณมหาศาลและมีความหลากหลาย  \n",
        "\n",
        "**ตัวอย่างการประยุกต์ใช้ AI** เช่น\n",
        "\n",
        "[รถยนต์ไร้คนขับ](https://www.youtube.com/watch?v=tlThdr3O5Qo)\n",
        "\n",
        " <img src = 'https://drive.google.com/uc?id=1N-qJZJEAH8wqLLYAFRIq_atA8kYG5ncg' alt = 'ML workflow' width ='700px' height = '500px'>\n",
        "\n",
        "\n",
        "\n",
        "[ระบบแนะนำหนัง](https://www.youtube.com/watch?v=kuC38ZCcbZI)\n",
        "\n",
        "<img src = 'https://drive.google.com/uc?id=1cTYH1s0bY16oCieXcM4saRooIARRsXdz' alt = 'ML workflow' width ='700px' height = '500px'>\n",
        "\n",
        "และ [realtime cars detection](https://www.youtube.com/watch?v=9jRRZ-WL698&t=5s)  \n",
        "\n",
        "<img src = 'https://drive.google.com/uc?id=1XyGrsM_2E4Dc5UwlDF7fzY62geLR_B6Z' alt = 'ML workflow' width ='700px' height = '500px'>"
      ],
      "metadata": {
        "id": "EmoPDgU2wC28"
      }
    },
    {
      "cell_type": "markdown",
      "source": [
        "### **การเรียนรู้ของเครื่อง (Machine learning, ML) คืออะไร ?**\n",
        "\n",
        "การเรียนรู้ของเครื่อง (Machine learning) เป็นวิธีการที่ใช้ศาสตร์ทางสถิติ คณิตศาสตร์ และวิทยาการคอมพิวเตอร์ เพื่อสอนให้คอมพิวเตอร์สามารถเรียนรู้องค์ความรู้ที่ซ่อนอยู่ในข้อมูล ผ่านการเรียนรู้เพื่อค้นหารูปแบบความสัมพันธ์จากข้อมูล โดยกลุ่มวิธีการการเรียนรู้ของเครื่องจะแบ่งได้ 3 กลุ่มด้วยกันได้แก่\n",
        "\n",
        "- การเรียนรู้แบบมีผู้สอน (Supervised learning)\n",
        "- การเรียนรู้แบบไม่มีผู้สอน (Unsupervised learning)\n",
        "- การเรียนรู้แบบเสริมกำลัง (Reinforcement learning)\n",
        "\n",
        "<img src='https://drive.google.com/uc?id=1rmA8BjRz6RCCq_hDj7HaBocrGL-Gd9nT'>\n"
      ],
      "metadata": {
        "id": "Jmw19lG0wbHa"
      }
    },
    {
      "cell_type": "markdown",
      "source": [
        "<img src = 'https://drive.google.com/uc?id=18qUXmnQK3FIPfMCm8m0aKf1Saam6ezdJ'>\n",
        "<img src = 'https://drive.google.com/uc?id=192V5NZG8GXDFzYQIxTRJCSmiBUkc2xys'>"
      ],
      "metadata": {
        "id": "QKuC-S4BxoMk"
      }
    }
  ]
}