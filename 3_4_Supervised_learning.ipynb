{
  "nbformat": 4,
  "nbformat_minor": 0,
  "metadata": {
    "colab": {
      "provenance": [],
      "include_colab_link": true
    },
    "kernelspec": {
      "name": "python3",
      "display_name": "Python 3"
    },
    "language_info": {
      "name": "python"
    }
  },
  "cells": [
    {
      "cell_type": "markdown",
      "metadata": {
        "id": "view-in-github",
        "colab_type": "text"
      },
      "source": [
        "<a href=\"https://colab.research.google.com/github/TaNuNian/Basicpython_ESANTH/blob/main/3_4_Supervised_learning.ipynb\" target=\"_parent\"><img src=\"https://colab.research.google.com/assets/colab-badge.svg\" alt=\"Open In Colab\"/></a>"
      ]
    },
    {
      "cell_type": "markdown",
      "source": [
        "<img src = 'https://drive.google.com/uc?id=18zsxFId1FaUI1RvfkAex6ZoNpToP8GoT'>"
      ],
      "metadata": {
        "id": "H4Uj8GCG6KCQ"
      }
    },
    {
      "cell_type": "markdown",
      "source": [
        "# ผู้เรียบเรียงเนื้อหา: ดร.เปรม จันทร์สว่าง\n",
        "## สาขาวิชาสถิติ คณะวิทยาศาตร์ มหาวิทยาลัยขอนแก่น\n",
        "\n",
        "# ผู้บรรยาย: ดร.วิธวินท์ สุสุทธิ\n",
        "## ภาควิชาคณิตศาสตร์ คณะวิทยาศาสตร์ มหาวิทยาลัยเทคโนโลยีพระจอมเกล้าธนบุรี"
      ],
      "metadata": {
        "id": "Nd_8KpzfHfgz"
      }
    },
    {
      "cell_type": "markdown",
      "source": [
        "## **การเรียนรู้แบบมีผู้สอน (Supervised learning)**\n",
        "- แนวคิดการเรียนรู้แบบมีผู้สอน\n",
        "- ปัญหา Overfitting และ underfitting\n",
        "- ตัวอย่าง classification models และ model selection."
      ],
      "metadata": {
        "id": "wzChZvG86PVL"
      }
    },
    {
      "cell_type": "markdown",
      "source": [
        "### **1. แนวคิดการเรียนรู้แบบมีผู้สอน (Concept of supervised learning)**\n",
        "\n",
        "**การเรียนรู้แบบมีผู้สอน** (Supervised learning) เป็นแนวคิดการพัฒนาหรือสอนตัวแบบเพื่อให้ตัวแบบสามารถเรียนรู้รูปแบบความสัมพันธ์ระหว่างตัวแปรต้นและตัวแปรตาม ซึ่งในที่นี้ตัวแปรตามจะเรียกว่า '*ตัวแปรเป้าหมาย (Target variable)*' โดยสามารถแบ่งกลุ่มวิธีการเรียนรู้แบบมีผู้สอนออกเป็น 2 กลุ่ม ตามลักษณะของตัวแปรเป้าหมาย ดังนี้"
      ],
      "metadata": {
        "id": "ZwwvqIIm6iKg"
      }
    },
    {
      "cell_type": "markdown",
      "source": [
        "> **ตัวแบบเชิงจำแนก** (Classification models)\n",
        "ตัวแบบที่พัฒนาเพื่อเรียนรู้รูปแบบความสัมพันธ์ระหว่างตัวแปรต้นและตัวแปรเป้าหมาย (Target variable) โดยที่ตัวแปรเป้าหมายเป็นชนิดไม่ต่อเนื่องหรือตัวแปรเชิงจำแนก (Categorical variable) ค่าที่เป็นไปได้ของตัวแปรเป้าหมายจะเรียกว่า ป้ายระบุกลุ่ม (Class labels) ถ้าค่าที่เป็นไปได้ของตัวแปรเป้าหมาย มี 2 ประเภท จะเรียกว่า ตัวแปรเชิงจำแนกแบบสองกลุ่ม (Binary classification models) และถ้าค่าที่เป็นไปได้ของตัวแปรเป้าหมาย มีมากกว่า 2 ประเภท จะเรียกว่า ตัวแปรเชิงจำแนกแบบหลายกลุ่ม (Multiclass classification models) เช่นตัวแบบจำแนกผู้ป่วยโรคเบาหวาน (ป้ายระบุกลุ่มคือ เป็นโรค หรือไม่เป็นโรค) ตัวแบบจำแนกอีเมลสแปม (ป้ายระบุกลุ่มคือ อีเมลสแปม หรืออีเมลปกติ) ตัวแบบจำแนกตัวอักษร (ป้ายระบุกลุ่มคือ A, B, C, D,..., Z) เป็นต้น     \n",
        "\n",
        "> **ตัวแบบเชิงถดถอย** (Regression model) ตัวแบบที่พัฒนาเพื่อเรียนรู้รูปแบบความสัมพันธ์ระหว่างตัวแปรต้นและตัวแปรเป้าหมาย (Target variable) โดยที่ตัวแปรเป้าหมายเป็นชนิดต่อเนื่อง ตัวอย่างเช่นตัวแบบพยากรณ์ปริมาณน้ำฝนจากข้อมูลสภาพภูมิอากาศ หรือตัวแบบทำนายค่า pm 2.5 ล่วงหน้าหนึ่งสัปดาห์ เป็นต้น\n",
        "\n",
        "\n",
        "<img src = 'https://drive.google.com/uc?id=1gnh2BvVirXMy4g-UnQpIhAOElaxLZxi-' alt = 'Supervised learning' width ='550px' height = '700px'>\n",
        "\n",
        "\n",
        "\n",
        "ตัวอย่างข้อมูลสำหรับการพัฒนาตัวแบบการเรียนรู้แบบมีผู้สอน\n",
        "\n",
        "<img src = 'https://drive.google.com/uc?id=1CAphL7sie0nlH7OkZFVREdRLbbiPk5sM' alt = 'Supervised learning' width ='400px' height = '400px'>"
      ],
      "metadata": {
        "id": "atR5U3KJ6tJe"
      }
    },
    {
      "cell_type": "markdown",
      "source": [
        "### **2. ปัญหา Overfitting และ underfitting**\n",
        " ปัญหาที่มักพบในการพัฒนาตัวแบบการเรียนรู้ของเครื่องคือปัญหา Overfitting และปัญหา Underfitting"
      ],
      "metadata": {
        "id": "hTOpS0aC61K0"
      }
    },
    {
      "cell_type": "markdown",
      "source": [
        "#### **ปัญหา Overfitting** คือการที่ตัวแบบสามารถเรียนรู้รูปแบบข้อมูลได้ดีในข้อมูลชุดสอนแต่ไม่สามารถจำแนกข้อมูลในข้อมูลชุดทดสอบ กล่าวคือตัวแบบทำงานได้ดีเฉพาะข้อมูลที่ใช้ในการสอนหรือจดจำข้อมูลในชุดสอนมากเกินไปจนไม่สามารถจำแนกข้อมูลในชุดทดสอบได้\n",
        "\n",
        "<img src = 'https://drive.google.com/uc?id=1BMSAY62Q6WOFOxn3W5LPTe-ewa7H90xb' alt = 'ML workflow' width ='700px' height = '500px'>  "
      ],
      "metadata": {
        "id": "tbY2xZyd7DrE"
      }
    },
    {
      "cell_type": "markdown",
      "source": [
        "#### **ปัญหา Underfitting** คือการที่ตัวแบบไม่สามารถเรียนรู้รูปแบบข้อมูลได้ดีทั้งในข้อมูลชุดสอนและในข้อมูลชุดทดสอบ\n",
        "\n",
        "<img src = 'https://drive.google.com/uc?id=1dqb8vC-SEeEeB01raO1dLn87gUCPcJhH' alt = 'ML workflow' width ='700px' height = '500px'>\n",
        "\n",
        "#### **อ้างอิง**\n",
        "\n",
        "[ref1](https://www.simplilearn.com/tutorials/machine-learning-tutorial/overfitting-and-underfitting)\n",
        "\n",
        "[ref2](https://towardsdatascience.com/overfitting-and-underfitting-principles-ea8964d9c45c)"
      ],
      "metadata": {
        "id": "Wy-_Mvq27pTt"
      }
    },
    {
      "cell_type": "markdown",
      "source": [
        "### **3.ตัวอย่างการพัฒนาตัวแบบเชิงจำแนกและการเลือกตัวแบบ**\n",
        "ตัวอย่างนี้จะเป็นการสร้างตัวแบบเชิงจำแนกเพื่อจำแนกรูปภาพตัวเลข 0-9 โดยมีขั้นตอนดังนี้\n",
        "\n",
        "ขั้นตอนที่ 1. ดึงข้อมูลรูป\n",
        "\n",
        "ขั้นตอนที่ 2. สำรวจข้อมูลรูป\n",
        "\n",
        "ขั้นตอนที่ 3. เตรียมข้อมูล\n",
        "\n",
        "ขั้นตอนที่ 4. พัฒนาและตรวจสอบตัวแบบ\n",
        "\n",
        "ขั้นตอนที่ 5. ประเมินตัวแบบ"
      ],
      "metadata": {
        "id": "X4JBQMyl85FC"
      }
    },
    {
      "cell_type": "markdown",
      "source": [
        "**ขั้นตอนที่ 1 ดึงข้อมูล**"
      ],
      "metadata": {
        "id": "f0cjkWmm9Gcw"
      }
    },
    {
      "cell_type": "code",
      "execution_count": null,
      "metadata": {
        "id": "pwrakbpw6FYS"
      },
      "outputs": [],
      "source": [
        "from sklearn.datasets import load_digits\n",
        "dat_digits = load_digits()"
      ]
    },
    {
      "cell_type": "markdown",
      "source": [
        "**ขั้นตอนที่ 2 สำรวจข้อมูล**"
      ],
      "metadata": {
        "id": "Nj9ghEDL9NvB"
      }
    },
    {
      "cell_type": "code",
      "source": [
        "print(f'Keys: {dat_digits.keys()}')"
      ],
      "metadata": {
        "id": "3pQWUigw9Rgn"
      },
      "execution_count": null,
      "outputs": []
    },
    {
      "cell_type": "code",
      "source": [
        "print(dat_digits.DESCR)"
      ],
      "metadata": {
        "id": "IstC0ht59SWy"
      },
      "execution_count": null,
      "outputs": []
    },
    {
      "cell_type": "code",
      "source": [
        "dat_digits.target_names"
      ],
      "metadata": {
        "id": "3mMAfRQd9WOa"
      },
      "execution_count": null,
      "outputs": []
    },
    {
      "cell_type": "code",
      "source": [
        "dat_digits.data.shape"
      ],
      "metadata": {
        "id": "iG7YzoDZ9Wyx"
      },
      "execution_count": null,
      "outputs": []
    },
    {
      "cell_type": "code",
      "source": [
        "dat_digits.images[10]"
      ],
      "metadata": {
        "id": "mHWZYMmv9ZQh"
      },
      "execution_count": null,
      "outputs": []
    },
    {
      "cell_type": "code",
      "source": [
        "dat_digits.data[10,:]"
      ],
      "metadata": {
        "id": "KbFAQ23e9dHN"
      },
      "execution_count": null,
      "outputs": []
    },
    {
      "cell_type": "markdown",
      "source": [
        "ตัวอย่างภาพ 24 รูปแรก\n",
        "\n",
        "<img src = 'https://drive.google.com/uc?id=1FnXl2rctdkxKOTlK67gOsGfN98mdF_AQ' alt = 'ML workflow' width ='700px' height = '500px'>"
      ],
      "metadata": {
        "id": "uI_Y8Utg9jdF"
      }
    },
    {
      "cell_type": "markdown",
      "source": [
        "**ขั้นตอนที่ 3 เตรียมข้อมูล**\n",
        "ขั้นตอนนี้จะเป็นการแบ่งข้อมูลเพื่อสอนตัวแบบ ตรวจสอบตัวแบบ และทดสอบตัวแบบ"
      ],
      "metadata": {
        "id": "utkVsnuQ99NJ"
      }
    },
    {
      "cell_type": "code",
      "source": [
        "from sklearn.model_selection import train_test_split\n",
        "X_train, X_test, y_train, y_test = train_test_split(dat_digits.data, dat_digits.target, test_size = 0.2, random_state=40)"
      ],
      "metadata": {
        "id": "kewYznL_-C00"
      },
      "execution_count": null,
      "outputs": []
    },
    {
      "cell_type": "code",
      "source": [
        "X_train1, X_valid, y_train1, y_valid = train_test_split(X_train, y_train, test_size = 0.1, random_state=40)"
      ],
      "metadata": {
        "id": "AywORR0j-LGu"
      },
      "execution_count": null,
      "outputs": []
    },
    {
      "cell_type": "markdown",
      "source": [
        "**ขั้นตอนที่ 4 พัฒนาและตรวจสอบตัวแบบ**"
      ],
      "metadata": {
        "id": "WrM-UFx2-VVp"
      }
    },
    {
      "cell_type": "code",
      "source": [
        "knn_n = [1,3,5]\n",
        "\n",
        "from sklearn.neighbors import KNeighborsClassifier\n",
        "\n",
        "knn_acc = [0]*len(knn_n)\n",
        "for i in range(3):\n",
        "  knn = KNeighborsClassifier(n_neighbors = knn_n[i])\n",
        "  knn.fit(X_train1, y_train1)\n",
        "  knn_acc[i] = knn.score(X_valid, y_valid)"
      ],
      "metadata": {
        "id": "lZAUUdKY-csG"
      },
      "execution_count": null,
      "outputs": []
    },
    {
      "cell_type": "code",
      "source": [
        "dt_cri = ['gini','entropy', 'log_loss']\n",
        "from sklearn.tree import DecisionTreeClassifier\n",
        "dt_acc = [0]*len(knn_n)\n",
        "for i in range(3):\n",
        "  dt = DecisionTreeClassifier(criterion =dt_cri[i], random_state=0)\n",
        "  dt.fit(X_train1, y_train1)\n",
        "  dt_acc[i] = dt.score(X_valid, y_valid)"
      ],
      "metadata": {
        "id": "1inEKo9z-hMn"
      },
      "execution_count": null,
      "outputs": []
    },
    {
      "cell_type": "markdown",
      "source": [
        "**ขั้นตอนที่ 5 ประเมินตัวแบบ**"
      ],
      "metadata": {
        "id": "ENB4Kq7K-Xag"
      }
    },
    {
      "cell_type": "code",
      "source": [
        "import numpy as np\n",
        "best_knn = np.argmax(knn_acc)\n",
        "best_dt = np.argmax(dt_acc)\n",
        "print('Performance on validation dataset')\n",
        "print(f'Best k of KNN: {knn_n[best_knn]} / Acc = {knn_acc[best_knn]:.2f}')\n",
        "print(f'Best criterion of DT: {dt_cri[best_dt]} / Acc = {dt_acc[best_dt]:.2f}')"
      ],
      "metadata": {
        "id": "J5bLXrvQ-pys"
      },
      "execution_count": null,
      "outputs": []
    },
    {
      "cell_type": "code",
      "source": [
        "knn_best = KNeighborsClassifier(n_neighbors = 1)\n",
        "knn_best.fit(X_train,y_train)\n",
        "dt_best = DecisionTreeClassifier(criterion = 'entropy', random_state=0)\n",
        "dt_best.fit(X_train,y_train)\n",
        "acc_knn_best = knn_best.score(X_test,y_test)\n",
        "acc_dt_best = dt_best.score(X_test,y_test)\n",
        "print('Acc on test dataset:')\n",
        "print(f'Best acc of KNN = {acc_knn_best:.2f}')\n",
        "print(f'Best acc of DT = {acc_dt_best:.2f}')"
      ],
      "metadata": {
        "id": "aWtAceDe-t4D"
      },
      "execution_count": null,
      "outputs": []
    },
    {
      "cell_type": "markdown",
      "source": [
        "<img src = 'https://drive.google.com/uc?id=18qUXmnQK3FIPfMCm8m0aKf1Saam6ezdJ'>\n",
        "<img src = 'https://drive.google.com/uc?id=192V5NZG8GXDFzYQIxTRJCSmiBUkc2xys'>"
      ],
      "metadata": {
        "id": "oL-_as4V-6aH"
      }
    }
  ]
}