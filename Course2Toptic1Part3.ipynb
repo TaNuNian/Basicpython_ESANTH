{
  "cells": [
    {
      "cell_type": "markdown",
      "metadata": {
        "id": "view-in-github",
        "colab_type": "text"
      },
      "source": [
        "<a href=\"https://colab.research.google.com/github/TaNuNian/Basicpython_ESANTH/blob/main/Course2Toptic1Part3.ipynb\" target=\"_parent\"><img src=\"https://colab.research.google.com/assets/colab-badge.svg\" alt=\"Open In Colab\"/></a>"
      ]
    },
    {
      "cell_type": "markdown",
      "metadata": {
        "id": "hSZx5CXGMJYJ",
        "jp-MarkdownHeadingCollapsed": true,
        "tags": []
      },
      "source": [
        "<img src = 'https://drive.google.com/uc?id=18zsxFId1FaUI1RvfkAex6ZoNpToP8GoT'>"
      ]
    },
    {
      "cell_type": "markdown",
      "metadata": {
        "id": "gp6Zuvm5CZm6"
      },
      "source": [
        "---"
      ]
    },
    {
      "cell_type": "markdown",
      "metadata": {
        "id": "dTEnS9ttMJYP"
      },
      "source": [
        "# ผู้บรรยาย: ผู้ช่วยศาสตราจารย์ ดร. วีระชัย สาระคร\n",
        "## สาขาวิชาคณิตศาสตร์ คณะวิทยาศาสตร์ มหาวิทยาลัยขอนแก่น"
      ]
    },
    {
      "cell_type": "markdown",
      "metadata": {
        "id": "4pTnJFDqCZm7"
      },
      "source": [
        "---"
      ]
    },
    {
      "cell_type": "markdown",
      "metadata": {
        "id": "Do-3ccWrMJYQ",
        "tags": []
      },
      "source": [
        "# Topic 1: Basic Python Programming for Data Scientists"
      ]
    },
    {
      "cell_type": "markdown",
      "metadata": {
        "id": "EAgs0SVfMJYX",
        "tags": []
      },
      "source": [
        "# 1.5 การเรียกใช้งานชุดคำสั่งหรือไลบรารีต่างๆ\n",
        "ในภาษาไพทอน ชุดคำสั่งที่เป็นจำเป็นที่สร้างขึ้นสำหรับนำไปใช้ในการคำนวณหรือแก้ปัญหาเฉพาะทางโดยนักพัฒนาได้เก็บไว้ในมอดูล(Modules)และไลบรารี(Libraries) ที่ถูกติดตั้งมาพร้อมกับภาษาไพทอน\n",
        "\n",
        "### มอดูล (Modules)\n",
        "คือไฟล์ที่ถูกเขียนขึ้นด้วยภาษาไพทอนซึ่งลงท้ายด้วยนามสกุล .py\n",
        "มอดูลประกอบด้วยฟังก์ชัน คลาส และตัวแปรต่าง ๆ ที่ถูกจัดเก็บไว้เพื่อให้ผู้พัฒนาหรือนักพัฒนาทั่วไปสามารถนำไปใช้ได้\n",
        "\n",
        "### ไลบรารี (Libraries)\n",
        "คือชุดคำสั่งและฟังก์ชันที่ถูกพัฒนาขึ้นและจัดเก็บไว้เพื่อให้นักพัฒนาสามารถนำไปใช้ต่อได้\n",
        "ไลบรารีเป็นชุดของมอดูลที่ถูกสร้างขึ้นเพื่อประโยชน์ในวงกว้าง\n",
        "\n",
        "### ตัวอย่างมอดูลและไลบรารีที่จำเป็นสำหรับวิทยาการข้อมูล\n",
        "1. มอดูล `math` ใช้สำหรับการคำนวณทางคณิตศาสตร์\n",
        "2. มอดูล `statistics` ใช้สำหรับการคำนวณข้อมูลเชิงสถิติ\n",
        "3. ไลบรารี `NumPy` ใช้สำหรับการคำนวณที่เกี่ยวกับอาร์เรย์และเมทริกซ์\n",
        "4. ไลบรารี `Pandas` ใช้สำหรับการจัดการข้อมูลโครงสร้างแบบตาราง\n",
        "5. ไลบรารี `Matplotlib` ใช้สำหรับการวาดกราฟและแสดงผล\n",
        "6. ไลบรารี `Seaborn`  ใช้สำหรับการวาดกราฟและแสดงผล\n",
        "7. ไลบรารี `Scikit-Learn` ใช้สำหรับการประยุกต์ใช้การเรียนรู้ของเครื่อง(Machine Learning: ML)\n",
        "เป็นต้น\n",
        "\n",
        "สำหรับคำสั่งพื้นฐานทั่วไป นักพัฒนาสามารถเรียกใช้งานคำสั่งนั้นได้โดยตรง ในขณะที่คำสั่งต่างๆที่เก็บไว้ในมอดูลหรือไลบรารีนั้น นักพัฒนาจะต้องสั่งการให้ภาษาไพทอนนำเข้า(import)มาก่อน แล้วค่อยเรียกใช้งานคำสั่งต่างๆภายในมอดูลหรือไลบรารีนั้นได้\n",
        "\n",
        "### การเรียกใช้งานมอดูลหรือไลบรารี\n",
        "การเรียกใช้งานงานมอดูลหรือไลบรารีสามารถใช้คำสั่งดังนี้\n",
        "```\n",
        "import desired_module_or_library\n",
        "```\n",
        "เมื่อ `desired_module_or_library` เป็นมอดูลหรือไลบรารีที่ต้องการเรียกใช้งาน นอกจากนี้ การเรียกใช้งานมอดูลหรือไลบรารีที่ต้องการแล้ว ภาษาไพทอนยังยอมให้ผู้ใช้งานตั้งชื่อไลบรารีที่เรียกใช้งานเป็นชื่อใหม่ตามที่ต้องการได้ โดยใช้คำสั่งดังนี้\n",
        "```\n",
        "import desired_module_or_library as new_module_or_library_name\n",
        "```\n",
        "เมื่อ `new_module_or_library_name`เป็นชื่อเรียกใหม่ของไลบรารี `desired_module(library)` เดิม\n",
        "อย่างไรก็ตาม หากไม่ต้องการอ้างอิงชื่อมอดูลหรือไลบรารีนำหน้าคำสั่งที่อยู่ภายในมอดูลหรือไลบรารีนั้น สามารถใช้คำสั่งดังนี้\n",
        "```\n",
        "from desired_module_or_library import *\n",
        "```"
      ]
    },
    {
      "cell_type": "markdown",
      "metadata": {
        "id": "XfhHJnxlMJYY"
      },
      "source": [
        "**ตัวอย่าง 1.5.1** ตัวอย่างการเรียกใช้งานมอดูล `math` คำสั่งเป็นดังนี้"
      ]
    },
    {
      "cell_type": "code",
      "execution_count": null,
      "metadata": {
        "id": "zTqTg3OkMJYY"
      },
      "outputs": [],
      "source": [
        "import math"
      ]
    },
    {
      "cell_type": "markdown",
      "metadata": {
        "id": "UJGG0B05MJYY"
      },
      "source": [
        "กรณีเรียกใช้งานงานมอดูล `math` แต่ตั้งชื่อใหม่ให้เป็น `m` คำสั่งเป็นดังนี้"
      ]
    },
    {
      "cell_type": "code",
      "execution_count": null,
      "metadata": {
        "id": "zVmwrlCuMJYY"
      },
      "outputs": [],
      "source": [
        "import math as m"
      ]
    },
    {
      "cell_type": "markdown",
      "metadata": {
        "id": "v2tcoNcFzV2j"
      },
      "source": [
        "หรือ กรณีไม่ต้องการอ้างอิงชื่อไลบรารี `math` คำสั่งเป็นดังนี้"
      ]
    },
    {
      "cell_type": "code",
      "execution_count": null,
      "metadata": {
        "id": "b1hYelsJzV2j"
      },
      "outputs": [],
      "source": [
        "from math import *"
      ]
    },
    {
      "cell_type": "markdown",
      "metadata": {
        "id": "l2nZMV0JVqGC"
      },
      "source": [
        "# 1.6 มอดูลทางคณิตศาสตร์\n",
        "เป็นไลบรารีที่รวบรวมชุดคำสั่งหรือฟังก์ชันต่างๆ ทางคณิตศาสตร์ ในที่นี้จะแนะนำ ฟังก์ชันเกี่ยวกับการดำเนินการเลขคณิตและค่าคงที่  ฟังก์ชันตรีโกณมิติ ฟังก์ชันไฮเพอร์โบลิก ฟังก์ชันกำลัง ฟังก์ชันเอ็กซ์โพเนนเชียล ฟังก์ชันลอการิทึมและฟังก์ชันเกี่ยวกับจำนวนเชิงซ้อน ตามลำดับ"
      ]
    },
    {
      "cell_type": "markdown",
      "metadata": {
        "id": "phh2urpcCN3e"
      },
      "source": [
        "## 1.6.1 ฟังก์ชันเกี่ยวกับการดำเนินการเลขคณิตและค่าคงที่\n",
        "ชื่อคำสั่งที่สำคัญเกี่ยวกับจำนวนและค่าคงที่เป็นดังนี้ เมื่อกำหนด `x,y` เป็นตัวแปร\n",
        "- `math.ceil(x)` ปัดค่าตัวเลขขึ้นให้เป็นจำนวนเต็ม (ปัดให้เป็นจำนวนที่น้อยที่สุดที่มากกว่าหรือเท่ากับ `x` สัญลักษณ์ทางคณิตศาสตร์คือ $\\lceil x\\rceil$)\n",
        "- `math.floor` ปัดค่าตัวเลขลงให้เป็นจำนวนเต็ม (ปัดให้เป็นจำนวนเต็มที่มากที่สุดที่น้อยกว่าหรือเท่ากับ `x`  สัญลักษณ์ทางคณิตศาสตร์คือ $\\lfloor x\\rfloor$)\n",
        "- `math.trunc(x)` ปัดค่าส่วนที่เป็นทศนิยมออก\n",
        "- `math.inf` กำหนดค่าให้เป็น infinity\n",
        "- `math.nan` กำหนดค่าที่ไม่ใช่จำนวน (Not A Number)\n",
        "- `math.isinf(x)` ตรวจสอบว่า `x` มีค่าเป็น infinity หรือไม่\n",
        "- `math.isnan(x)` ตรวจสอบว่า`x` มีค่าเป็น “Not a number” หรือไม่\n",
        "- `math.abs(x)` หาค่าสัมบูรณ์ของ `x` และจัดเก็บค่าที่ได้ตามประเภทของตัวแปร `x`\n",
        "- `math.fabs` หาค่าสัมบูรณ์ของ `x` และจัดเก็บค่าที่ได้เป็นจำนวนทศนิยมเสมอ\n",
        "- `math.copysign(x,y)` หาค่าสัมบูรณ์ของ x แต่เครื่องหมายหน้า `x`เหมือนกับ y\n",
        "- `math.pi` ให้ค่า $\\pi$\n",
        "- `math.e` ให้ค่าคงที่ของออยเลอร์ $e=2.718281828459045...$\n",
        "- `math.sqrt(x)` หาค่ารากที่ 2 ของ `x`\n",
        "เป็นต้น"
      ]
    },
    {
      "cell_type": "markdown",
      "metadata": {
        "id": "ZbwHv8budIVa"
      },
      "source": [
        "## 1.6.2 ฟังก์ชันตรีโกณมิติ\n",
        "ตัวอย่างของฟังก์ชันตรีโกณมิติได้แก่\n",
        "- `math.sin(x)` ใช้คำนวณค่า $\\sin(x)$     \n",
        "- `math.cos(x)` ใช้คำนวณค่า $\\cos(x)$\n",
        "- `math.tan(x)` ใช้คำนวณค่า $\\tan(x)$\n",
        "- `math.asin(x)` ใช้คำนวณค่า $\\sin^{-1}(x)$\n",
        "- `math.acos(x)` ใช้คำนวณค่า $\\cos^{-1}(x)$\n",
        "- `math.atan(x)`  ใช้คำนวณค่า $\\tan^{-1}(x)$     \n",
        "- `math.degrees` ใช้แปลงค่ามุมในหน่วยเรเดียนให้เป็นองศา\n",
        "- `math.radians` ใช้แปลงค่ามุมในหน่วยองศาให้เป็นเรเดียน\n",
        "## 1.6.3 ฟังก์ชันไฮเพอร์โบลิก\n",
        "ตัวอย่างของฟังก์ชันไฮเพอร์โบลิกได้แก่\n",
        "- `math.sinh(x)` ใช้คำนวณค่า $\\sinh(x)$\n",
        "- `math.cosh(x)`  ใช้คำนวณค่า $\\cosh(x)$\n",
        "- `math.tanh(x)` ใช้คำนวณค่า $\\tanh(x)$\n",
        "- `math.asinh(x)` ใช้คำนวณค่า $\\sinh^{-1}(x)$    \n",
        "- `math.acosh(x)` ใช้คำนวณค่า $\\cosh^{-1}(x)$    \n",
        "- `math.atanh(x)` ใช้คำนวณค่า $\\tanh^{-1}(x)$     \n",
        "\n",
        "**หมายเหตุ:**\n",
        "\n",
        "1) ฟังก์ชันตรีโกณมิติและไฮเพอร์โบลิกต่างๆ จะใช้ค่ามุมในหน่วยเรเดียนทั้งหมด\n",
        "\n",
        "2) $\\sinh(x)= \\frac{e^{x}-e^{-x}}{2}$, $\\sinh ^{-1}(x)=\\ln \\left(x+\\sqrt{x^2+1}\\right)$\n",
        "\n",
        "3) $\\cosh(x)= \\frac{e^{x}+e^{-x}}{2}$, $\\cosh ^{-1}(x)=\\ln \\left(x+\\sqrt{x^2-1}\\right)$\n",
        "\n",
        "4) $\\tanh(x) = \\frac{e^{x}-e^{-x}}{e^{x}+e^{-x}}$, $\\tanh ^{-1}(x)=\\frac{1}{2} \\ln \\left(\\frac{1+x}{1-x}\\right)$"
      ]
    },
    {
      "cell_type": "markdown",
      "metadata": {
        "id": "2RmYsCHCdLKl"
      },
      "source": [
        "## 1.6.4 ฟังก์ชันกำลัง ฟังก์ชันเอ็กซ์โพเนนเชียล และฟังก์ชันลอการิทึม\n",
        "ตัวอย่างฟังก์ชันเอ็กซ์โพเนนเชียลได้แก่\n",
        "- `math.pow(x,y)` คำนวณค่า $x^y$\n",
        "- `math.exp(x)` คำนวณค่า $e^{x}$\n",
        "- `math.expm1` คำนวณค่า $e^{x}-1$\n",
        "- `math.log(x)` คำนวณค่า $\\ln(x)$\n",
        "- `math.log1p(x)` คำนวณค่า $\\ln(1+x)$\n",
        "- `math.log2(x)` คำนวณค่า $\\log_{2}(x)$\n",
        "- `math.log10(x)` คำนวณค่า $\\log_{10}(x)$\n"
      ]
    },
    {
      "cell_type": "markdown",
      "metadata": {
        "id": "W4arq7xSXdl7"
      },
      "source": [
        "**ตัวอย่าง 1.6.1**\n",
        "จงบอกคำสั่งที่ใช้ในการคำนวณนิพจน์ทางคณิตศาสตร์ต่อไปนี้เมื่อกำหนดให้ $x=3$ และ $y=-4$\n",
        "1. $p=1+e^{x-2}+\\left(\\frac{\\pi}{5}\\right)^{|y-2|}$\n",
        "2. $q=\\sin\\frac{\\pi}{6}+\\cos\\frac{\\pi}{3}+\\ln(3+x)+10^{6}\\log_{10}|y|$"
      ]
    },
    {
      "cell_type": "code",
      "execution_count": null,
      "metadata": {
        "id": "SiOAGVBKXfzW",
        "colab": {
          "base_uri": "https://localhost:8080/"
        },
        "outputId": "bc671bc4-2e5c-4129-9ceb-b704330578ad"
      },
      "outputs": [
        {
          "output_type": "stream",
          "name": "stdout",
          "text": [
            "3.7798107368478644\n",
            "602062.7830874316\n"
          ]
        }
      ],
      "source": [
        "import math\n",
        "x=3\n",
        "y=-4\n",
        "p=1+math.exp(x-2)+(math.pi/5)**math.fabs(y-2)\n",
        "print(p)\n",
        "q=math.sin(math.pi/6)+math.cos(math.pi/3)+math.log(3+x)+10**6*math.log10(math.fabs(y))\n",
        "print(q)"
      ]
    },
    {
      "cell_type": "markdown",
      "metadata": {
        "id": "pjU8xO1nQ2ou"
      },
      "source": [
        "**ตัวอย่าง 1.6.2** จงใช้เขียนคำสั่งในการรับค่าข้อมูล `x` ที่เป็นจำนวนจริง จากนั้น หาค่า $$y=2-\\frac{x}{5}+x^2-\\log_{10}(|x|)+e^{-\\frac{x}{4}}$$\n",
        "แล้วแสดงค่า $y$ ถึงทศนิยม $8$ ตำแหน่ง"
      ]
    },
    {
      "cell_type": "code",
      "execution_count": null,
      "metadata": {
        "id": "ybYSOSajCQlf",
        "colab": {
          "base_uri": "https://localhost:8080/"
        },
        "outputId": "d8683300-662c-4425-a5fb-1794e98da539"
      },
      "outputs": [
        {
          "output_type": "stream",
          "name": "stdout",
          "text": [
            "Input x = -10\n",
            "y = 115.18249396\n"
          ]
        }
      ],
      "source": [
        "import math as m\n",
        "x=float(input(\"Input x = \"))\n",
        "y=2-x/5+x**2-m.log10(m.fabs(x))+m.exp(-x/4)\n",
        "print(\"y = {:.8f}\".format(y))"
      ]
    },
    {
      "cell_type": "markdown",
      "metadata": {
        "id": "XjkdF3s7CQfn"
      },
      "source": [
        "\n",
        "**ตัวอย่าง 1.6.3**\n",
        "จงเขียนชุดคำสั่งภาษาไพทอนเพื่อคำนวณหาความยาวของด้านที่สาม($c$)ของรูปสามเหลี่ยม เมื่อเราทราบความยาวด้านสองด้าน($a$ และ $b$) และมุมระหว่างด้านสองด้านที่กำหนดให้เป็น ($\\theta$) โดยใช้กฎของโคไซน์ดังนี้\n",
        "$$\n",
        "c^{2}=a^{2}+b^{2}-2 a b \\cos (\\theta)\n",
        "$$\n",
        "\n",
        "<img src='https://drive.google.com/uc?id=1J5W2YKz1h0LyNgdlPpx51qH2akxcirb5' align=\"right\" width=\"300\"/>\n",
        "\n",
        "เมื่อกำหนดให้ ข้อมูลเข้าจากแป้นพิมพ์คือ\n",
        "  1. ความยาวด้าน $a$ หน่วยเซนติเมตร\n",
        "  2. ความยาวด้าน $b$ หน่วยเซนติเมตร\n",
        "  3. มุม $\\theta$ (หน่วยองศา)\n",
        "\n",
        "ข้อมูลออกทางจอภาพคือ\n",
        "1. ความยาวด้านที่สาม $c$ หน่วยเซนติเมตร\n",
        "\n"
      ]
    },
    {
      "cell_type": "code",
      "execution_count": null,
      "metadata": {
        "id": "E6KpMrZVzV2l",
        "colab": {
          "base_uri": "https://localhost:8080/"
        },
        "outputId": "aa4a06f9-adec-46f9-97d7-252a123a15ee"
      },
      "outputs": [
        {
          "output_type": "stream",
          "name": "stdout",
          "text": [
            "โปรแกรมนี้ออกแบบเพื่อใช้ในการคำนวณด้านที่สามของรูปสามเหลี่ยม\n",
            "เมื่อเราทราบความยาวด้านสองด้าน ในที่นี้สมมุติให้เป็น a และ b (หน่วยเซนติเมตร\n",
            "และขนาดของมุมระหว่างด้านสองด้านนี้ สมมุติให้เป็น theta (หน่วยองศา)\n",
            "ป้อนค่าความยาวด้าน a (เซนติเมตร) = 5\n",
            "ป้อนค่าความยาวด้าน b (เซนติเมตร) = 5\n",
            "ป้อนค่ามุมระหว่างด้าน a และ b คือ theta (องศา) = 60\n",
            "ความยาวด้านที่สามคือ c = 5.000000 เซนติเมตร\n"
          ]
        }
      ],
      "source": [
        "print('โปรแกรมนี้ออกแบบเพื่อใช้ในการคำนวณด้านที่สามของรูปสามเหลี่ยม')\n",
        "print('เมื่อเราทราบความยาวด้านสองด้าน ในที่นี้สมมุติให้เป็น a และ b (หน่วยเซนติเมตร')\n",
        "print('และขนาดของมุมระหว่างด้านสองด้านนี้ สมมุติให้เป็น theta (หน่วยองศา)')\n",
        "a = float(input('ป้อนค่าความยาวด้าน a (เซนติเมตร) = '))\n",
        "b = float(input('ป้อนค่าความยาวด้าน b (เซนติเมตร) = '))\n",
        "theta = float(input('ป้อนค่ามุมระหว่างด้าน a และ b คือ theta (องศา) = '))\n",
        "from math import *\n",
        "theta=radians(theta)\n",
        "c=sqrt(a**2+b**2-2*a*b*cos(theta))\n",
        "print('ความยาวด้านที่สามคือ c = {:f} เซนติเมตร'.format(c))"
      ]
    },
    {
      "cell_type": "markdown",
      "metadata": {
        "id": "uNLrlPYLmbDj"
      },
      "source": [
        "# 1.7 ข้อมูลแบบซับซ้อน(Non-primitive): ลิสต์ อาร์เรย์และเมทริกซ์"
      ]
    },
    {
      "cell_type": "markdown",
      "metadata": {
        "id": "KqmuClmnYIfj"
      },
      "source": [
        "## 1.7.1 ลิสต์\n",
        "จากการที่ได้กล่าวไปแล้วว่าลิสต์ (List) เป็นโครงสร้างข้อมูลที่ซับซ้อน(non-primitive)ที่ใช้เก็บข้อมูลต่าง ๆ เป็นลำดับ(sequence) ลิสต์สามารถถูกเปลี่ยนแปลงได้ในภายหลัง(mutable) ลิสต์ใช้เครื่องหมาย `[ ]` เพื่อระบุตำแหน่งของข้อมูลในลิสต์ โดยแต่ละข้อมูลจะถูกคั่นด้วยเครื่องหมายจุลภาค `,`\n",
        "### การอ้างอิงลำดับของข้อมูลในลิสต์\n",
        "สำหรับค่าของข้อมูลในตัวแปรลิสต์จะมีดัชนี(index) กำกับลำดับข้อมูล ถ้าชุดข้อมูลมี $n$ ค่า  ข้อมูลลำดับตัวแรกหรือซ้ายสุดจะมีดัชนีเท่ากับ 0 ส่วนดัชนีลำดับสุดท้ายของข้อมูลจะเป็น $n-1$ หรือ -1\n",
        "\n",
        "|    ดัชนี   | ลำดับของข้อมูล |\n",
        "|:--------:|:-----------:|\n",
        "|     0    |      1      |\n",
        "|     1    |      2      |\n",
        "|     2    |      3      |\n",
        "| $\\vdots$ |   $\\vdots$  |\n",
        "|    n-2   |     n-1     |\n",
        "|  n-1 หรือ -1 |      n      |"
      ]
    },
    {
      "cell_type": "markdown",
      "metadata": {
        "id": "2NJyzat0Z5rC",
        "tags": []
      },
      "source": [
        "**ตัวอย่าง 1.7.1** พิจารณาลิสต์ต่อไปนี้"
      ]
    },
    {
      "cell_type": "code",
      "execution_count": null,
      "metadata": {
        "tags": [],
        "id": "8uDGiu31zV2m"
      },
      "outputs": [],
      "source": [
        "lib=['math', 'Numpy', 'SciPy', 'matplotlib', 'pandas','Seaborn','scikit-learn']"
      ]
    },
    {
      "cell_type": "code",
      "execution_count": null,
      "metadata": {
        "id": "E74hoaiWzV2m",
        "colab": {
          "base_uri": "https://localhost:8080/"
        },
        "outputId": "d89f6ea2-d391-4996-c3d4-fc935cfd72a8"
      },
      "outputs": [
        {
          "output_type": "stream",
          "name": "stdout",
          "text": [
            "math\n"
          ]
        }
      ],
      "source": [
        "print(lib[0])"
      ]
    },
    {
      "cell_type": "code",
      "execution_count": null,
      "metadata": {
        "id": "d3XeFiUgzV2m",
        "colab": {
          "base_uri": "https://localhost:8080/"
        },
        "outputId": "fe0d65d7-5f6f-4ee0-8e1f-925703025f32"
      },
      "outputs": [
        {
          "output_type": "stream",
          "name": "stdout",
          "text": [
            "matplotlib\n"
          ]
        }
      ],
      "source": [
        "print(lib[3])"
      ]
    },
    {
      "cell_type": "code",
      "execution_count": null,
      "metadata": {
        "id": "Q20q02ApzV2n",
        "colab": {
          "base_uri": "https://localhost:8080/"
        },
        "outputId": "73cc924d-9ea5-4732-f526-124e75c4491b"
      },
      "outputs": [
        {
          "output_type": "stream",
          "name": "stdout",
          "text": [
            "scikit-learn\n"
          ]
        }
      ],
      "source": [
        "print(lib[6])"
      ]
    },
    {
      "cell_type": "code",
      "execution_count": null,
      "metadata": {
        "id": "mPNcYA29zV2m",
        "colab": {
          "base_uri": "https://localhost:8080/"
        },
        "outputId": "9683faf0-829a-4c39-d6fb-16b68f27277f"
      },
      "outputs": [
        {
          "output_type": "stream",
          "name": "stdout",
          "text": [
            "scikit-learn\n"
          ]
        }
      ],
      "source": [
        "print(lib[-1])"
      ]
    },
    {
      "cell_type": "markdown",
      "metadata": {
        "id": "tKEYec69zV2n"
      },
      "source": [
        "### การสร้างลิสต์ซ้อนลิสต์\n",
        "ลิสต์ซ้อนลิสต์ (nested lists)คือการนำลิสต์มาซ้อนไว้ภายในลิสต์อีกชั้นหนึ่ง วัตถุประสงค์คือทำให้สามารถสร้างโครงสร้างข้อมูลที่มีลำดับหรือโครงสร้างที่ซับซ้อนได้มากขึ้น"
      ]
    },
    {
      "cell_type": "markdown",
      "source": [
        "**ตัวอย่าง 1.7.2** พิจารณาลิสต์ต่อไปนี้"
      ],
      "metadata": {
        "id": "h45dxWxhJHUN"
      }
    },
    {
      "cell_type": "code",
      "execution_count": null,
      "metadata": {
        "id": "cmu7ZdG0Z_eZ"
      },
      "outputs": [],
      "source": [
        "# ลิสต์ซ้อนลิสต์ของตัวเลข\n",
        "nestlist1 = [[1, 2, 3], [4, 5, 6], [7, 8, 9]]\n",
        "\n",
        "# ลิสต์ซ้อนลิสต์ของสตริง\n",
        "nestlist2 = [['apple', 'orange'], ['banana', 'grape'], ['cherry', 'kiwi']]\n",
        "\n",
        "# ลิสต์ซ้อนลิสต์ของประเภทข้อมูลต่าง ๆ\n",
        "nestlist3 = [[1, 'one', 2.0], ['apple', 'orange', 'banana'], [True, False, True]]\n",
        "\n",
        "# ลิสต์ซ้อนลิสต์ที่ภายในลิสต์มีสมาชิกทั้งที่เป็นลิสต์และไม่เป็นลิสต์\n",
        "nestlist4 = [1, 2, [3, 4, 5], 6, [7, 8, 9]]"
      ]
    },
    {
      "cell_type": "code",
      "execution_count": null,
      "metadata": {
        "id": "gwIlsZm-zV2n",
        "colab": {
          "base_uri": "https://localhost:8080/"
        },
        "outputId": "465d7d30-16b5-411e-a325-a2e06e6d757e"
      },
      "outputs": [
        {
          "output_type": "stream",
          "name": "stdout",
          "text": [
            "[1, 2, 3]\n"
          ]
        }
      ],
      "source": [
        "print(nestlist1[0])"
      ]
    },
    {
      "cell_type": "code",
      "execution_count": null,
      "metadata": {
        "id": "IQq7c88gzV2n",
        "colab": {
          "base_uri": "https://localhost:8080/"
        },
        "outputId": "5747cd85-1c6d-4680-90fb-2117c24caa89"
      },
      "outputs": [
        {
          "output_type": "stream",
          "name": "stdout",
          "text": [
            "6\n"
          ]
        }
      ],
      "source": [
        "print(nestlist1[1][2])"
      ]
    },
    {
      "cell_type": "code",
      "execution_count": null,
      "metadata": {
        "id": "Aj9x6ewzaVXO",
        "tags": [],
        "colab": {
          "base_uri": "https://localhost:8080/"
        },
        "outputId": "0e418d5a-e91d-449d-dd6f-229ae50c4aeb"
      },
      "outputs": [
        {
          "output_type": "stream",
          "name": "stdout",
          "text": [
            "kiwi\n"
          ]
        }
      ],
      "source": [
        "print(nestlist2[2][1])"
      ]
    },
    {
      "cell_type": "code",
      "execution_count": null,
      "metadata": {
        "id": "FvUcgJDgEj2D",
        "colab": {
          "base_uri": "https://localhost:8080/"
        },
        "outputId": "3c7535d1-6154-4489-ea45-080833d9b4aa"
      },
      "outputs": [
        {
          "output_type": "stream",
          "name": "stdout",
          "text": [
            "apple\n"
          ]
        }
      ],
      "source": [
        "print(nestlist3[1][0])"
      ]
    },
    {
      "cell_type": "code",
      "execution_count": null,
      "metadata": {
        "id": "xijYWzbVzV2n",
        "colab": {
          "base_uri": "https://localhost:8080/"
        },
        "outputId": "626adfdc-0b90-4df5-bcf4-668b681ee2fc"
      },
      "outputs": [
        {
          "output_type": "stream",
          "name": "stdout",
          "text": [
            "4\n"
          ]
        }
      ],
      "source": [
        "print(nestlist4[2][1])"
      ]
    },
    {
      "cell_type": "markdown",
      "metadata": {
        "id": "5QfsUibRaef0"
      },
      "source": [
        "### ฟังก์ชันที่เกี่ยวกับลิสต์\n",
        "1. `x.count(a)` ใช้นับจำนวนสมาชิกที่มีค่า `a` ในลิสต์ x\n",
        "2. `x.sort()` ใช้จัดเรียงข้อมูลในลิสต์`x` จากน้อยไปหามาก\n",
        "3. `x.reverse()` ใช้กลับลำดับของข้อมูลในลิสต์`x` จากเดิมซ้ายไปขวาให้เป็นขวาไปซ้าย\n",
        "4. `x.clear()` ใช้ลบสมาชิกทั้งหมดในลิสต์ `x`"
      ]
    },
    {
      "cell_type": "markdown",
      "source": [
        "**ตัวอย่าง 1.7.3** พิจารณาลิสต์ต่อไปนี้"
      ],
      "metadata": {
        "id": "_aZ2ECuiI0lO"
      }
    },
    {
      "cell_type": "code",
      "source": [
        "liblists=['math','statistics','NumPy','Pandas','Matplotlib','Seaborn','Scikit-Learn']\n",
        "CCScore =[29.32,29,28,27,27.5,29,29,25,24,27,20]"
      ],
      "metadata": {
        "id": "u7Nav6LtDzmH"
      },
      "execution_count": null,
      "outputs": []
    },
    {
      "cell_type": "code",
      "source": [
        "liblists.count('math')"
      ],
      "metadata": {
        "id": "_b4qnGPKEvzv",
        "colab": {
          "base_uri": "https://localhost:8080/"
        },
        "outputId": "60740d9d-7748-478b-ab0b-23eb5fdbddce"
      },
      "execution_count": null,
      "outputs": [
        {
          "output_type": "execute_result",
          "data": {
            "text/plain": [
              "1"
            ]
          },
          "metadata": {},
          "execution_count": 32
        }
      ]
    },
    {
      "cell_type": "code",
      "source": [
        "liblists.count('statistics')"
      ],
      "metadata": {
        "id": "L6wkIgtsFAx6",
        "colab": {
          "base_uri": "https://localhost:8080/"
        },
        "outputId": "e0a36cf2-9693-48d2-906b-d5617b2d2819"
      },
      "execution_count": null,
      "outputs": [
        {
          "output_type": "execute_result",
          "data": {
            "text/plain": [
              "1"
            ]
          },
          "metadata": {},
          "execution_count": 33
        }
      ]
    },
    {
      "cell_type": "code",
      "source": [
        "print(CCScore.count(29))"
      ],
      "metadata": {
        "id": "-A3GBufsFxM8",
        "colab": {
          "base_uri": "https://localhost:8080/"
        },
        "outputId": "6b1a5b3a-b404-4760-d3f7-714cd25eba85"
      },
      "execution_count": null,
      "outputs": [
        {
          "output_type": "stream",
          "name": "stdout",
          "text": [
            "3\n"
          ]
        }
      ]
    },
    {
      "cell_type": "code",
      "source": [
        "CCScore.sort()\n",
        "print(CCScore)"
      ],
      "metadata": {
        "id": "CAr6RyqGFPxM",
        "colab": {
          "base_uri": "https://localhost:8080/"
        },
        "outputId": "ade45efd-97cf-4599-87f5-9205661099c6"
      },
      "execution_count": null,
      "outputs": [
        {
          "output_type": "stream",
          "name": "stdout",
          "text": [
            "[20, 24, 25, 27, 27, 27.5, 28, 29, 29, 29, 29.32]\n"
          ]
        }
      ]
    },
    {
      "cell_type": "code",
      "source": [
        "CCScore.reverse()\n",
        "print(CCScore)"
      ],
      "metadata": {
        "id": "31UJAdOIFPWf",
        "colab": {
          "base_uri": "https://localhost:8080/"
        },
        "outputId": "c4ed8fd7-63c8-481f-e86b-43be54541008"
      },
      "execution_count": null,
      "outputs": [
        {
          "output_type": "stream",
          "name": "stdout",
          "text": [
            "[29.32, 29, 29, 29, 28, 27.5, 27, 27, 25, 24, 20]\n"
          ]
        }
      ]
    },
    {
      "cell_type": "code",
      "source": [
        "liblists.clear()\n",
        "print(liblists)"
      ],
      "metadata": {
        "id": "B1sgPo4gFmys",
        "colab": {
          "base_uri": "https://localhost:8080/"
        },
        "outputId": "d8806136-c24f-4f06-c8b8-d2367632ed73"
      },
      "execution_count": null,
      "outputs": [
        {
          "output_type": "stream",
          "name": "stdout",
          "text": [
            "[]\n"
          ]
        }
      ]
    },
    {
      "cell_type": "markdown",
      "metadata": {
        "id": "MaktmAHHYs12"
      },
      "source": [
        "## 1.7.2 อาร์เรย์และเมทริกซ์\n",
        "\n",
        "โครงสร้างข้อมูลประเภทอาร์เรย์และเมทริกซ์จะถูกจัดเก็บและเรียกใช้ภายใต้ไลบรารี numpy ภายในไลบรารีนี้มีฟังก์ชันมากกว่า 500 ฟังก์ชัน\n",
        "กรณีต้องการเก็บค่าข้อมูลแบบอาร์เรย์หรือเมทริกซ์สามารถใช้คำสั่ง `numpy.array`\n",
        "หรือ `np.array` หากตั้งเรียกชื่อไลบรารี `numpy` เป็น `np`\n",
        "\n",
        "ถ้ากำหนดให้ $A=[a_{ij}]_{m\\times n}$ เป็นเมทริกซ์ แล้ว คำสั่งในการสร้างเมทริกซ์ดังกล่าวคือ\n",
        "```\n",
        "A=numpy.array([[a11,a12,a13,...,a1n],[a21,a22,a23,...,a2n],...,[am1,am2,am3,...,amn]])\n",
        "```\n",
        "\n",
        "**หมายเหตุ:** ตัวแปร `A` ที่ประกาศแบบข้างต้นจะเป็นตัวแปรแบบเอเรย์ `n` มิติ (ndarrays)"
      ]
    },
    {
      "cell_type": "markdown",
      "metadata": {
        "id": "zi4BnNk9bOOW"
      },
      "source": [
        "**ตัวอย่าง 1.7.4**\n",
        "จงสร้างเมทริกซ์ที่กำหนดให้ต่อไปนี้"
      ]
    },
    {
      "cell_type": "markdown",
      "metadata": {
        "id": "eC8w_LbLbSHa"
      },
      "source": [
        "(1) เมทริกซ์ $x$ ที่ไม่มีทั้งสมาชิกและขนาด"
      ]
    },
    {
      "cell_type": "code",
      "execution_count": null,
      "metadata": {
        "id": "TyVOBjBjCx6g",
        "colab": {
          "base_uri": "https://localhost:8080/"
        },
        "outputId": "aaaf3a94-d810-4639-e624-79d46fff7363"
      },
      "outputs": [
        {
          "output_type": "stream",
          "name": "stdout",
          "text": [
            "[]\n"
          ]
        }
      ],
      "source": [
        "import numpy as np\n",
        "x=np.array([])\n",
        "print(x)"
      ]
    },
    {
      "cell_type": "markdown",
      "metadata": {
        "id": "G92yZ9ZNcCGA"
      },
      "source": [
        "(2) เมทริกซ์แถว $y=\n",
        "\\begin{bmatrix}\n",
        "  -1 & 0 & -3 & 2\n",
        "\\end{bmatrix}$"
      ]
    },
    {
      "cell_type": "code",
      "execution_count": null,
      "metadata": {
        "id": "u6p5HyzEcMwR",
        "colab": {
          "base_uri": "https://localhost:8080/"
        },
        "outputId": "0a642770-7b26-4439-cc3e-c9ccbb86723e"
      },
      "outputs": [
        {
          "output_type": "stream",
          "name": "stdout",
          "text": [
            "[-1  0 -3  2]\n"
          ]
        }
      ],
      "source": [
        "y=np.array([-1,0,-3,2])\n",
        "print(y)"
      ]
    },
    {
      "cell_type": "markdown",
      "metadata": {
        "id": "bI2_7FnncOx5"
      },
      "source": [
        "(3) เมทริกซ์หลัก $z=\n",
        "\\begin{bmatrix}\n",
        "  -1 \\\\ 0\\\\ -3\\\\ 2\n",
        "\\end{bmatrix}$"
      ]
    },
    {
      "cell_type": "code",
      "execution_count": null,
      "metadata": {
        "id": "BgVnPtegcON7",
        "colab": {
          "base_uri": "https://localhost:8080/"
        },
        "outputId": "d798d842-d215-41e0-9bca-375e84947ffb"
      },
      "outputs": [
        {
          "output_type": "stream",
          "name": "stdout",
          "text": [
            "[[-1]\n",
            " [ 0]\n",
            " [-3]\n",
            " [ 2]]\n"
          ]
        }
      ],
      "source": [
        "z=np.array([[-1],[0],[-3],[2]])\n",
        "print(z)"
      ]
    },
    {
      "cell_type": "markdown",
      "metadata": {
        "id": "Uyaf9BwjcNhH"
      },
      "source": [
        "(4) เมทริกซ์ $A=\n",
        "\\begin{bmatrix}\n",
        "  -1 & -2 & 3\\\\\n",
        "   0 & 0.1& 8\\\\\n",
        "  -3 & 4& 2\\\\\n",
        "   2 & -0.05& 9\n",
        "\\end{bmatrix}$"
      ]
    },
    {
      "cell_type": "code",
      "execution_count": null,
      "metadata": {
        "id": "iQQ_PVShcPK-",
        "colab": {
          "base_uri": "https://localhost:8080/"
        },
        "outputId": "b90a1214-5ca4-4339-a597-be03d7f12bcd"
      },
      "outputs": [
        {
          "output_type": "stream",
          "name": "stdout",
          "text": [
            "[[-1.   -2.    3.  ]\n",
            " [ 0.    0.1   8.  ]\n",
            " [-3.    4.    2.  ]\n",
            " [ 2.   -0.05  9.  ]]\n"
          ]
        }
      ],
      "source": [
        "A=np.array([[-1,-2,3],[0,0.1,8],[-3,4,2],[2,-0.05,9]])\n",
        "print(A)"
      ]
    },
    {
      "cell_type": "markdown",
      "metadata": {
        "id": "85546weRjTrr"
      },
      "source": [
        "### ฟังก์ชันของเมทริกซ์ที่มีสมบัติเฉพาะ\n",
        "นอกจากนี้ ในภาษาไพทอนได้มีการสร้างฟังก์ชันสำหรับเมทริกซ์ที่มีลักษณะเฉพาะต่างๆ ที่ถูกนำมาใช้ในการคำนวณบ่อย ดังนี้\n",
        "- `numpy.zeros([m,n])` เป็นคำสั่งสำหรับสร้างเมทริกซ์ศูนย์ขนาด $m\\times n$\n",
        "- `numpy.eye(m,n)` เป็นคำสั่งสำหรับสร้างเมทริกซ์เอกลักษณ์ขนาด $m\\times n$\n",
        "- `numpy.ones([m,n])` เป็นคำสั่งสร้างเมทริกซ์ขนาด $m\\times n$ ที่มีสมาชิกทั้งหมดเท่ากับ 1\n",
        "- `numpy.diag(v)` เป็นคำสั่งหรับสร้างเมริกซ์แยงมุมที่สมาชิกในแนวทแยงมุมคือสมาชิกในลิสต์ $v$"
      ]
    },
    {
      "cell_type": "markdown",
      "metadata": {
        "id": "AttdgR6Kktzx"
      },
      "source": [
        "**ตัวอย่าง 1.7.5**\n",
        "จงเขียนคำสั่งภาษาไพทอนเพื่อสร้างเมทริกซ์ดังต่อไปนี้\n",
        "1. เมทริกซ์ $B$ ที่เป็นเมทริกซ์ศูนย์ที่มีขนาด $3\\times 4$\n",
        "2. เมทริกซ์เอกลักษณ์ $C$ ที่มีขนาด $4\\times 4$\n",
        "3. เมทริกซ์ $D$ ที่มีขนาด $3\\times 4$ ที่มีสมาชิกทั้งหมดเป็น $1$\n",
        "4. เมทริกซ์ทแยงมุม\n",
        "$\n",
        "E=\\begin{bmatrix}\n",
        "-1 & 0 & 0\\\\\n",
        "0& 0.5& 0\\\\\n",
        "0& 0& 4\n",
        "\\end{bmatrix}\n",
        "$"
      ]
    },
    {
      "cell_type": "code",
      "source": [
        "import numpy as np\n",
        "B=np.zeros([3,4])\n",
        "print(B)"
      ],
      "metadata": {
        "id": "nrYxdsY3YcGQ",
        "colab": {
          "base_uri": "https://localhost:8080/"
        },
        "outputId": "173a46e7-b73b-433e-a78f-625b789dbf81"
      },
      "execution_count": null,
      "outputs": [
        {
          "output_type": "stream",
          "name": "stdout",
          "text": [
            "[[0. 0. 0. 0.]\n",
            " [0. 0. 0. 0.]\n",
            " [0. 0. 0. 0.]]\n"
          ]
        }
      ]
    },
    {
      "cell_type": "code",
      "source": [
        "C=np.eye(4,4)\n",
        "print(C)\n"
      ],
      "metadata": {
        "id": "h0eaTjoYZ-i1",
        "colab": {
          "base_uri": "https://localhost:8080/"
        },
        "outputId": "24f887a5-855f-432f-e168-3c645a3d865c"
      },
      "execution_count": null,
      "outputs": [
        {
          "output_type": "stream",
          "name": "stdout",
          "text": [
            "[[1. 0. 0. 0.]\n",
            " [0. 1. 0. 0.]\n",
            " [0. 0. 1. 0.]\n",
            " [0. 0. 0. 1.]]\n"
          ]
        }
      ]
    },
    {
      "cell_type": "code",
      "source": [
        "D=np.ones([4,4])\n",
        "print(D)"
      ],
      "metadata": {
        "id": "K0QLO73maAgH",
        "colab": {
          "base_uri": "https://localhost:8080/"
        },
        "outputId": "112a8607-360a-4440-bf81-593fc8fd65c9"
      },
      "execution_count": null,
      "outputs": [
        {
          "output_type": "stream",
          "name": "stdout",
          "text": [
            "[[1. 1. 1. 1.]\n",
            " [1. 1. 1. 1.]\n",
            " [1. 1. 1. 1.]\n",
            " [1. 1. 1. 1.]]\n"
          ]
        }
      ]
    },
    {
      "cell_type": "code",
      "source": [
        "E=np.diag([-1,0.5,4])\n",
        "print(E)"
      ],
      "metadata": {
        "id": "3PafRR7laB9u",
        "colab": {
          "base_uri": "https://localhost:8080/"
        },
        "outputId": "bfed083c-0b55-41c7-b39b-9dcbbb9b22e1"
      },
      "execution_count": null,
      "outputs": [
        {
          "output_type": "stream",
          "name": "stdout",
          "text": [
            "[[-1.   0.   0. ]\n",
            " [ 0.   0.5  0. ]\n",
            " [ 0.   0.   4. ]]\n"
          ]
        }
      ]
    },
    {
      "cell_type": "markdown",
      "metadata": {
        "id": "FX_D8EHdkdEt"
      },
      "source": [
        "### การดำเนินการเกี่ยวกับอาร์เรย์และเมทริกซ์\n",
        "ตัวดำเนินการทางคณิตศาสตร์ที่สำคัญเกี่ยวกับอาร์เรย์และเมทริกซ์แสดงดังตารางต่อไปนี้\n",
        "\n",
        "| ตัวดำเนินการ            | สัญลักษณ์ |\n",
        "|-----------------------|--------|\n",
        "| การบวก                | +      |\n",
        "| การลบ                 | -      |\n",
        "| การคูณ                 | @      |\n",
        "| การคูณสมาชิกต่อสมาชิก     | *      |\n",
        "| การยกกำลังของแต่ละสมาชิก | **     |\n",
        "| การหารสมาชิกต่อสมาชิก    | /      |"
      ]
    },
    {
      "cell_type": "markdown",
      "metadata": {
        "id": "T22aKXGfkiAN"
      },
      "source": [
        "**ตัวอย่าง 1.7.6**\n",
        "กำหนดให้\n",
        "\n",
        "$A=\\begin{bmatrix}\n",
        "2&2&2&2\\\\\n",
        "2&2&2&2\\\\\n",
        "2&2&2&2\\\\\n",
        "2&2&2&2\n",
        "\\end{bmatrix}$ และ\n",
        "$B=\\begin{bmatrix}\n",
        "5&4&3&2\\\\\n",
        "2&3&4&5\\\\\n",
        "1&-1&1&-1\\\\\n",
        "4&4&4&4\n",
        "\\end{bmatrix}$\n"
      ]
    },
    {
      "cell_type": "code",
      "source": [
        "import numpy as np\n",
        "A=2*np.ones([4,4])\n",
        "B=np.array([[5,4,3,2],[2,3,4,5],[1,-1,1,-1],[4,4,4,4]])"
      ],
      "metadata": {
        "id": "46paPUL7aJdC"
      },
      "execution_count": null,
      "outputs": []
    },
    {
      "cell_type": "markdown",
      "source": [
        "จงบอกคำสั่งเพื่อหาค่าของ\n",
        "1. $A+B$\n",
        "2. $A-B$\n",
        "3. $AB$\n",
        "4. $A^4$\n",
        "5. $C=[a_{ij}b_{ij}]_{4\\times 4}$\n",
        "6. $D=\\left[\\frac{a_{ij}}{b_{ij}}\\right]_{4\\times 4}$ เมื่อ $a_{ij}\\in A$ และ $b_{ij}\\neq 0\\in B$"
      ],
      "metadata": {
        "id": "tEkixFGOaKUk"
      }
    },
    {
      "cell_type": "code",
      "execution_count": null,
      "metadata": {
        "id": "1ts-_-OulYAl",
        "colab": {
          "base_uri": "https://localhost:8080/"
        },
        "outputId": "7206e84f-672f-4781-f22e-9e083e9f2c16"
      },
      "outputs": [
        {
          "output_type": "stream",
          "name": "stdout",
          "text": [
            "[[7. 6. 5. 4.]\n",
            " [4. 5. 6. 7.]\n",
            " [3. 1. 3. 1.]\n",
            " [6. 6. 6. 6.]]\n"
          ]
        }
      ],
      "source": [
        "print(A+B)"
      ]
    },
    {
      "cell_type": "code",
      "source": [
        "print(A-B)"
      ],
      "metadata": {
        "id": "o7--jUhMavBC",
        "colab": {
          "base_uri": "https://localhost:8080/"
        },
        "outputId": "b5d13e29-24b2-4a7f-ea5b-d4ef9a0316a0"
      },
      "execution_count": null,
      "outputs": [
        {
          "output_type": "stream",
          "name": "stdout",
          "text": [
            "[[-3. -2. -1.  0.]\n",
            " [ 0. -1. -2. -3.]\n",
            " [ 1.  3.  1.  3.]\n",
            " [-2. -2. -2. -2.]]\n"
          ]
        }
      ]
    },
    {
      "cell_type": "code",
      "source": [
        "print(A@B)"
      ],
      "metadata": {
        "id": "yIBx72Pyawfx",
        "colab": {
          "base_uri": "https://localhost:8080/"
        },
        "outputId": "2c4ae744-1deb-4f40-f670-618799e9938c"
      },
      "execution_count": null,
      "outputs": [
        {
          "output_type": "stream",
          "name": "stdout",
          "text": [
            "[[24. 20. 24. 20.]\n",
            " [24. 20. 24. 20.]\n",
            " [24. 20. 24. 20.]\n",
            " [24. 20. 24. 20.]]\n"
          ]
        }
      ]
    },
    {
      "cell_type": "code",
      "source": [
        "print(A@A@A@A)"
      ],
      "metadata": {
        "id": "UYQeD17haziW",
        "colab": {
          "base_uri": "https://localhost:8080/"
        },
        "outputId": "54cb8d8a-2787-4793-8d25-ca9855b41d51"
      },
      "execution_count": null,
      "outputs": [
        {
          "output_type": "stream",
          "name": "stdout",
          "text": [
            "[[1024. 1024. 1024. 1024.]\n",
            " [1024. 1024. 1024. 1024.]\n",
            " [1024. 1024. 1024. 1024.]\n",
            " [1024. 1024. 1024. 1024.]]\n"
          ]
        }
      ]
    },
    {
      "cell_type": "code",
      "source": [
        "#ทดลองเปรียบเทียบกับการดำเนินการ **\n",
        "print(A**4)"
      ],
      "metadata": {
        "id": "Qyye0D7Qksu3",
        "colab": {
          "base_uri": "https://localhost:8080/"
        },
        "outputId": "8001c86f-d071-4032-e149-b55f302f8839"
      },
      "execution_count": null,
      "outputs": [
        {
          "output_type": "stream",
          "name": "stdout",
          "text": [
            "[[16. 16. 16. 16.]\n",
            " [16. 16. 16. 16.]\n",
            " [16. 16. 16. 16.]\n",
            " [16. 16. 16. 16.]]\n"
          ]
        }
      ]
    },
    {
      "cell_type": "code",
      "source": [
        "C=A*B\n",
        "print(C)"
      ],
      "metadata": {
        "id": "q5XO8QfMa5HH"
      },
      "execution_count": null,
      "outputs": []
    },
    {
      "cell_type": "code",
      "source": [
        "D=A/B\n",
        "print(D)"
      ],
      "metadata": {
        "id": "3pM9qkiTa-pP"
      },
      "execution_count": null,
      "outputs": []
    },
    {
      "cell_type": "markdown",
      "metadata": {
        "id": "RVzD1RsGlWvE"
      },
      "source": [
        "## 1.7.3 การอ้างอิงสมาชิกในอาร์เรย์หรือเมทริกซ์และการนำไปใช้\n",
        "\n",
        "กำหนดให้ `v`เป็นอาร์เรย์ 1 มิติใดๆ จะได้ว่า\n",
        "* `v[0]`เป็นการอ้างอิงสมาชิกของ v ในลำดับที่ $1$\n",
        "* `v[-1]`เป็นการอ้างอิงสมาชิกของ v ในลำดับสุดท้าย\n",
        "* `v[k]`เป็นการอ้างอิงสมาชิกของ v ที่ดัชนีที่ $k$ (ลำดับที่ k+1)\n",
        "* `v[r1:r2:a]` อ้างอิงสมาชิกของ v ในลำดับที่กำหนดโดยดัชนี 𝑟1 ถึง 𝑟2-1 โดยเว้นระยะห่าง 𝑎\n",
        "* `v[k]=a` แทนค่าข้อมูลที่ $k$ ด้วย $a$\n",
        "\n",
        "กำหนดให้ `A`เป็นอาร์เรย์ 2 มิติใดๆ จะได้ว่า\n",
        "\n",
        "* `A[r,c]` อ้างอิงสมาชิกแถวที่ $r-1$ หลักที่ $c-1$ ของ A\n",
        "* `A[r,:]` หรือ `A[r]` อ้างอิงสมาชิกแถวที่ $r-1$ ทั้งแถวของ A\n",
        "* `A[:,c]` อ้างอิงสมาชิกในหลักที่ $c-1$ ทั้งหมด\n",
        "* `A[r1:r2,:]` หรือ `A[r1:r2]` อ้างอิงสมาชิกแถวที่ $r1$ ถึง $r2-1$ ทั้งหมดของ `A`\n",
        "* `A[:,c1:c2]` อ้างอิงสมาชิกหลักที่ $c 1$ ถึง $c 2-1$ ของ A\n",
        "* `A[r1:r2,c1:c2]` อ้างอิงสมาชิกแถวที่ $r1+1$ ถึง $r2$ และหลักที่ $c1+1$ ถึง $c2$ ของ A\n",
        "* `A[r1:r2:a,c1:c2:b]` อ้างอิงสมาชิกแถวที่ $r1+1$ ถึง $r2$ และหลักที่ $c1+1$ ถึง $c2$ ของ A โดยเว้นระยะห่างตามแถวและหลักเป็น `a` และ `b` ตามลำดับ"
      ]
    },
    {
      "cell_type": "markdown",
      "metadata": {
        "id": "hhRBiO1mlkQ3"
      },
      "source": [
        "**ตัวอย่าง 1.7.7**\n",
        "\n",
        "กำหนดให้ $$v=[0\\; 2\\; 4\\; 6\\; 8\\; 10\\; 12\\; 14\\; 16\\; 18\\; 20]$$ และ\n",
        "$$A=\n",
        "\\begin{bmatrix}\n",
        "-1& 0& 4& 3& 8& 9& -2& 8\\\\\n",
        " 2& -2& 3& 4& -5& 3& 2& 1\\\\\n",
        " 3& 4& 5& 6& -8& 9& 7& 1\\\\\n",
        " 1& -1& 2& 3& 2& 1& 1& 0\\\\\n",
        " 0& 1& 0& 2& -3& 4& 8& 0.1\n",
        "\\end{bmatrix}$$\n",
        "ดังคำสั่งต่อไปนี้"
      ]
    },
    {
      "cell_type": "code",
      "source": [
        "import numpy as np\n",
        "v=np.array([0,2,4,6,8,10,12,14,16,18,20])\n",
        "A=np.array([[-1,0,4,3,8,9,-2,8],[2,-2,3,4,-5,3,2,1],[3,4,5,6,-8,9,7,1],[1,-1,2,3,2,1,1,0],[0,1,0,2,-3,4,8,0.1]])"
      ],
      "metadata": {
        "id": "sPk0-3AyVghM"
      },
      "execution_count": null,
      "outputs": []
    },
    {
      "cell_type": "markdown",
      "metadata": {
        "id": "0b9A3gwrtqqG"
      },
      "source": [
        "จงบอกคำสั่งที่ทำให้ได้ผลลัพธ์ต่อไปนี้"
      ]
    },
    {
      "cell_type": "markdown",
      "metadata": {
        "id": "a8vjq9AatbLv"
      },
      "source": [
        "(1) อ้างอิงสมาชิกตัวแรกของ $v$"
      ]
    },
    {
      "cell_type": "code",
      "execution_count": null,
      "metadata": {
        "id": "EaU6YIGstaW5",
        "colab": {
          "base_uri": "https://localhost:8080/"
        },
        "outputId": "992ec4e7-a864-4f3b-feb4-423aebf7d443"
      },
      "outputs": [
        {
          "output_type": "stream",
          "name": "stdout",
          "text": [
            "0\n"
          ]
        }
      ],
      "source": [
        "print(v[0])"
      ]
    },
    {
      "cell_type": "markdown",
      "metadata": {
        "id": "C-p0av2xtjvZ"
      },
      "source": [
        "(2) อ้างอิงสมาชิกตัวสุดท้ายของ $v$"
      ]
    },
    {
      "cell_type": "code",
      "execution_count": null,
      "metadata": {
        "id": "XlyZrJR0t708",
        "colab": {
          "base_uri": "https://localhost:8080/"
        },
        "outputId": "e6a01d93-0a5a-4dfa-e54d-3c19ec7aa7ea"
      },
      "outputs": [
        {
          "output_type": "stream",
          "name": "stdout",
          "text": [
            "20\n",
            "20\n"
          ]
        }
      ],
      "source": [
        "print(v[-1])\n",
        "# หรือ\n",
        "print(v[10])"
      ]
    },
    {
      "cell_type": "markdown",
      "metadata": {
        "id": "_FCo4GJYt8eN"
      },
      "source": [
        "(3) สร้างเวกเตอร์ $x=[0~2~4~6~8~10~12~14]$ จาก $v$"
      ]
    },
    {
      "cell_type": "code",
      "execution_count": null,
      "metadata": {
        "id": "giWtFpY8uY0A",
        "colab": {
          "base_uri": "https://localhost:8080/"
        },
        "outputId": "6046658d-5db7-4bae-a937-3cef65b79e31"
      },
      "outputs": [
        {
          "output_type": "stream",
          "name": "stdout",
          "text": [
            "[ 0  2  4  6  8 10 12 14]\n"
          ]
        }
      ],
      "source": [
        "x=v[0:8]\n",
        "print(x)"
      ]
    },
    {
      "cell_type": "markdown",
      "metadata": {
        "id": "Z7OZioFQuZR9"
      },
      "source": [
        "(4) สร้างเวกเตอร์ $y=[0~4~8~12~16~20]$ จาก $v$"
      ]
    },
    {
      "cell_type": "code",
      "execution_count": null,
      "metadata": {
        "id": "unFfbqnfuaDl",
        "colab": {
          "base_uri": "https://localhost:8080/"
        },
        "outputId": "218a3d04-9984-41a0-8029-00dd027e2a54"
      },
      "outputs": [
        {
          "output_type": "stream",
          "name": "stdout",
          "text": [
            "[ 0  4  8 12 16 20]\n"
          ]
        }
      ],
      "source": [
        "y=v[0:11:2]\n",
        "print(y)"
      ]
    },
    {
      "cell_type": "markdown",
      "metadata": {
        "id": "So4EcdHhubW_"
      },
      "source": [
        "(5) สร้างเวกเตอร์ $z=[0~6~12~18]$ จาก $v$"
      ]
    },
    {
      "cell_type": "code",
      "execution_count": null,
      "metadata": {
        "id": "1NEnMn51ubw4",
        "colab": {
          "base_uri": "https://localhost:8080/"
        },
        "outputId": "3618ef8f-b339-4ede-8511-0c1ede632b29"
      },
      "outputs": [
        {
          "output_type": "stream",
          "name": "stdout",
          "text": [
            "[ 0  6 12 18]\n"
          ]
        }
      ],
      "source": [
        "z=v[0:11:3]\n",
        "print(z)"
      ]
    },
    {
      "cell_type": "markdown",
      "metadata": {
        "id": "GutZjMOswvWI"
      },
      "source": [
        "(6) อ้างอิง $a_{11}\\in A$"
      ]
    },
    {
      "cell_type": "code",
      "execution_count": null,
      "metadata": {
        "id": "TUze8yaOxB1c",
        "colab": {
          "base_uri": "https://localhost:8080/"
        },
        "outputId": "34cf58f2-1543-4a06-a03c-57147e2b7673"
      },
      "outputs": [
        {
          "output_type": "stream",
          "name": "stdout",
          "text": [
            "-1.0\n"
          ]
        }
      ],
      "source": [
        "print(A[0,0])"
      ]
    },
    {
      "cell_type": "markdown",
      "metadata": {
        "id": "GP2vJW71xCYB"
      },
      "source": [
        "(7) อ้างอิงสมาชิกที่อยู่ใแถวสุดท้ายและหลักสุดท้ายของ $A$"
      ]
    },
    {
      "cell_type": "code",
      "execution_count": null,
      "metadata": {
        "id": "_pze0ZsExKsB",
        "colab": {
          "base_uri": "https://localhost:8080/"
        },
        "outputId": "2433a405-0891-41a0-9ec5-79090e13c95f"
      },
      "outputs": [
        {
          "output_type": "stream",
          "name": "stdout",
          "text": [
            "0.1\n"
          ]
        }
      ],
      "source": [
        "print(A[-1,-1])"
      ]
    },
    {
      "cell_type": "markdown",
      "metadata": {
        "id": "87kAcETwxYlX"
      },
      "source": [
        "(8) สมาชิกในแถวที่ 2 ของ $A$ ทั้งหมด"
      ]
    },
    {
      "cell_type": "code",
      "execution_count": null,
      "metadata": {
        "id": "ZZwPzVMZxjj_",
        "colab": {
          "base_uri": "https://localhost:8080/"
        },
        "outputId": "b1c59602-339a-4e9f-c427-daf88d4b952e"
      },
      "outputs": [
        {
          "output_type": "stream",
          "name": "stdout",
          "text": [
            "[ 2. -2.  3.  4. -5.  3.  2.  1.]\n"
          ]
        }
      ],
      "source": [
        "print(A[1,:])"
      ]
    },
    {
      "cell_type": "markdown",
      "metadata": {
        "id": "IVWHheGOxvZA"
      },
      "source": [
        "(9) สมาชิกในหลักที่ 3 ของ $A$"
      ]
    },
    {
      "cell_type": "code",
      "execution_count": null,
      "metadata": {
        "id": "pd8uAYl3x1tD",
        "colab": {
          "base_uri": "https://localhost:8080/"
        },
        "outputId": "ca9b1c5f-f1b4-448c-b296-681f4c5cfb19"
      },
      "outputs": [
        {
          "output_type": "stream",
          "name": "stdout",
          "text": [
            "[4. 3. 5. 2. 0.]\n"
          ]
        }
      ],
      "source": [
        "print(A[:,2])"
      ]
    },
    {
      "cell_type": "markdown",
      "metadata": {
        "id": "bhAVrtVix2P7"
      },
      "source": [
        "(11) เมทริกซ์ $B=\n",
        "\\begin{bmatrix}\n",
        "  0&  4&  3\\\\\n",
        "  -2&  3&  4\\\\\n",
        "\\end{bmatrix}$ จาก $A$"
      ]
    },
    {
      "cell_type": "code",
      "execution_count": null,
      "metadata": {
        "id": "uwun24Q0yViA",
        "colab": {
          "base_uri": "https://localhost:8080/"
        },
        "outputId": "63c637c7-ecd3-4586-b393-0a8414685be8"
      },
      "outputs": [
        {
          "output_type": "stream",
          "name": "stdout",
          "text": [
            "[[ 0.  4.  3.]\n",
            " [-2.  3.  4.]]\n"
          ]
        }
      ],
      "source": [
        "B=A[0:2,1:4]\n",
        "print(B)"
      ]
    },
    {
      "cell_type": "markdown",
      "metadata": {
        "id": "MvVlSBEByWMb"
      },
      "source": [
        "(12) เมทริกซ์ $C=\n",
        "\\begin{bmatrix}\n",
        "0& 3& 9\\\\\n",
        "4& 6& 9\\\\\n",
        "1& 2& 4\n",
        "\\end{bmatrix}$ จาก $A$"
      ]
    },
    {
      "cell_type": "code",
      "execution_count": null,
      "metadata": {
        "id": "OaLr8lI50oZC",
        "colab": {
          "base_uri": "https://localhost:8080/"
        },
        "outputId": "466d2b5c-0202-476b-d041-fe3132cf1fa5"
      },
      "outputs": [
        {
          "output_type": "stream",
          "name": "stdout",
          "text": [
            "[[0. 3. 9.]\n",
            " [4. 6. 9.]\n",
            " [1. 2. 4.]]\n"
          ]
        }
      ],
      "source": [
        "C=A[0:5:2,1:6:2]\n",
        "print(C)"
      ]
    },
    {
      "cell_type": "markdown",
      "metadata": {
        "id": "VSRJKmFayrAG"
      },
      "source": [
        "(14) เมทริกซ์ $D=\n",
        "\\begin{bmatrix}\n",
        " 0&  9\\\\\n",
        "-1&  1\n",
        "\\end{bmatrix}$ จาก $A$"
      ]
    },
    {
      "cell_type": "code",
      "source": [
        "D=A[0:4:3,1:6:4]\n",
        "print(D)"
      ],
      "metadata": {
        "colab": {
          "base_uri": "https://localhost:8080/"
        },
        "id": "YFYflA5SZpzx",
        "outputId": "d209f932-02f6-4f45-8959-a9101317746c"
      },
      "execution_count": null,
      "outputs": [
        {
          "output_type": "stream",
          "name": "stdout",
          "text": [
            "[[ 0.  9.]\n",
            " [-1.  1.]]\n"
          ]
        }
      ]
    },
    {
      "cell_type": "markdown",
      "metadata": {
        "id": "AzZb6dBay6Me"
      },
      "source": [
        "# 1.7.4 คำสั่งที่เกี่ยวข้องอื่นๆ"
      ]
    },
    {
      "cell_type": "markdown",
      "metadata": {
        "id": "5pJipPNSzkON"
      },
      "source": [
        "- `numpy.transpose(A)` เป็นฟังก์ชันสำหรับหาค่าทรานสโพสของอาร์เรย์ $A$\n",
        "- `numpy.size(A)` เป็นฟังก์ชันสำหรับหาค่าจำนวนสมาชิกทั้งหมดของอาร์เรย์ $A$\n",
        "- `numpy.shape(A)` เป็นฟังก์ชันสำหรับหาค่าขนาดของอาร์เรย์ $A$\n",
        "- `numpy.linspace(a,b,n)` เป็นฟังก์ชันสำหรับสร้างเมทริกซ์แถวขนาด $1 \\times n$ ที่มีสมาชิกตัวแรกเท่ากับ $a$ สมาชิกตัวถัดไปเพิ่มขึ้น $\\frac{b-a}{n-1}$ และสมาชิกตัวสุดท้ายเท่ากับ $b$\n",
        "- `numpy.abs(A)` เป็นฟังก์ชันสำหรับหาค่าสัมบูรณ์ของสมาชิกทั้งหมดของอาร์เรย์ $A$\n",
        "\n",
        "- `numpy.floor(A)` เป็นฟังก์ชันสำหรับหาค่าจำนวนเต็มที่มากที่สุดที่น้อยกว่าของแต่ละสมาชิกของอาร์เรย์ $A$\n",
        "\n",
        "- `numpy.ceil(A)` เป็นฟังก์ชันสำหรับหาค่าจำนวนเต็มที่น้อยที่สุดที่มากกว่าของแต่ละสมาชิกของอาร์เรย์ $A$\n",
        "\n",
        "- `numpy.round(A)` เป็นฟังก์ชันสำหรับปัดเศษให้เป็นจำนวนเต็มที่ใกล้เคียงที่สุดของแต่ละสมาชิกของอาร์เรย์ $A$\n",
        "\n",
        "- `numpy.random`เป็นฟังก์ชันสำหรับสร้างเมททริกซ์สุ่มแบบต่างๆ ซึ่งมีคำสั่งย่อยต่างๆ เช่น\n",
        "\n",
        "  - `numpy.random.rand(m,n)` เป็นฟังก์ชันเกี่ยวกับสร้างเมทริกซ์ขนาด $m\\times n$ ที่สมาชิกเกิดจากการแจกแจงแบบเอกรูปในช่วง $[0,1]$\n",
        "\n",
        "  - `numpy.random.randn(m,n)` เป็นฟังก์ชันเกี่ยวกับสร้างเมทริกซ์ขนาด $m\\times n$ ที่สมาชิกเกิดจากการแจกแจงแบบปกติมาตรฐาน"
      ]
    },
    {
      "cell_type": "markdown",
      "metadata": {
        "id": "6EtjnMER2tbp"
      },
      "source": [
        "**ตัวอย่าง 1.7.8**\n",
        "\n",
        "1. จงสร้างเวกเตอร์ $A=[0~0.1~0.2~0.3~0.4~0.5~0.6~0.7~0.8~ 0.9~1.]$ ด้วยคำสั่ง `numpy.linspace`\n",
        "2. หาจำนวนสมาชิกทั้งหมดของ $A$ ในข้อ 1\n",
        "3. หาจำนวนแถวและหลักของ $A$\n",
        "4. สร้างเมทริกซ์ $C$ ที่มีขนาด $4\\times 7$ โดยที่สมาชิกทุกตัวของ $C$ เกิดจากการสุ่มแบบเอกรูปในช่วง [-4,3]\n",
        "5. สร้างเมทริกซ์ $D$ ที่มีขนาด $5\\times 5$ โดยที่สมาชิกทุกตัวของ $D$ เกิดจากการสุ่มแบบปรกติมาตรฐาน\n",
        "\n"
      ]
    },
    {
      "cell_type": "code",
      "source": [
        "import numpy as np"
      ],
      "metadata": {
        "id": "kdfazwESf9i7"
      },
      "execution_count": null,
      "outputs": []
    },
    {
      "cell_type": "code",
      "source": [
        "A=np.linspace(0,1,11)\n",
        "print(A)"
      ],
      "metadata": {
        "id": "FYF1YEV7eY6u",
        "colab": {
          "base_uri": "https://localhost:8080/"
        },
        "outputId": "d7f71b1d-0c5c-4a0f-e419-db7240542552"
      },
      "execution_count": null,
      "outputs": [
        {
          "output_type": "stream",
          "name": "stdout",
          "text": [
            "[0.  0.1 0.2 0.3 0.4 0.5 0.6 0.7 0.8 0.9 1. ]\n"
          ]
        }
      ]
    },
    {
      "cell_type": "code",
      "source": [
        "sizeA=np.size(A)\n",
        "print(sizeA)"
      ],
      "metadata": {
        "id": "gh3WGNOoflyO",
        "colab": {
          "base_uri": "https://localhost:8080/"
        },
        "outputId": "d23ab474-9076-4372-9c3e-bca8204da99c"
      },
      "execution_count": null,
      "outputs": [
        {
          "output_type": "stream",
          "name": "stdout",
          "text": [
            "11\n"
          ]
        }
      ]
    },
    {
      "cell_type": "code",
      "source": [
        "shA=np.shape(A)\n",
        "print(shA)"
      ],
      "metadata": {
        "id": "svYXv7KufrN4",
        "colab": {
          "base_uri": "https://localhost:8080/"
        },
        "outputId": "76914cb9-702f-42d3-96d1-75061180506d"
      },
      "execution_count": null,
      "outputs": [
        {
          "output_type": "stream",
          "name": "stdout",
          "text": [
            "(11,)\n"
          ]
        }
      ]
    },
    {
      "cell_type": "code",
      "execution_count": null,
      "metadata": {
        "id": "qAKYw-N58kHP",
        "colab": {
          "base_uri": "https://localhost:8080/"
        },
        "outputId": "ee49121a-ee25-4bb9-ae34-7d982ee387e2"
      },
      "outputs": [
        {
          "output_type": "stream",
          "name": "stdout",
          "text": [
            "[[-1.14822802 -1.34246903 -2.74065204 -3.05149959  0.90589795 -3.51527201\n",
            "  -1.3931293 ]\n",
            " [ 1.05067255 -1.44256889 -3.84223391 -2.91301892  0.95989521 -1.02818021\n",
            "   0.37163753]\n",
            " [-3.77818557  0.89489568 -3.3755247  -1.35201671 -2.61543625  2.16371428\n",
            "   0.53874528]\n",
            " [-3.8030372   0.67976756  2.6101242   0.96027736 -3.09556705  1.81857825\n",
            "  -3.266647  ]]\n"
          ]
        }
      ],
      "source": [
        "C=-4+7*np.random.rand(4,7)\n",
        "print(C)"
      ]
    },
    {
      "cell_type": "code",
      "source": [
        "D=np.random.randn(5,5)\n",
        "print(D)"
      ],
      "metadata": {
        "id": "eWpP0DqhdRm6",
        "colab": {
          "base_uri": "https://localhost:8080/"
        },
        "outputId": "04d378c8-ed20-4778-887f-c9f0d3da3d2b"
      },
      "execution_count": null,
      "outputs": [
        {
          "output_type": "stream",
          "name": "stdout",
          "text": [
            "[[-2.13328748  1.8818162  -0.1724372   1.21431672 -2.53354473]\n",
            " [-1.15216781 -0.92097388 -0.21467973  0.30491875 -1.27418333]\n",
            " [-0.34973946  0.24029681  0.73314998  1.25950532  1.89849898]\n",
            " [-0.96800948  0.44825375  0.38135156  0.72412681  0.634904  ]\n",
            " [ 0.32171929  0.47797406 -1.35231165  1.17659614 -0.00785454]]\n"
          ]
        }
      ]
    },
    {
      "cell_type": "markdown",
      "metadata": {
        "id": "--_A5g6oXfgt"
      },
      "source": [
        "# เอกสารอ้างอิง\n",
        "1. Python Language. https://www.python.org\n",
        "2. math — Mathematical functions: https://docs.python.org/3/library/math.html\n",
        "3. Numpy Library: https://numpy.org\n"
      ]
    },
    {
      "cell_type": "markdown",
      "metadata": {
        "id": "smzse4qZMJYs"
      },
      "source": [
        "<img src = 'https://drive.google.com/uc?id=18qUXmnQK3FIPfMCm8m0aKf1Saam6ezdJ'>"
      ]
    },
    {
      "cell_type": "markdown",
      "metadata": {
        "id": "rE16rIVtMJYs"
      },
      "source": [
        "<img src = 'https://drive.google.com/uc?id=192V5NZG8GXDFzYQIxTRJCSmiBUkc2xys'>"
      ]
    }
  ],
  "metadata": {
    "colab": {
      "provenance": [],
      "include_colab_link": true
    },
    "kernelspec": {
      "display_name": "Python 3 (ipykernel)",
      "language": "python",
      "name": "python3"
    },
    "language_info": {
      "codemirror_mode": {
        "name": "ipython",
        "version": 3
      },
      "file_extension": ".py",
      "mimetype": "text/x-python",
      "name": "python",
      "nbconvert_exporter": "python",
      "pygments_lexer": "ipython3",
      "version": "3.11.0"
    }
  },
  "nbformat": 4,
  "nbformat_minor": 0
}