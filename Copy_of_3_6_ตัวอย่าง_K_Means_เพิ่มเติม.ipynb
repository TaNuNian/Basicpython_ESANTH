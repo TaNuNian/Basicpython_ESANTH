{
  "nbformat": 4,
  "nbformat_minor": 0,
  "metadata": {
    "colab": {
      "provenance": [],
      "include_colab_link": true
    },
    "kernelspec": {
      "name": "python3",
      "display_name": "Python 3"
    },
    "language_info": {
      "name": "python"
    }
  },
  "cells": [
    {
      "cell_type": "markdown",
      "metadata": {
        "id": "view-in-github",
        "colab_type": "text"
      },
      "source": [
        "<a href=\"https://colab.research.google.com/github/TaNuNian/Basicpython_ESANTH/blob/main/Copy_of_3_6_%E0%B8%95%E0%B8%B1%E0%B8%A7%E0%B8%AD%E0%B8%A2%E0%B9%88%E0%B8%B2%E0%B8%87_K_Means_%E0%B9%80%E0%B8%9E%E0%B8%B4%E0%B9%88%E0%B8%A1%E0%B9%80%E0%B8%95%E0%B8%B4%E0%B8%A1.ipynb\" target=\"_parent\"><img src=\"https://colab.research.google.com/assets/colab-badge.svg\" alt=\"Open In Colab\"/></a>"
      ]
    },
    {
      "cell_type": "markdown",
      "source": [
        "<img src = 'https://drive.google.com/uc?id=18zsxFId1FaUI1RvfkAex6ZoNpToP8GoT'>"
      ],
      "metadata": {
        "id": "X37vubLxBUVi"
      }
    },
    {
      "cell_type": "markdown",
      "source": [
        "# ผู้เรียบเรียงเนื้อหา: ดร.เปรม จันทร์สว่าง\n",
        "## สาขาวิชาสถิติ คณะวิทยาศาตร์ มหาวิทยาลัยขอนแก่น\n",
        "\n",
        "# ผู้บรรยาย: ดร.วิธวินท์ สุสุทธิ\n",
        "## ภาควิชาคณิตศาสตร์ คณะวิทยาศาสตร์ มหาวิทยาลัยเทคโนโลยีพระจอมเกล้าธนบุรี"
      ],
      "metadata": {
        "id": "pCiTtFdVhMsu"
      }
    },
    {
      "cell_type": "markdown",
      "source": [
        "##### **ตัวอย่างการใช้ K-mean algorithm ในการจัดกลุ่มผู้ใช้บัตรเครดิต**"
      ],
      "metadata": {
        "id": "lW4D-IOXCZy7"
      }
    },
    {
      "cell_type": "markdown",
      "source": [
        "**ดึงข้อมูล**"
      ],
      "metadata": {
        "id": "1enwh04fCfkD"
      }
    },
    {
      "cell_type": "code",
      "execution_count": null,
      "metadata": {
        "id": "dtJGzsRHBLIs"
      },
      "outputs": [],
      "source": [
        "from google.colab import drive\n",
        "drive.mount('/content/drive')\n",
        "\n",
        "import pandas as pd\n",
        "import seaborn as sns\n",
        "\n",
        "df = pd.read_csv('/content/drive/MyDrive/MLDataset/CC_GENERAL.csv')\n",
        "df.head()"
      ]
    },
    {
      "cell_type": "markdown",
      "source": [
        "**สำรวจข้อมูล**"
      ],
      "metadata": {
        "id": "rV0AgQrVMpVm"
      }
    },
    {
      "cell_type": "code",
      "source": [
        "df.info()"
      ],
      "metadata": {
        "id": "L3jlA9EZMvtR"
      },
      "execution_count": null,
      "outputs": []
    },
    {
      "cell_type": "code",
      "source": [
        "df.isnull().sum()"
      ],
      "metadata": {
        "id": "D8uE7_J8NUJ4"
      },
      "execution_count": null,
      "outputs": []
    },
    {
      "cell_type": "code",
      "source": [
        "df.dropna(inplace=True)\n",
        "df.isnull().sum()"
      ],
      "metadata": {
        "id": "5MAPOI4wNW40"
      },
      "execution_count": null,
      "outputs": []
    },
    {
      "cell_type": "code",
      "source": [
        "df_active = df.drop(columns=['ONEOFF_PURCHASES', 'PURCHASES_INSTALLMENTS_FREQUENCY',\"CUST_ID\"],axis=1)\n",
        "df_active.info()"
      ],
      "metadata": {
        "id": "IEQ-L8tnNZWM"
      },
      "execution_count": null,
      "outputs": []
    },
    {
      "cell_type": "markdown",
      "source": [
        "แปลงข้อมูลให้เป็นค่ามาตรฐาน"
      ],
      "metadata": {
        "id": "_HKIiJRQNciM"
      }
    },
    {
      "cell_type": "code",
      "source": [
        "from sklearn import preprocessing\n",
        "scaler = preprocessing.StandardScaler()\n",
        "df_active_scale = scaler.fit_transform(df_active)"
      ],
      "metadata": {
        "id": "sDQzZ4KkNfcx"
      },
      "execution_count": null,
      "outputs": []
    },
    {
      "cell_type": "markdown",
      "source": [
        "ทำการจัดกลุ่ม"
      ],
      "metadata": {
        "id": "jT4KAXcFNiTl"
      }
    },
    {
      "cell_type": "code",
      "source": [
        "from sklearn.cluster import KMeans\n",
        "from sklearn.metrics import silhouette_score\n",
        "k_param = [2,3,4,5,6,7,8,9,10]\n",
        "fits = []\n",
        "score = []\n",
        "for i in k_param:\n",
        "  kmeans_i = KMeans(n_clusters = i, random_state = 0, n_init='auto')\n",
        "  fits.append(kmeans_i.fit(df_active_scale))\n",
        "  score.append(silhouette_score(df_active_scale, kmeans_i.labels_, metric='euclidean'))\n",
        "  print(f'# of cluster: {i} => score = {score[-1]:.2f}')"
      ],
      "metadata": {
        "id": "DlDvvTwXNjm6"
      },
      "execution_count": null,
      "outputs": []
    },
    {
      "cell_type": "code",
      "source": [
        "sns.lineplot(x = k_param, y = score)"
      ],
      "metadata": {
        "id": "6Fg4HycXNwES"
      },
      "execution_count": null,
      "outputs": []
    },
    {
      "cell_type": "code",
      "source": [
        "kmeans = KMeans(n_clusters=2,n_init='auto').fit(df_active_scale)"
      ],
      "metadata": {
        "id": "LQjhtHFAOdR_"
      },
      "execution_count": null,
      "outputs": []
    },
    {
      "cell_type": "code",
      "source": [
        "clusters_kmeans = kmeans.labels_\n",
        "df_active['Cluster No.'] = clusters_kmeans\n",
        "df_active.sample(6)"
      ],
      "metadata": {
        "id": "DLwAowcIOfut"
      },
      "execution_count": null,
      "outputs": []
    },
    {
      "cell_type": "code",
      "source": [
        "df_active['Cluster No.'].unique()"
      ],
      "metadata": {
        "id": "ekB2awB3OicZ"
      },
      "execution_count": null,
      "outputs": []
    },
    {
      "cell_type": "code",
      "source": [
        "df_active['Cluster No.'] = df_active['Cluster No.'] +1"
      ],
      "metadata": {
        "id": "OdPDkkXsOjAF"
      },
      "execution_count": null,
      "outputs": []
    },
    {
      "cell_type": "code",
      "source": [
        "df_active.sample(10)"
      ],
      "metadata": {
        "id": "McCmkSA8sLAW"
      },
      "execution_count": null,
      "outputs": []
    },
    {
      "cell_type": "code",
      "source": [
        "df_active.groupby('Cluster No.').agg(\"mean\")"
      ],
      "metadata": {
        "id": "88Z77fXTOm5q"
      },
      "execution_count": null,
      "outputs": []
    },
    {
      "cell_type": "markdown",
      "source": [
        "<img src = 'https://drive.google.com/uc?id=18qUXmnQK3FIPfMCm8m0aKf1Saam6ezdJ'>\n",
        "<img src = 'https://drive.google.com/uc?id=192V5NZG8GXDFzYQIxTRJCSmiBUkc2xys'>"
      ],
      "metadata": {
        "id": "mE_zUBKCBTTc"
      }
    }
  ]
}