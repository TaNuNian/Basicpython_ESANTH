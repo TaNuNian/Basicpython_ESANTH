{
  "cells": [
    {
      "cell_type": "markdown",
      "metadata": {
        "id": "view-in-github",
        "colab_type": "text"
      },
      "source": [
        "<a href=\"https://colab.research.google.com/github/TaNuNian/Basicpython_ESANTH/blob/main/Course2Toptic1Part2.ipynb\" target=\"_parent\"><img src=\"https://colab.research.google.com/assets/colab-badge.svg\" alt=\"Open In Colab\"/></a>"
      ]
    },
    {
      "cell_type": "markdown",
      "metadata": {
        "id": "hSZx5CXGMJYJ",
        "jp-MarkdownHeadingCollapsed": true,
        "tags": []
      },
      "source": [
        "<img src = 'https://drive.google.com/uc?id=18zsxFId1FaUI1RvfkAex6ZoNpToP8GoT'>"
      ]
    },
    {
      "cell_type": "markdown",
      "metadata": {
        "id": "zkPTuqCM-p4I"
      },
      "source": [
        "---"
      ]
    },
    {
      "cell_type": "markdown",
      "metadata": {
        "id": "dTEnS9ttMJYP"
      },
      "source": [
        "# ผู้บรรยาย: ผู้ช่วยศาสตราจารย์ ดร. วีระชัย สาระคร\n",
        "## สาขาวิชาคณิตศาสตร์ คณะวิทยาศาสตร์ มหาวิทยาลัยขอนแก่น"
      ]
    },
    {
      "cell_type": "markdown",
      "metadata": {
        "id": "_rL4rmhf-p4K",
        "tags": []
      },
      "source": [
        "---"
      ]
    },
    {
      "cell_type": "markdown",
      "metadata": {
        "id": "Do-3ccWrMJYQ",
        "tags": []
      },
      "source": [
        "# Topic 1: Basic Python Programming for Data Scientists"
      ]
    },
    {
      "cell_type": "markdown",
      "metadata": {
        "id": "7RxiDerGMJYR"
      },
      "source": [
        "# 1.1 แนะนำภาษาไพทอน"
      ]
    },
    {
      "cell_type": "markdown",
      "metadata": {
        "id": "QHp-EDw1MJYR"
      },
      "source": [
        "ดูที่\n",
        "\n",
        "https://drive.google.com/file/d/1Oqcn7GAB5M91pKNKSh4OxYpvwf6H44DF/view?usp=sharing\n",
        "\n",
        "(หรือ https://powerclass.org/wp-content/uploads/2023/11/Course2Topic1_1-1.pdf)"
      ]
    },
    {
      "cell_type": "code",
      "execution_count": null,
      "metadata": {
        "id": "QkqoRd3kMJYS"
      },
      "outputs": [],
      "source": [
        "print(\"Hello E-sarn Thailand Coding & AI Academy.\")"
      ]
    },
    {
      "cell_type": "markdown",
      "metadata": {
        "id": "32nIJgNe827d",
        "tags": []
      },
      "source": [
        "# 1.2 การตั้งชื่อตัวแปรและประเภทของข้อมูลในภาษาไพทอน"
      ]
    },
    {
      "cell_type": "markdown",
      "metadata": {
        "id": "v1SMLOo5oNzA"
      },
      "source": [
        "## 1.2.1 การตั้งชื่อตัวแปร\n",
        "**กฎการตั้งชื่อตัวแปรในภาษาไพทอน**\n",
        "1. ชื่อตัวแปรควรขึ้นต้นด้วยอักษรภาษาอังกฤษ\n",
        "2. ชื่อตัวแปรนอกจากจะประกอบด้วยตัวอักษรภาษาอังกฤษแล้วยังสามารถประกอบด้วยตัวเลขหรืออักขระพิเศษ `_` โดยที่ไม่มีช่องว่าง\n",
        "3. ตัวอักษรภาษาอังกฤษตัวเล็กและใหญ่ในชื่อตัวแปรจะให้ความหมายแตกต่างกัน (case-sensitive)\n",
        "4. ควรตั้งชื่อตัวแปรให้เหมาะสมและง่ายต่อการจดจำ\n",
        "5. ชื่อตัวแปรต้องไม่ซ้ำกับคำสงวนในภาษาไพทอน (Reserved word, Keyword) เช่น ชื่อคำสั่ง ชื่อฟังก์ชัน ที่มีอยู่ในภาษาไพทอน ตัวอย่างคำสำคัญในภาษาไพทอน ได้แก่\n",
        "\n",
        "        False      class      finally    is         return\n",
        "        None       continue   for        lambda     try\n",
        "        True       def        from       nonlocal   while\n",
        "        and        del        global     not        with\n",
        "        as         elif       if         or         yield\n",
        "        assert     else       import     pass       break\n",
        "        except     in         raise\n",
        "\n",
        "## 1.2.2 การกำหนดค่าตัวแปร\n",
        "ภาษาไพทอนจะใช้เครื่องหมาย = ในการกำหนดค่าให้กับตัวแปร\n",
        "\n",
        "**รูปแบบการกำหนดค่าให้กับตัวแปรเป็นดังนี้**\n",
        "```\n",
        "ตัวแปร = ค่าของตัวแปร\n",
        "```"
      ]
    },
    {
      "cell_type": "markdown",
      "metadata": {
        "id": "h5_i0p-Mb5n9"
      },
      "source": [
        "**ตัวอย่าง 1.2.1**\n",
        "ตัวอย่างการตั้งชื่อตัวแปรที่ถูกต้องเป็นดังนี้"
      ]
    },
    {
      "cell_type": "code",
      "execution_count": null,
      "metadata": {
        "id": "JZxFsl3-ObUi"
      },
      "outputs": [],
      "source": [
        "Weight=50"
      ]
    },
    {
      "cell_type": "code",
      "execution_count": null,
      "metadata": {
        "id": "AOLPx8H5PAG1"
      },
      "outputs": [],
      "source": [
        "print(Weight)"
      ]
    },
    {
      "cell_type": "code",
      "execution_count": null,
      "metadata": {
        "id": "-cPjsBnUPQJO"
      },
      "outputs": [],
      "source": [
        "Score=98\n",
        "year = 2023\n",
        "a1=1\n",
        "A_1=2.5\n",
        "Esarn_coders=1000\n"
      ]
    },
    {
      "cell_type": "code",
      "execution_count": null,
      "metadata": {
        "id": "noDSeXHfPTZ-"
      },
      "outputs": [],
      "source": [
        "print(year)\n",
        "print(a1)\n",
        "print(Esarn_coders)"
      ]
    },
    {
      "cell_type": "markdown",
      "metadata": {
        "id": "mHpioZjbcDx-"
      },
      "source": [
        "**ตัวอย่าง 1.2.2**\n",
        "ตัวอย่างการตั้งชื่อตัวแปรที่ไม่ได้เป็นตามข้อกำหนดเป็นดังนี้"
      ]
    },
    {
      "cell_type": "code",
      "execution_count": null,
      "metadata": {
        "id": "X5c7QYVAMJYV"
      },
      "outputs": [],
      "source": [
        "1a=-1"
      ]
    },
    {
      "cell_type": "code",
      "execution_count": null,
      "metadata": {
        "id": "u-iPNFHjRecW"
      },
      "outputs": [],
      "source": [
        "C 1= 10"
      ]
    },
    {
      "cell_type": "code",
      "execution_count": null,
      "metadata": {
        "id": "FmEiv4RGRyBV"
      },
      "outputs": [],
      "source": [
        "d$=0."
      ]
    },
    {
      "cell_type": "code",
      "execution_count": null,
      "metadata": {
        "id": "fu7xB7ZDR5AC"
      },
      "outputs": [],
      "source": [
        "if=200"
      ]
    },
    {
      "cell_type": "code",
      "execution_count": null,
      "metadata": {
        "id": "rjrOowkPSB99"
      },
      "outputs": [],
      "source": [
        "for = -1000"
      ]
    },
    {
      "cell_type": "markdown",
      "metadata": {
        "id": "ywG3-cQ2Iatz"
      },
      "source": [
        "## 1.2.3 โครงสร้างข้อมูลของภาษาไพทอน (Data structures of Python language)\n",
        "โครงสร้างข้อมูลของภาษาไพทอนสรุปได้ดังแผนภาพต่อไปนี้\n",
        "<img src = 'https://drive.google.com/uc?id=1I5fNgjMzDKaUyxCZ0nV6qoC9UBtusr_y' alt = 'แผนภาพแสดงโครงสร้างทางข้อมูลของภาษาไพทอน' width ='800px'>"
      ]
    },
    {
      "cell_type": "markdown",
      "metadata": {
        "id": "1q08BSbEMJYW"
      },
      "source": [
        "### 1. ข้อมูลแบบพื้นฐาน(Primitive)\n",
        "\n",
        "**1.1 ตัวแปรประเภทจำนวนเต็ม (Integer Variables)** เป็นตัวแปรที่มีค่าเป็นจำนวนเต็ม การป้อนค่าตัวเลขจะต้องไม่มีจุด(.)หรือตัวเลขหลังจุดทศนิยม ตัวอย่างเช่น `x = 10`, `count = 5`\n",
        "\n",
        "**1.2 ตัวแปรประเภททศนิยม (Float Variables)** เป็นตัวแปรที่มีค่าเป็นจำนวนจริงและจัดเก็บในรูปทศนิยมจุดลอย(floating point) เช่น `pi = 3.14`, `average = 5.75`\n",
        "\n",
        "**1.3 ตัวแปรประเภทสตริง (String Variables)หรือตัวแปรสายอักขระ** เป็นตัวแปรที่เก็บข้อมูลในรูปแบบข้อความหรือกลุ่มของอักขระ ซึ่งกลุ่มของอักขระนี้ได้แก่ ตัวอักษร ตัวเลข สัญลักษณ์ต่างๆ ซึ่งกลุ่มอักขระเหล่านี้จะต้องอยู่ภายใต้เครื่องหมาย `'  '` หรือ `\"    \"` เช่น `name = \"John\"`, `message = 'Hello, World!'`\n",
        "\n",
        "**1.4 ตัวแปรประเภทบูลีน (Boolean Variables) หรือตัวแปรตรรกศาสตร์** เป็นตัวแปรที่จะมีค่าของตัวแปรเป็นจริง(True)หรือเท็จ(False)เท่านั้น เช่น `is_valid = True`, `has_permission = False`\n",
        "\n",
        "### 2. ข้อมูลแบบซับซ้อน(Non-Primitive)\n",
        "ข้อมูลประเภทนี้แบ่งเป็น 2 ชนิดได้แก่\n",
        "\n",
        "**2.1 ข้อมูลแบบซับซ้อนที่กำหนดไว้แล้ว(Built-in)** ได้แก่\n",
        "\n",
        "**2.1.1 ลิสต์ (List Variables)**\n",
        "   เป็นตัวแปรที่เก็บค่าของข้อมูลประเภทต่างๆหลายๆ ค่าไว้ด้วยกันได้  เช่น `numbers = [1, 2, 3, 4, 5]`, `names = ['Alice', 'Bob', 'Charlie']`\n",
        "\n",
        "**2.1.2 ทูเพิล (Tuple Variables)**\n",
        "   เป็นตัวแปรประเภทลิสต์ประเภทหนึ่งที่กำหนดขึ้นมาแล้วไม่สามารถเปลี่ยนแปลงค่าในภายหลังได้ เช่น `coordinates = (3, 4)`, `colors = ('red', 'green', 'blue')`\n",
        "\n",
        "**2.1.3 เซต (Set Variables)**\n",
        "   เป็นตัวแปรที่เก็บข้อมูลในรูปแบบเซต(set) ซึ่งสมาชิกของข้อมูลไม่ซ้ำกัน เช่น `unique_numbers = {1, 2, 3, 4, 5}`, `unique_colors = {'red', 'green', 'blue'}`\n",
        "\n",
        "**2.1.4 ดิกชันนารี (Dictionary Variables)**\n",
        "   เป็นตัวแปรที่เก็บข้อมูลในรูปแบบดิกชันนารี (dictionary) ที่มีโครงสร้างคีย์-ค่า (key-value) เช่น `person = {'name': 'John', 'age': 30, 'city': 'New York'}`\n",
        "\n",
        "**2.2 ข้อมูลแบบซับซ้อนที่กำหนดเอง (User-defined)** ได้แก่\n",
        "\n",
        "**2.2.1 สแต็ก (Stack)**\n",
        "เป็นโครงสร้างข้อมูลที่มีลักษณะ Last-In-First-Out (LIFO) กล่าวคือ ข้อมูลที่ถูกเพิ่มล่าสุดจะถูกนำออกไปใช้ก่อน\n",
        "\n",
        "**2.2.2 คิว (Queue)**\n",
        "เป็นโครงสร้างข้อมูลที่มีลักษณะ First-In-First-Out (FIFO) กล่าวคือ ข้อมูลที่ถูกเพิ่มอันดับแรกสุดจะถูกนำออกมาใช้ก่อน\n",
        "\n",
        "**2.2.3 ต้นไม้ (Tree)**\n",
        "เป็นโครงสร้างข้อมูลที่มีจุดยอด(หรือโหนด)และเส้น(การเชื่อมต่อระหว่างโหนด) โหนดที่อยู่บนสุดจะเรียกว่าราก(root)\n",
        "\n",
        "**2.2.4 กราฟ (Graph)**\n",
        "เป็นโครงสร้างข้อมูลที่มีโหนดและเส้นเชื่อมต่อระหว่างโหนด โหนดที่เชื่อมโยงกันเรียกว่า Vertex"
      ]
    },
    {
      "cell_type": "markdown",
      "metadata": {
        "id": "mnlf_LzpMJYW"
      },
      "source": [
        "**ตัวอย่าง 1.2.3** จงสร้างตัวแปรสำหรับเก็บค่าข้อมูลในแต่ละข้อต่อไปนี้\n",
        "1. จำนวนผู้ลงทะเบียนเข้าร่วมโครงการ E-sarn Thailand coding & AI จำนวน 1000 คน\n",
        "2. ค่าที่เกิดจากการปัดเศษ 0.17468 ให้มีจำนวนตำแหน่งทศนิยม 4 ตำแหน่ง\n",
        "3. ตัวแปรแบบสตริงที่เก็บข้อความ Python Language\n",
        "4. ค่าของตัวแปร T1 และ T2 ที่มีค่าความจริงที่เป็นเท็จและจริง ตามลำดับ\n",
        "5. ค่าคะแนนของผู้ร่วมโครงการฯ E-sarn Thailand coding & AI จากกิจกรรม Codecombat จำนวน 5 คนได้แก่ 29.62, 29.5, 29.37,29\n",
        "6. ข้อมูลยี่ห้อรถยนต์ ได้แก่ toyota, handa, isuzu, mazda\n",
        "7. พิกัดของจุดมุมของรูปสามเหลี่ยมในระบบพิกัดฉากซึ่งได้แก่ (0,0), (0,1), (1,0) โดยที่ไม่สามารถเปลี่ยนแปลงพิกัดนี้ได้\n",
        "8. เซตของรายชื่อภาษาโปรแกรมได้แก่ python, javascript, c, swift, ruby"
      ]
    },
    {
      "cell_type": "code",
      "execution_count": null,
      "metadata": {
        "id": "2vjAfIPUMJYX"
      },
      "outputs": [],
      "source": [
        "# ข้อ 1\n",
        "numEsarnCoders = 1000"
      ]
    },
    {
      "cell_type": "code",
      "execution_count": null,
      "metadata": {
        "id": "jhksWSQ-GhSh"
      },
      "outputs": [],
      "source": [
        "# 2\n",
        "a=0.1747"
      ]
    },
    {
      "cell_type": "code",
      "execution_count": null,
      "metadata": {
        "id": "li7TnrEdGvqp"
      },
      "outputs": [],
      "source": [
        "# 3\n",
        "s1='Python Language'\n",
        "s2=\"Python Language\""
      ]
    },
    {
      "cell_type": "code",
      "execution_count": null,
      "metadata": {
        "id": "qCu55pCWG_cL"
      },
      "outputs": [],
      "source": [
        "# 4\n",
        "T1=False\n",
        "T2=True"
      ]
    },
    {
      "cell_type": "code",
      "execution_count": null,
      "metadata": {
        "id": "xfnVlKAhH0HH"
      },
      "outputs": [],
      "source": [
        "#5\n",
        "Score=[29.62,29.5,29.37,29]"
      ]
    },
    {
      "cell_type": "code",
      "execution_count": null,
      "metadata": {
        "id": "IJBB9fm1ITs5"
      },
      "outputs": [],
      "source": [
        "#6\n",
        "Car_Brands=['toyota','honda','isuzu','mazda']"
      ]
    },
    {
      "cell_type": "code",
      "execution_count": null,
      "metadata": {
        "id": "xblKn3q_It-i"
      },
      "outputs": [],
      "source": [
        "#7\n",
        "coor1=(0,0)\n",
        "coor2=(0,1)\n",
        "coor3=(1,0)"
      ]
    },
    {
      "cell_type": "code",
      "execution_count": null,
      "metadata": {
        "id": "DbD0CXJcJHLJ"
      },
      "outputs": [],
      "source": [
        "#8\n",
        "listprog={'python','javascript','c','ruby','swift'}"
      ]
    },
    {
      "cell_type": "markdown",
      "metadata": {
        "id": "Xsga50btMJYY"
      },
      "source": [
        "## 1.2.4 การตรวจสอบประเภทของตัวแปร\n",
        "ผู้ใช้งานสามารถตรวจสอบประเภทของตัวแปรหรือข้อมูลที่ต้องการ โดยใช้คำสั่ง `type` รูปแบบคำสั่งเบื้องต้นเป็นดังนี้\n",
        "```\n",
        "type(var)\n",
        "```\n",
        "เมื่อ ``var`` เป็นตัวแปรหรือข้อมูลที่ต้องการ"
      ]
    },
    {
      "cell_type": "markdown",
      "metadata": {
        "id": "gLINQ6A7TJur"
      },
      "source": [
        "**ตัวอย่าง 1.2.4** จงตรวจสอบประเภทของตัวแปรในตัวอย่าง 1.2.3"
      ]
    },
    {
      "cell_type": "code",
      "execution_count": null,
      "metadata": {
        "id": "P4JGmnahTgaQ"
      },
      "outputs": [],
      "source": [
        "type(numEsarnCoders)"
      ]
    },
    {
      "cell_type": "code",
      "execution_count": null,
      "metadata": {
        "id": "f4axSsRQl2dp"
      },
      "outputs": [],
      "source": [
        "type(s2)"
      ]
    },
    {
      "cell_type": "code",
      "execution_count": null,
      "metadata": {
        "id": "vb17fVdJl2dp"
      },
      "outputs": [],
      "source": [
        "type(T1)"
      ]
    },
    {
      "cell_type": "code",
      "execution_count": null,
      "metadata": {
        "id": "fyP21pOxl2dp"
      },
      "outputs": [],
      "source": [
        "type(listprog)"
      ]
    },
    {
      "cell_type": "markdown",
      "metadata": {
        "id": "b_V_-PK0ugt3"
      },
      "source": [
        "# 1.3. คำสั่งการรับข้อมูลเข้าและแสดงผล\n",
        "## 1.3.1 การรับข้อมูลเข้า\n",
        "สำหรับภาษาไพทอน การรับข้อมูลเข้าผ่านทางแป้นพิมพ์จะใช้คำสั่ง `input` โดยมีรูปแบบการใช้งานดังนี้\n",
        "```\n",
        "x = input([prompt])\n",
        "```\n",
        "เมื่อ `x` เป็นตัวแปรทีจะรับค่าข้อมูลซึ่งจะเป็นตัวแปรแบบสายอักขระ `prompt`เป็นข้อความสายอักขระที่ต้องการแสดงบนหน้าจอซึ่งข้อความนี้จะมีหรือไม่มีก็ได้(optional)\n",
        "กรณีที่ มีรับค่าข้อมูลหลายค่าที่ข้อมูลแต่ละค่าคั่นด้วยช่องว่างให้คั่นระหว่างชื่อตัวแปรด้วย $,$ ตัวอย่างเช่น รับค่า 3 ค่าพร้อมกัน ดังนี้\n",
        "```\n",
        "x1,x2,x3 = input([prompt]).split()\n",
        "```\n",
        "กรณีต้องการรับค่าข้อมูลและจัดเก็บให้เป็นจำนวนเต็ม จะใช้คำสั่งดังนี้\n",
        "```\n",
        "x = int(input([prompt]))\n",
        "```\n",
        "กรณีต้องการรับค่าข้อมูลและจัดเก็บให้เป็นจำนวนจริง จะใช้คำสั่งดังนี้\n",
        "```\n",
        "x = float(input([prompt]))\n",
        "```"
      ]
    },
    {
      "cell_type": "markdown",
      "metadata": {
        "id": "EOJuo-zJUdNU"
      },
      "source": [
        "**ตัวอย่าง 1.3.1** จงบอกคำสั่งในการป้อนค่าข้อมูลในแต่ละข้อต่อไปนี้\n",
        "1. รับค่าชื่อจังหวัดจากแป้นพิมพ์และเก็บไว้ในตัวแปร `prov1` โดยให้แสดงข้อความ \"กรุณาป้อนชื่อจังหวัดที่เกิด:\" ก่อนการรับค่า\n",
        "2. รับค่าชื่อผลไม้ 3 ประเภทจากแป้นพิมพ์และเก็บไว้ในตัวแปร `fruit1`,`fruit2`,`fruit3` โดยให้แสดงข้อความ \"กรุณาป้อนชื่อผลไม้ 3 ประเภท\" ก่อนการรับค่า\n",
        "3. รับค่าจำนวนเฉพาะจากแป้นพิมพ์และเก็บไว้ในตัวแปร `prime1` โดยให้แสดงข้อความ \"Input your prime number\" ก่อนการรับค่า\n",
        "4. รับค่าประมาณของ $\\pi$ ที่แสดงถึงทศนิยมตำแหน่งที่ 4 จากแป้นพิมพ์และเก็บไว้ในตัวแปร `pii` โดยให้แสดงข้อความ \"Input the approximation of pi with 4 decimal places\" ก่อนการรับค่า"
      ]
    },
    {
      "cell_type": "code",
      "execution_count": null,
      "metadata": {
        "id": "xfnSSy9xl2dr",
        "outputId": "8f72525b-2873-4013-a93b-eb8e90318ef0"
      },
      "outputs": [
        {
          "name": "stdin",
          "output_type": "stream",
          "text": [
            "กรุณาป้อนชื่อจังหวัดที่เกิด: ร้อยเอ็ด\n"
          ]
        }
      ],
      "source": [
        "prov1=input('กรุณาป้อนชื่อจังหวัดที่เกิด:')"
      ]
    },
    {
      "cell_type": "code",
      "execution_count": null,
      "metadata": {
        "id": "0kqOI8KPl2dr",
        "outputId": "c9e2910f-b981-447f-acb6-71edac5c8ab8"
      },
      "outputs": [
        {
          "name": "stdin",
          "output_type": "stream",
          "text": [
            "กรุณาป้อนชื่อผลไม้ 3 ประเภท มะม่วง เงาะ ลำใย\n"
          ]
        }
      ],
      "source": [
        "fruit1,fruit2,fruit3=input('กรุณาป้อนชื่อผลไม้ 3 ประเภท').split()"
      ]
    },
    {
      "cell_type": "code",
      "execution_count": null,
      "metadata": {
        "id": "6-fYqXMVl2ds",
        "outputId": "a6a18b5a-156a-4c92-c000-134d230b9cd0"
      },
      "outputs": [
        {
          "name": "stdin",
          "output_type": "stream",
          "text": [
            "Input your prime number 7\n"
          ]
        }
      ],
      "source": [
        "prime1=int(input('Input your prime number'))"
      ]
    },
    {
      "cell_type": "code",
      "execution_count": null,
      "metadata": {
        "id": "_lXVQN54l2ds",
        "outputId": "06a26dfd-ed39-4f40-8641-64fabb373ac1"
      },
      "outputs": [
        {
          "name": "stdin",
          "output_type": "stream",
          "text": [
            "input the approximation of pi with 4 decimal places 3.1416\n"
          ]
        }
      ],
      "source": [
        "pii=float(input('input the approximation of pi with 4 decimal places'))"
      ]
    },
    {
      "cell_type": "markdown",
      "metadata": {
        "id": "OYNZtoPeuwtz"
      },
      "source": [
        "## 1.3.2 การแสดงผล\n",
        "สำหรับภาษาไพทอนจะใช้คำสั่ง `print` ในการแสดงผลทางจอภาพ ซึ่งมีรูปแบบการใช้งานดังนี้\n",
        "```\n",
        "print(value, ..., sep=' ', end='\\n', file=sys.stdout, flush=False)\n",
        "```\n",
        "`value` เป็นค่าตัวแปรหรือสายอักขระที่ต้องการแสดงผล\n",
        "\n",
        "`sep` เป็นสายอักขระที่ต้องการแทรกระหว่างค่า โดยการตั้งค่าเริ่มต้นของไพทอน จะเป็นช่องว่าง 1 ช่อง\n",
        "\n",
        "`end` เป็นสายอักขระที่เป็นค่าสุดท้าย โดยการตั้งค่าเริ่มต้นของไพทอน จะเป็นการขึ้นบรรทัดใหม่ หรือ`\\n`\n",
        "\n",
        "`file` เป็นชื่อไฟล์ที่ต้องการเก็บการแสดงผล ซึ่งถ้า `file=sys.stdout`หรือไม่มีการระบุตัวเลือกนี้ จะเป็นการแสดงผ่านทางหน้าจอ แต่ถ้าระบุเป็นชื่อไฟล์อื่นก็สามารถทำได้ ซึ่งประเภทของไฟล์อาจจะเป็น .txt, .cvs เป็นต้น\n",
        "\n",
        "`flush`เป็นตัวกำหนดการล้างการแสดงผลก่อนหน้านี้ โดยปกติหากไม่มีการระบุจะมีค่าเป็น `False`"
      ]
    },
    {
      "cell_type": "markdown",
      "metadata": {
        "id": "fyvRxBUSmSI2"
      },
      "source": [
        "**ตัวอย่าง** 1.3.2 กำหนดให้ตัวแปร 3 ตัวมีค่าดังนี้"
      ]
    },
    {
      "cell_type": "code",
      "execution_count": null,
      "metadata": {
        "id": "Jr8zwFkpBCND"
      },
      "outputs": [],
      "source": [
        "x1=10\n",
        "x2=100\n",
        "x3=1000"
      ]
    },
    {
      "cell_type": "markdown",
      "metadata": {
        "id": "b7MfAQu1CQoi"
      },
      "source": [
        "จงบอกคำสั่งที่แสดงผลค่าตัวแปรให้มีรูปแบบในแต่ละข้อต่อไปนี้\n",
        "\n",
        "1.\n",
        "```\n",
        "10 100 1000\n",
        "```"
      ]
    },
    {
      "cell_type": "code",
      "execution_count": null,
      "metadata": {
        "id": "Zqv5exZjBCNE",
        "colab": {
          "base_uri": "https://localhost:8080/"
        },
        "outputId": "21f23420-e1ab-4046-9ba0-0924bec3f89c"
      },
      "outputs": [
        {
          "output_type": "stream",
          "name": "stdout",
          "text": [
            "10 100 1000\n"
          ]
        }
      ],
      "source": [
        "print(x1,x2,x3)"
      ]
    },
    {
      "cell_type": "markdown",
      "metadata": {
        "id": "kwBukyfpBCNF"
      },
      "source": [
        "2.\n",
        "```\n",
        "10  100  1000\n",
        "```"
      ]
    },
    {
      "cell_type": "code",
      "execution_count": null,
      "metadata": {
        "id": "phh2urpcCN3e",
        "colab": {
          "base_uri": "https://localhost:8080/"
        },
        "outputId": "4488c9f0-226d-41bd-bf67-e4b72a854ff1"
      },
      "outputs": [
        {
          "output_type": "stream",
          "name": "stdout",
          "text": [
            "10  100  1000\n",
            "10  100  1000\n"
          ]
        }
      ],
      "source": [
        "print(x1,'',x2,'',x3)\n",
        "print(x1,\"\",x2,\"\",x3)"
      ]
    },
    {
      "cell_type": "markdown",
      "metadata": {
        "id": "CI1joZadBCNF",
        "tags": []
      },
      "source": [
        "3.\n",
        "```\n",
        "10 --> 100 --> 1000 -->\n",
        "```"
      ]
    },
    {
      "cell_type": "code",
      "execution_count": null,
      "metadata": {
        "id": "P3Gfxy1jl2du",
        "colab": {
          "base_uri": "https://localhost:8080/"
        },
        "outputId": "fdc4e535-a44f-405d-c107-ae4901c15575"
      },
      "outputs": [
        {
          "output_type": "stream",
          "name": "stdout",
          "text": [
            "10 --> 100 --> 1000 -->\n"
          ]
        }
      ],
      "source": [
        "print(x1,'-->',x2,'-->',x3,'-->')"
      ]
    },
    {
      "cell_type": "markdown",
      "metadata": {
        "id": "DG6u00fFBCNG"
      },
      "source": [
        "4.\n",
        "```\n",
        "10   -->\n",
        "100  -->\n",
        "1000 -->\n",
        "```"
      ]
    },
    {
      "cell_type": "code",
      "execution_count": null,
      "metadata": {
        "id": "7V4ddn5RBCNK",
        "colab": {
          "base_uri": "https://localhost:8080/"
        },
        "outputId": "28682f06-0cd4-4eac-d309-c3e98e7d60a7"
      },
      "outputs": [
        {
          "output_type": "stream",
          "name": "stdout",
          "text": [
            "10   -->\n",
            "100  -->\n",
            "1000 -->\n"
          ]
        }
      ],
      "source": [
        "print(x1,'  -->')\n",
        "print(x2,' -->')\n",
        "print(x3,'-->')"
      ]
    },
    {
      "cell_type": "markdown",
      "metadata": {
        "id": "mg-9bw8x5-Dz"
      },
      "source": [
        "นอกจากนี้ ผู้ใช้งานสามารถกำหนดรูปแบบค่าของตัวแปรทีต้องการแสดงผลให้เป็นไปตามความต้องการได้ตามประเภทของตัวแปรที่ระบุได้ ไม่ว่าตัวแปรนั้นจะเป็นจำนวนเต็ม จำนวนจริง หรือ สายอักขระ การกำหนดรูปแบบแสดงผลมีหลายรูปแบบ ในบทนี้จะแนะนำ 3 รูปแบบ ดังนี้\n",
        "\n",
        "### การแสดงผลโดยการใช้ตัวดำเนินการ `%`\n",
        "เป็นการกำหนดรูปแบบการแสดงผลแบบเดิม(คล้ายภาษา C)โดยมีรูปแบบดังนี้\n",
        "```\n",
        "print('Some string ... %[width][.precision]type'%(var))\n",
        "```\n",
        "เมื่อ\n",
        "\n",
        "`width` เป็นจำนวนความยาวของอักขระที่ต้องการแสดงผล\n",
        "\n",
        "`precision` เป็นจำนวนตำแหน่งทศนิยม (ถ้ามี)\n",
        "\n",
        "`type` เป็นประเภทของรูปแบบ ได้แก่\n",
        "- `d` แสดงผลเป็นจำนวนเต็ม\n",
        "- `f` แสดงผลเป็นจำนวนจริงแบบทศนิยมจุดลอย(floating point)\n",
        "- `e` แสดงผลแบบสัญกรณ์ทางวิทยาศาสตร์\n",
        "- `s` แสดงผลแบบสายอักขระ\n",
        "\n",
        "`var` เป็นชื่อตัวแปรที่ต้องการแสดงค่า"
      ]
    },
    {
      "cell_type": "markdown",
      "metadata": {
        "id": "cN-Im8OGV7Dg"
      },
      "source": [
        "**ตัวอย่าง 1.3.3** กำหนดให้ค่าของตัวแปรเป็นดังนี้"
      ]
    },
    {
      "cell_type": "code",
      "execution_count": null,
      "metadata": {
        "id": "QHPwP6sDCNzV"
      },
      "outputs": [],
      "source": [
        "person='Leonhard Euler'\n",
        "birth_year=1707\n",
        "euler_const = 2.718281828459"
      ]
    },
    {
      "cell_type": "markdown",
      "metadata": {
        "id": "OqDNiA2Ul2dv"
      },
      "source": [
        "จงแสดงข้อความ\n",
        "\n",
        "```Leonhard Euler was born in 1707. He is the mathematician who presented the Euler constant e = 2.71828```\n",
        "\n",
        "ด้วยคำสั่ง `print` และใช้ตัวดำเนินการ `%` เพื่อนำค่าตัวแปรที่กำหนดให้มาแสดงในข้อความที่กำหนด"
      ]
    },
    {
      "cell_type": "code",
      "source": [
        "print('%s was born in %d. He is the mathematician who presented the Euler constant e = %.5f'%(person,birth_year,euler_const))"
      ],
      "metadata": {
        "colab": {
          "base_uri": "https://localhost:8080/"
        },
        "id": "f3lZPdqd1nTF",
        "outputId": "f3e2bc2a-257c-4e54-c6ce-cbfb869ac827"
      },
      "execution_count": null,
      "outputs": [
        {
          "output_type": "stream",
          "name": "stdout",
          "text": [
            "Leonhard Euler was born in 1707. He is the mathematician who presented the Euler constant e = 2.71828\n"
          ]
        }
      ]
    },
    {
      "cell_type": "code",
      "execution_count": null,
      "metadata": {
        "id": "B900jaZ2-p4h",
        "colab": {
          "base_uri": "https://localhost:8080/"
        },
        "outputId": "8fb74bb8-1c8d-4ea7-a3c4-312302d1db87"
      },
      "outputs": [
        {
          "output_type": "stream",
          "name": "stdout",
          "text": [
            "Leonhard Euler was born in 1707. He is the mathematician who presented the Euler constant e =         2.71828\n"
          ]
        }
      ],
      "source": [
        "print('%s was born in %d. He is the mathematician who presented the Euler constant e = %15.5f'%(person,birth_year,euler_const))"
      ]
    },
    {
      "cell_type": "markdown",
      "metadata": {
        "id": "QA1yGhAjBIkF"
      },
      "source": [
        "### การแสดงผลโดยการใช้ `f-strings`\n",
        "รูปแบบการใช้งาน\n",
        "```\n",
        "print(f'...Some strings...{var1:format1}...Some strings {var2:format2}...')\n",
        "```\n",
        "หรือ\n",
        "```\n",
        "print(f\"...Some strings...{var1:format1}...Some strings {var2:format2}...\")\n",
        "```\n",
        "เมื่อ `var1`, `var2` เป็นชื่อตัวแปร และ `format1`, `format2` เป็นรูปแบบที่ต้องการแสดงผลที่กำหนดเหมือนกับกรณีการใช้ `%` แต่ไม่ต้องใส่เครื่องหมาย `%`"
      ]
    },
    {
      "cell_type": "markdown",
      "metadata": {
        "id": "1qLnpqN3CNwo"
      },
      "source": [
        "**ตัวอย่าง 1.3.4** จงแสดงข้อความเหมือนในตัวอย่าง 1.3.3 โดยใช้ `f-strings`"
      ]
    },
    {
      "cell_type": "code",
      "execution_count": null,
      "metadata": {
        "id": "NeoIENvMl2dv",
        "colab": {
          "base_uri": "https://localhost:8080/"
        },
        "outputId": "fe4367c0-fd51-4cb0-aed9-bf6f39a3972e"
      },
      "outputs": [
        {
          "output_type": "stream",
          "name": "stdout",
          "text": [
            "Leonhard Euler was born in 1707. He is the mathematician who presented the Euler constant e = 2.71828\n"
          ]
        }
      ],
      "source": [
        "print(f'{person:s} was born in {birth_year:d}. He is the mathematician who presented the Euler constant e = {euler_const:.5f}')"
      ]
    },
    {
      "cell_type": "code",
      "source": [
        "print(f'{person:20s} was born in {birth_year:6d}. He is the mathematician who presented the Euler constant e = {euler_const:.5f}')"
      ],
      "metadata": {
        "colab": {
          "base_uri": "https://localhost:8080/"
        },
        "id": "QV9LlkOM3Ahu",
        "outputId": "43978405-1e58-476d-c990-2642bfb6ec65"
      },
      "execution_count": null,
      "outputs": [
        {
          "output_type": "stream",
          "name": "stdout",
          "text": [
            "Leonhard Euler       was born in   1707. He is the mathematician who presented the Euler constant e = 2.71828\n"
          ]
        }
      ]
    },
    {
      "cell_type": "markdown",
      "metadata": {
        "id": "3S7WURby_ZuY"
      },
      "source": [
        "### การแสดงผลโดยการใช้ `str.format()`\n",
        "รูปแบบการใช้งาน\n",
        "```\n",
        "print('Some strings {:format1} some strings {:format2} ....'.format(var1,var2,...))\n",
        "```\n",
        "หรือ\n",
        "```\n",
        "print('Some strings {var1:format1} some strings {var2:format2} ....'.format(var1=value1,var2=value2,...))\n",
        "```\n",
        "เมื่อ `var1`, `var2` เป็นชื่อตัวแปร และ `format1`, `format2` เป็นรูปแบบที่ต้องการแสดงผลที่กำหนดเหมือนกับกรณีการใช้ `%` แต่ไม่ต้องใส่เครื่องหมาย `%`"
      ]
    },
    {
      "cell_type": "markdown",
      "metadata": {
        "id": "ybYSOSajCQlf"
      },
      "source": [
        "**ตัวอย่าง 1.3.5** จงแสดงข้อความเหมือนในตัวอย่าง 1.3.3 โดยใช้ `str.format()`"
      ]
    },
    {
      "cell_type": "code",
      "execution_count": null,
      "metadata": {
        "id": "WWEGSCSVCqG8",
        "colab": {
          "base_uri": "https://localhost:8080/"
        },
        "outputId": "92fe90e8-3d5b-4b8e-ef04-4085e40aff52"
      },
      "outputs": [
        {
          "output_type": "stream",
          "name": "stdout",
          "text": [
            "Leonhard Euler was born in 1707. He is the mathematician who presented the Euler constant e = 2.71828\n"
          ]
        }
      ],
      "source": [
        "print('{:s} was born in {:d}. He is the mathematician who presented the Euler constant e = {:.5f}'.format(person,birth_year,euler_const))"
      ]
    },
    {
      "cell_type": "code",
      "source": [
        "print('{:20s} was born in {:6d}. He is the mathematician who presented the Euler constant e = {:10.5f}'.format(person,birth_year,euler_const))"
      ],
      "metadata": {
        "colab": {
          "base_uri": "https://localhost:8080/"
        },
        "id": "N-7i5-zB5oje",
        "outputId": "73b37f33-23b1-421a-f4f1-00efa2c50354"
      },
      "execution_count": null,
      "outputs": [
        {
          "output_type": "stream",
          "name": "stdout",
          "text": [
            "Leonhard Euler       was born in   1707. He is the mathematician who presented the Euler constant e =    2.71828\n"
          ]
        }
      ]
    },
    {
      "cell_type": "markdown",
      "metadata": {
        "id": "hD99wCgDnsJQ"
      },
      "source": [
        "## 1.3.3 การเปิดและปิดไฟล์\n",
        "การเปิดไฟล์จะใช้คำสั่งดังนี้\n",
        "\n",
        "```\n",
        "fileID = open(Filename,mod)\n",
        "```\n",
        "\n",
        "เมื่อ\n",
        "`Filename` เป็นตัวแปรแบบสตริงที่เป็นชื่อไฟล์ที่ต้องการเปิด(พร้อมนามสกุลของไฟล์)\n",
        "\n",
        "`mode` เป็นลักษณะการเปิดไฟล์ ซึ่งมีดังนี้\n",
        "\n",
        "- `'r'` เป็นการเปิดไฟล์เพื่ออ่านอย่างเดียว ถ้าไม่มีไฟล์ปรากฏอยู่จะเกิดข้อผิดพลาด(error)\n",
        "\n",
        "- `'a'` เป็นการเปิดไฟล์โดยที่ ถ้า ไฟล์ที่จะเปิดนั้นยังไม่ปรากฏอยู่ก็สร้างไฟล์นั้นขึ้นมาให้\n",
        "\n",
        "- `'w'` เป็นการเปิดไฟล์ที่ผู้ใช้งานสามารถเขียนข้อมูลลงไปในไฟล์ที่เปิดอยู่ได้ หากไฟล์ที่เปิดไม่ปรากฏอยู่ก็จะสร้างไฟล์นั้นๆ ขึ้นมาแต่ถ้าไฟล์นั้นมีอยู่แล้ว ข้อมูลในไฟล์จะถูกลบออกทั้งหมดก่อนมีการเขียนลงไปใหม่\n",
        "\n",
        "- `'x'` เป็นการสร้างไฟล์เฉพาะ ถ้ามีไฟล์อยู่แล้วก็จะเกิดข้อผิดพลาดเกิดขึ้น\n",
        "\n",
        "นอกจากนี้ ผู้ใช้งานยังสามารถระบุประเภทการเขียนข้อมูลลงไปในไฟล์ได้ว่าจะต้องการเขียนไฟล์แบบ\n",
        "- ข้อความธรรมดา(text mode) ด้วยการระบุ `t`  หรือ\n",
        "- แบบภาษาเครื่อง(binary mode) `b` (ไฟล์ประเภทรูปภาพ)\n",
        "\n",
        "ต่อท้าย `mode` ได้\n",
        "\n",
        "เมื่อทำการเขียนข้อมูลเสร็จแล้ว ผู้ใช้งานสามารถปิดไฟล์ด้วยคำสั่ง `close` ดังนี้\n",
        "```\n",
        "fileID.close()\n",
        "```"
      ]
    },
    {
      "cell_type": "markdown",
      "metadata": {
        "id": "SBZFS-G7stXT"
      },
      "source": [
        "**ตัวอย่าง 1.3.6**\n",
        "จงเขียนคำสั่งไพทอนเพื่อให้โปรแกรมทำงานดังต่อไปนี้\n",
        "1. เก็บชื่อและนามสกุลไว้ในตัวแปรสายอักขระ A1\n",
        "2. เก็บลำดับเลขที่สมัครในโครงการฯไว้ในตัวแปรจำนวนเต็ม A2\n",
        "3. เก็บจำนวนคะแนนที่ได้จากการเรียน Codecombat (ที่เป็น % จากคะแนนเต็ม 35%)เป็นตัวแปรจำนวนทศนิยม A3\n",
        "4. ตั้งชื่อและเปิดไฟล์ 'EsarnCoding.txt'\n",
        "\n",
        "เมื่อเปิดไฟล์สำเร็จ ให้ทำการเขียนข้อมูลต่อไปนี้ลงในไฟล์ดังกล่าว\n",
        "1. เขียนข้อความ “This is my personal data in E-sarn Thailand Coding and AI Project”\n",
        "2. เขียนข้อความ “My name is ”  ตามด้วยข้อมูลที่เก็บไว้ในตัวแปร A1\n",
        "3. เขียนข้อความ “My registered ID is ” * ตามด้วยข้อมูลที่เก็บไว้ในตัวแปร A2\n",
        "4. เขียนข้อความ “My Codecombat score is” ตามด้วยข้อมูลที่เก็บไว้ในตัวแปร A3 โดยแสดงเลขทศนิยม 5 ตำแหน่ง\n",
        "5. แสดงค่าประโยคข้างต้นให้อยู่คนละบรรทัดกัน\n",
        "6. ปิดไฟล์และตรวจสอบว่าข้อมูลต่างๆ ที่เขียนลงไปในไฟล์ที่กำหนดถูกต้องหรือไม่"
      ]
    },
    {
      "cell_type": "code",
      "execution_count": null,
      "metadata": {
        "id": "YMlQ1bYK-p4i"
      },
      "outputs": [],
      "source": [
        "A1='Weerachai Sarakorn'\n",
        "A2=1\n",
        "A3= 29.0\n",
        "fileID=open('EsarnCoding.txt','wt')\n",
        "print('This is my personal data in E-sarn Thailand Coding and AI Project',file=fileID)\n",
        "print('My name is {:s}'.format(A1),file=fileID)\n",
        "print('My registered ID is {:d}'.format(A2),file=fileID)\n",
        "print('My Codecombat score is {:.5f}'.format(A3),file=fileID)\n",
        "fileID.close()"
      ]
    },
    {
      "cell_type": "markdown",
      "metadata": {
        "id": "p8H4SIcBCyKj"
      },
      "source": [
        "# 1.4 คำสั่งและตัวดำเนินการต่างๆ ที่เกี่ยวกับข้อมูลแบบพื้นฐาน"
      ]
    },
    {
      "cell_type": "markdown",
      "metadata": {
        "id": "YJKnRFS3SSu6"
      },
      "source": [
        "## 1.4.1 การเปลี่ยนประเภทการจัดเก็บของตัวแปรพื้นฐาน\n",
        "หากผู้ใช้งานมีความจำเป็นที่จะเปลี่ยนจะประเภทการจัดเก็บของตัวแปรพื้นฐานที่กำหนดให้จัดเก็บเป็นตัวแปรพื้นฐานประเภทอื่น ก็สามารถทำได้ ตัวอย่างคำสั่งการเปลี่ยนประเภทการจัดเก็บของตัวแปรที่สำคัญมีดังนี้\n",
        "\n",
        "1. `int` เป็นคำสั่งที่ใช้แปลงค่าตัวแปรและจัดเก็บให้เป็นตัวแปรจำนวนเต็ม\n",
        "2. `float` เป็นคำสั่งที่ใช้แปลงค่าตัวแปรและจัดเก็บให้เป็นตัวแปรจำนวนทศนิยม\n",
        "3. `str` เป็นคำสั่งที่ใช้แปลงค่าตัวแปรและจัดเก็บให้เป็นตัวแปรสายอักขระ\n",
        "4. `bool` เป็นคำสั่งที่ให้แปลงค่าตัวแปรและจัดเก็บให้เป็นตัวแปรบูลีน สำหรับตัวแปรที่ไม่ได้จัดเก็บเป็นตัวแปรบูลีน เมื่อใช้คำสั่งนี้จะได้ค่าตัวแปรเป็นจริง หากตัวแปรนั้นเป็นตัวแปรบูลีน จะได้ค่าความจริงตามที่จัดเก็บไว้ก่อนหน้านี้"
      ]
    },
    {
      "cell_type": "markdown",
      "metadata": {
        "id": "ypwSubMnvjR6"
      },
      "source": [
        "**ตัวอย่าง 1.4.1** กำหนดค่าตัวแปรดังต่อไปนี้"
      ]
    },
    {
      "cell_type": "code",
      "execution_count": null,
      "metadata": {
        "id": "FlSkGfBwu8G9"
      },
      "outputs": [],
      "source": [
        "a=100.\n",
        "b=100.99\n",
        "c=100\n",
        "d='101'\n",
        "e=True\n",
        "f=False"
      ]
    },
    {
      "cell_type": "markdown",
      "metadata": {
        "id": "LBqnYTt1-p4j"
      },
      "source": [
        "1. จงแปลงค่าตัวแปร `a`,`b` และ `d`ให้เป็นตัวแปรจำนวนเต็มโดยจัดเก็บไว้ในตัวแปร `inta`,`intb` และ `intd` ตามลำดับ จากนั้นแสดงค่าตัวแปรและประเภทของตัวแปรใหม่ทั้งสาม"
      ]
    },
    {
      "cell_type": "code",
      "execution_count": null,
      "metadata": {
        "id": "lz9BhDam-p4j",
        "colab": {
          "base_uri": "https://localhost:8080/"
        },
        "outputId": "1b4b3942-4551-4a9c-fcba-168add7232bd"
      },
      "outputs": [
        {
          "output_type": "stream",
          "name": "stdout",
          "text": [
            "100\n",
            "<class 'int'>\n"
          ]
        }
      ],
      "source": [
        "inta=int(a)\n",
        "print(inta)\n",
        "print(type(inta))"
      ]
    },
    {
      "cell_type": "code",
      "source": [
        "intb=int(b)\n",
        "print(intb)\n",
        "print(type(intb))"
      ],
      "metadata": {
        "colab": {
          "base_uri": "https://localhost:8080/"
        },
        "id": "nSb8EtNcJzjN",
        "outputId": "cad8761b-f61f-45d1-fc4a-eed610e0cf90"
      },
      "execution_count": null,
      "outputs": [
        {
          "output_type": "stream",
          "name": "stdout",
          "text": [
            "100\n",
            "<class 'int'>\n"
          ]
        }
      ]
    },
    {
      "cell_type": "code",
      "source": [
        "intd=int(d)\n",
        "print(intd)\n",
        "print(type(intd))"
      ],
      "metadata": {
        "colab": {
          "base_uri": "https://localhost:8080/"
        },
        "id": "ufFE9UKDJ925",
        "outputId": "c9abf3ed-5ec2-4667-a77b-2b187b804cc7"
      },
      "execution_count": null,
      "outputs": [
        {
          "output_type": "stream",
          "name": "stdout",
          "text": [
            "101\n",
            "<class 'int'>\n"
          ]
        }
      ]
    },
    {
      "cell_type": "markdown",
      "metadata": {
        "id": "2prmhwsr-p4j"
      },
      "source": [
        "2. จงแปลงค่าตัวแปร `c` ให้เป็นตัวแปรจำนวนทศนิยมโดยจัดเก็บไว้ในตัวแปร `floatc`แสดงค่าตัวแปรนี้และแสดงประเภทของตัวแปรนี้"
      ]
    },
    {
      "cell_type": "code",
      "execution_count": null,
      "metadata": {
        "id": "eppswJ5J-p4j",
        "colab": {
          "base_uri": "https://localhost:8080/"
        },
        "outputId": "d5696d82-e309-4c29-a8d8-1d1245ee6e21"
      },
      "outputs": [
        {
          "output_type": "stream",
          "name": "stdout",
          "text": [
            "100.0\n",
            "<class 'float'>\n"
          ]
        }
      ],
      "source": [
        "floatc=float(c)\n",
        "print(floatc)\n",
        "print(type(floatc))"
      ]
    },
    {
      "cell_type": "markdown",
      "metadata": {
        "id": "YxY5nAku-p4j"
      },
      "source": [
        "3. จงแปลงค่าตัวแปร `a`, `c` ให้เป็นตัวแปรแบบสายอักขระและจัดเก็บไว้ในตัวแปร `stra` และ `strc` ตามลำดับ จากนั้นแสงค่าตัวแปรและประเภทของตัวแปรใหม่ทั้งสอง"
      ]
    },
    {
      "cell_type": "code",
      "execution_count": null,
      "metadata": {
        "id": "thV6-Nud-p4k",
        "colab": {
          "base_uri": "https://localhost:8080/"
        },
        "outputId": "2d711706-1a46-4f84-a4d8-7b95e92b8dcd"
      },
      "outputs": [
        {
          "output_type": "stream",
          "name": "stdout",
          "text": [
            "100.0 100\n",
            "<class 'str'> <class 'str'>\n"
          ]
        }
      ],
      "source": [
        "stra=str(a)\n",
        "strc=str(c)\n",
        "print(stra,strc)\n",
        "print(type(stra),type(strc))"
      ]
    },
    {
      "cell_type": "markdown",
      "metadata": {
        "id": "ZkVnJkeW-p4k"
      },
      "source": [
        "4. จงใช้คำสั่ง `bool` สำหรับตัวแปรทั้งหมดและแสดงผลที่ได้ พร้อมตั้งข้อสังเกตุกับค่าที่ได้"
      ]
    },
    {
      "cell_type": "code",
      "execution_count": null,
      "metadata": {
        "id": "GqxXLDNI-p4k",
        "colab": {
          "base_uri": "https://localhost:8080/"
        },
        "outputId": "f00b467e-efce-4a18-9b80-96381ce6ece8"
      },
      "outputs": [
        {
          "output_type": "stream",
          "name": "stdout",
          "text": [
            "True\n",
            "True\n",
            "True\n",
            "True\n",
            "True\n",
            "False\n"
          ]
        }
      ],
      "source": [
        "print(bool(a))\n",
        "print(bool(b))\n",
        "print(bool(c))\n",
        "print(bool(d))\n",
        "print(bool(e))\n",
        "print(bool(f))"
      ]
    },
    {
      "cell_type": "markdown",
      "metadata": {
        "id": "bVIVPXpZLIxV"
      },
      "source": [
        "## 1.4.2 ตัวดำเนินการเกี่ยวกับตัวแปรประเภทจำนวนเต็มและตัวแปรประเภททศนิยม\n"
      ]
    },
    {
      "cell_type": "markdown",
      "metadata": {
        "id": "GFkMOW-fpAmN"
      },
      "source": [
        "ตัวดำเนินการที่สำคัญสำหรับพร้อมสัญลักษณ์ แสดงดังตารางต่อไปนี้\n",
        "\n",
        "| **ประเภทของการดำเนินการ**  | **สัญลักษณ์** |\n",
        "|-----------------------------|--------|\n",
        "| การบวก                      | `+`    |\n",
        "| การลบ                       | `-`    |\n",
        "| การคูณ                       | `*`    |\n",
        "| การหาร                      | `/`    |\n",
        "| การยกกำลัง                   | `**`   |\n",
        "| การหารแบบปัดเศษให้เป็นจำนวนเต็ม | `//`   |\n",
        "| การหารหาเศษเหลือ             | `%`    |\n",
        "\n",
        "\n"
      ]
    },
    {
      "cell_type": "markdown",
      "metadata": {
        "id": "gpqOzwSfvTUt"
      },
      "source": [
        "**ตัวอย่าง1.4.2** จงหาค่าที่กำหนดให้ต่อไปนี้"
      ]
    },
    {
      "cell_type": "markdown",
      "metadata": {
        "id": "-V7gdhA3-p4l"
      },
      "source": [
        "1. $-1+\\frac{2}{3+0.45}-\\frac{5^6+6^7}{(8+9(10))^2}$"
      ]
    },
    {
      "cell_type": "code",
      "execution_count": null,
      "metadata": {
        "id": "H19yR9yk-p4l",
        "colab": {
          "base_uri": "https://localhost:8080/"
        },
        "outputId": "4812847f-6fe4-44bb-efc4-9d223fc7c3f5"
      },
      "outputs": [
        {
          "output_type": "execute_result",
          "data": {
            "text/plain": [
              "-31.195071196180336"
            ]
          },
          "metadata": {},
          "execution_count": 52
        }
      ],
      "source": [
        "-1+2/(3+0.45)-(5**6+6**7)/(8+9*10)**2"
      ]
    },
    {
      "cell_type": "markdown",
      "metadata": {
        "id": "wl10TeEd-p4l"
      },
      "source": [
        "2. $z=1-xy+y^2+\\frac{x}{-1+x(x^2-y^{\\frac{2}{3}})}$ เมื่อ $x=-1,y=3$"
      ]
    },
    {
      "cell_type": "code",
      "execution_count": null,
      "metadata": {
        "id": "GYQ7H8DC-p4l",
        "colab": {
          "base_uri": "https://localhost:8080/"
        },
        "outputId": "8a9d6ead-3f48-49a8-9af2-58cf2e97f011"
      },
      "outputs": [
        {
          "output_type": "stream",
          "name": "stdout",
          "text": [
            "0.513083642973962\n"
          ]
        }
      ],
      "source": [
        "x=-1\n",
        "y=3\n",
        "z=1-x*y+y**2+x/(-1+x*(x**2-y**(2/3)))\n",
        "print(z)"
      ]
    },
    {
      "cell_type": "markdown",
      "metadata": {
        "id": "RbAE1nciXpvy"
      },
      "source": [
        "3. จงเขียนคำสั่งเพื่อรับค่าจำนวนเต็ม 3 จำนวนจากแป้นพิมพ์(บรรทัดละจำนวน) เก็บในตัวแปร $h, m$ และ $s$ ซึ่งแทนจำนวน ชั่วโมง นาที และ วินาที\n",
        "จากนั้น คำนวณจำนวนวินาทีรวมจาก $h, m$ และ $s$ แล้วแสดงผลจำนวนวินาทีรวมทั้งหมดที่คำนวณได้"
      ]
    },
    {
      "cell_type": "code",
      "execution_count": null,
      "metadata": {
        "colab": {
          "base_uri": "https://localhost:8080/"
        },
        "id": "nkd8wlS-hXtl",
        "outputId": "8040eaf8-00b2-4f10-e69f-33a10be12b3c"
      },
      "outputs": [
        {
          "output_type": "stream",
          "name": "stdout",
          "text": [
            "Input number of hours = 1\n",
            "Input number of minutes = 15\n",
            "Input number of seconds = 8\n",
            "The total times is 4508 seconds.\n"
          ]
        }
      ],
      "source": [
        "h=int(input('Input number of hours = '))\n",
        "m=int(input('Input number of minutes = '))\n",
        "s=int(input('Input number of seconds = '))\n",
        "# Ttotal is the total of times in seconds\n",
        "Ttotal = s+m*60+h*3600\n",
        "print('The total times is {:d} seconds.'.format(Ttotal))"
      ]
    },
    {
      "cell_type": "markdown",
      "metadata": {
        "id": "nA9Frd1O-p4l"
      },
      "source": [
        "4. หาร $20$ ด้วย $q$ เมื่ $q=2,3,7,-7$ แบบปัดเศษให้เป็นจำนวนเต็ม"
      ]
    },
    {
      "cell_type": "code",
      "execution_count": null,
      "metadata": {
        "id": "qbMa1xQ_-p4l",
        "colab": {
          "base_uri": "https://localhost:8080/"
        },
        "outputId": "ac7ed459-2e30-4d9a-e663-a5438d6b8be6"
      },
      "outputs": [
        {
          "output_type": "execute_result",
          "data": {
            "text/plain": [
              "10"
            ]
          },
          "metadata": {},
          "execution_count": 56
        }
      ],
      "source": [
        "20//2"
      ]
    },
    {
      "cell_type": "code",
      "source": [
        "20//3"
      ],
      "metadata": {
        "colab": {
          "base_uri": "https://localhost:8080/"
        },
        "id": "OWux9tFUQOql",
        "outputId": "ac381335-b22b-458a-d5b0-ab4a7194da54"
      },
      "execution_count": null,
      "outputs": [
        {
          "output_type": "execute_result",
          "data": {
            "text/plain": [
              "6"
            ]
          },
          "metadata": {},
          "execution_count": 57
        }
      ]
    },
    {
      "cell_type": "code",
      "source": [
        "20//7"
      ],
      "metadata": {
        "colab": {
          "base_uri": "https://localhost:8080/"
        },
        "id": "iLPj19okQXt6",
        "outputId": "dc60ce1f-341f-42a7-fc98-aee03105747f"
      },
      "execution_count": null,
      "outputs": [
        {
          "output_type": "execute_result",
          "data": {
            "text/plain": [
              "2"
            ]
          },
          "metadata": {},
          "execution_count": 58
        }
      ]
    },
    {
      "cell_type": "code",
      "source": [
        "20//-7"
      ],
      "metadata": {
        "colab": {
          "base_uri": "https://localhost:8080/"
        },
        "id": "LIH9veGkQd7d",
        "outputId": "9e615179-d501-4d61-fbe7-1cb4b1cb8d96"
      },
      "execution_count": null,
      "outputs": [
        {
          "output_type": "execute_result",
          "data": {
            "text/plain": [
              "-3"
            ]
          },
          "metadata": {},
          "execution_count": 59
        }
      ]
    },
    {
      "cell_type": "markdown",
      "metadata": {
        "id": "ML_8D2Pw-p4l"
      },
      "source": [
        "5. หาค่าและแสดงผลเศษเหลือ $r$ ที่เกิดจาการหาร $p$ ด้วย $q$ เมื่อ $q\\neq 0$ โดยทำการป้อนค่า $p$ และ $q$ จากแป้นพิมพ์"
      ]
    },
    {
      "cell_type": "code",
      "execution_count": null,
      "metadata": {
        "id": "exE8mO8h-p4m",
        "colab": {
          "base_uri": "https://localhost:8080/"
        },
        "outputId": "4ac33ee5-e71a-44c9-e06c-c5a0e9f85123"
      },
      "outputs": [
        {
          "output_type": "stream",
          "name": "stdout",
          "text": [
            "Input p = 20\n",
            "Input q = -7\n",
            "The remainder r = -1\n"
          ]
        }
      ],
      "source": [
        "p=int(input('Input p = '))\n",
        "q=int(input('Input q = '))\n",
        "r=p%q\n",
        "print('The remainder r = {:d}'.format(r))"
      ]
    },
    {
      "cell_type": "markdown",
      "metadata": {
        "id": "IIN16h_EV5Bn"
      },
      "source": [
        "## 1.4.3 คำสั่งพื้นฐานเกี่ยวกับตัวแปรสตริง\n",
        "คำสั่งต่างๆ ที่สำคัญเกี่ยวกับตัวแปรประเภทสตริงที่จะแนะนำในบทนี้ ได้แก่\n",
        "1. `len(var)` ใช้หาความยาวของตัวแปรประเภทสตริง `var`\n",
        "2. `var.replace(s1,s2)` การแทนที่กลุ่มอักขระเดิม `s1` ในตัวแปร `var` ด้วยกลุ่มอักขระใหม่ `s2`\n",
        "3. `var.split(\" \")` การแยกกลุ่มข้อความออกจากกันด้วยช่องว่าง` ` (หากต้องการแยกข้อความด้วยอักขระอื่น ให้แทนที่ช่องว่างด้วยอักขระนั้นๆ เช่น `,`,`.` เป็นต้น\n",
        "4. `var.capitalize()` เปลี่ยนตัวอักษรภาษาอังกฤษตัวแรกใน `var' ให้เป็นตัวอักษรพิมพ์ใหญ่\n",
        "5. `var.lower()`เปลี่ยนตัวอักษรภาษาอังกฤษในตัวแปรสายอักขระ `var` ให้เป็นตัวพิมพ์เล็ก\n",
        "6. `var.upper()` เปลี่ยนตัวอักษรภาษาอังกฤษในตัวแปรสายอักขระ `var` ให้เป็นตัวพิมพ์ใหญ่\n",
        "เป็นต้น"
      ]
    },
    {
      "cell_type": "markdown",
      "metadata": {
        "id": "FT8OsRTOl2dy"
      },
      "source": [
        "**ตัวอย่าง1.4.3** กำหนดตัวแปรดังต่อไปนี้"
      ]
    },
    {
      "cell_type": "code",
      "execution_count": null,
      "metadata": {
        "id": "XDzZ2-Wt-p4m"
      },
      "outputs": [],
      "source": [
        "s1='data scientist and ai creator are the most favourite job in the present.'"
      ]
    },
    {
      "cell_type": "markdown",
      "metadata": {
        "id": "TgGkAkOD-p4m"
      },
      "source": [
        "1. จงหาจำนวนอักขระในตัวแปรที่กำหนดให้"
      ]
    },
    {
      "cell_type": "code",
      "execution_count": null,
      "metadata": {
        "id": "IItSLkM5-p4m",
        "colab": {
          "base_uri": "https://localhost:8080/"
        },
        "outputId": "5bc97be0-4293-4a83-9d3b-06153b53aaa4"
      },
      "outputs": [
        {
          "output_type": "execute_result",
          "data": {
            "text/plain": [
              "72"
            ]
          },
          "metadata": {},
          "execution_count": 65
        }
      ],
      "source": [
        "len(s1)"
      ]
    },
    {
      "cell_type": "markdown",
      "metadata": {
        "id": "a0JQk_iq-p4m"
      },
      "source": [
        "2. จงแทนที่ตัวอักษร `a` ด้วยตัวอักษร `A` ในสตริงของตัวแปรที่กำหนดให้"
      ]
    },
    {
      "cell_type": "code",
      "execution_count": null,
      "metadata": {
        "id": "eWX2dT6S-p4m",
        "colab": {
          "base_uri": "https://localhost:8080/"
        },
        "outputId": "7220f7e5-47e8-4f32-86b5-bd9acb4de123"
      },
      "outputs": [
        {
          "output_type": "stream",
          "name": "stdout",
          "text": [
            "dAtA scientist And Ai creAtor Are the most fAvourite job in the present.\n"
          ]
        }
      ],
      "source": [
        "s2 = s1.replace('a','A')\n",
        "print(s2)"
      ]
    },
    {
      "cell_type": "markdown",
      "metadata": {
        "id": "Fyq_Yqps-p4n"
      },
      "source": [
        "3. จงแยกข้อความในตัวแปรที่กำหนดให้โดยใช้ช่องว่างเป็นตัวกำหนด"
      ]
    },
    {
      "cell_type": "code",
      "execution_count": null,
      "metadata": {
        "id": "ugHcNycy-p4n",
        "colab": {
          "base_uri": "https://localhost:8080/"
        },
        "outputId": "05e0ee26-b5f3-4e4b-a1a6-bca6911ea909"
      },
      "outputs": [
        {
          "output_type": "stream",
          "name": "stdout",
          "text": [
            "['data', 'scientist', 'and', 'ai', 'creator', 'are', 'the', 'most', 'favourite', 'job', 'in', 'the', 'present.']\n"
          ]
        }
      ],
      "source": [
        "s3=s1.split(\" \")\n",
        "print(s3)"
      ]
    },
    {
      "cell_type": "code",
      "source": [
        "len(s3)"
      ],
      "metadata": {
        "colab": {
          "base_uri": "https://localhost:8080/"
        },
        "id": "W83Zo0clUzFz",
        "outputId": "93736ec6-cafa-4f82-db54-d115d02ef1e4"
      },
      "execution_count": null,
      "outputs": [
        {
          "output_type": "execute_result",
          "data": {
            "text/plain": [
              "13"
            ]
          },
          "metadata": {},
          "execution_count": 68
        }
      ]
    },
    {
      "cell_type": "code",
      "source": [
        "s4=s1.split(\".\")\n",
        "print(s4)"
      ],
      "metadata": {
        "colab": {
          "base_uri": "https://localhost:8080/"
        },
        "id": "BkhIbW9sU6iS",
        "outputId": "825c337d-56ff-4f79-e566-789b0435c6e9"
      },
      "execution_count": null,
      "outputs": [
        {
          "output_type": "stream",
          "name": "stdout",
          "text": [
            "['data scientist and ai creator are the most favourite job in the present', '']\n"
          ]
        }
      ]
    },
    {
      "cell_type": "code",
      "source": [
        "len(s4)"
      ],
      "metadata": {
        "colab": {
          "base_uri": "https://localhost:8080/"
        },
        "id": "JIZT9gzEVFdT",
        "outputId": "c161e687-1bdc-4984-e238-c1de7a370951"
      },
      "execution_count": null,
      "outputs": [
        {
          "output_type": "execute_result",
          "data": {
            "text/plain": [
              "2"
            ]
          },
          "metadata": {},
          "execution_count": 70
        }
      ]
    },
    {
      "cell_type": "markdown",
      "metadata": {
        "id": "4YYlVG1R-p4n"
      },
      "source": [
        "4. จงเปลี่ยนข้อความในตัวแปรที่กำหนด ให้เป็นตัวอักษรตัวเล็กทั้งหมด"
      ]
    },
    {
      "cell_type": "code",
      "execution_count": null,
      "metadata": {
        "id": "gxHhEniJ-p4n",
        "colab": {
          "base_uri": "https://localhost:8080/"
        },
        "outputId": "a5d272f5-cdef-40f2-db18-0905bc9587f2"
      },
      "outputs": [
        {
          "output_type": "stream",
          "name": "stdout",
          "text": [
            "data scientist and ai creator are the most favourite job in the present.\n"
          ]
        }
      ],
      "source": [
        "s5=s1.lower()\n",
        "print(s5)"
      ]
    },
    {
      "cell_type": "markdown",
      "metadata": {
        "id": "b5-SWWmg-p4n"
      },
      "source": [
        "5. จงเปลี่ยนข้อความในตัวแปรที่กำหนด ให้เป็นตัวอักษรตัวใหญ่ทั้งหมด"
      ]
    },
    {
      "cell_type": "code",
      "execution_count": null,
      "metadata": {
        "id": "qgqE2_c1-p4n",
        "colab": {
          "base_uri": "https://localhost:8080/"
        },
        "outputId": "d122bc40-a8eb-4d44-95d9-97982b680ec4"
      },
      "outputs": [
        {
          "output_type": "stream",
          "name": "stdout",
          "text": [
            "DATA SCIENTIST AND AI CREATOR ARE THE MOST FAVOURITE JOB IN THE PRESENT.\n"
          ]
        }
      ],
      "source": [
        "s6=s1.upper()\n",
        "print(s6)"
      ]
    },
    {
      "cell_type": "markdown",
      "metadata": {
        "id": "YoIQzEXTNtNx"
      },
      "source": [
        "## 1.4.4 ตัวดำเนินการเกี่ยวกับตัวแปรประเภทสตริง\n",
        "สำหรับตัวดำเนินการเกี่ยวกับตัวแปรประเภทสตริงจะเป็นการนำค่าตัวแปรสตริงมาเรียงต่อกัน(concatenation)ซึ่งการดำเนินการดังกล่าวสามาถทำได้โดยใช้เครื่องหมาย `+`"
      ]
    },
    {
      "cell_type": "markdown",
      "metadata": {
        "id": "S2sVLZhg6fij"
      },
      "source": [
        "**ตัวอย่าง1.4.4** กำหนดตัวแปรเป็นดังนี้"
      ]
    },
    {
      "cell_type": "code",
      "execution_count": null,
      "metadata": {
        "id": "pX295Iwm-p4n"
      },
      "outputs": [],
      "source": [
        "s1='data scientist'\n",
        "s2='and'\n",
        "s3='ai creator'\n",
        "s4='the most favourite job'\n",
        "s5='in the present'"
      ]
    },
    {
      "cell_type": "markdown",
      "metadata": {
        "id": "aGkBOky_-p4n"
      },
      "source": [
        "1. จงสร้างกลุ่มข้อความ `'data scientist and ai creator'` จากตัวแปรบางตัวแปรที่กำหนดให้และประยุกต์ใช้สตริงอื่นๆ เพิ่มเติม"
      ]
    },
    {
      "cell_type": "code",
      "execution_count": null,
      "metadata": {
        "id": "kE6hhtCY-p4o",
        "colab": {
          "base_uri": "https://localhost:8080/",
          "height": 35
        },
        "outputId": "6580837f-aca6-4305-826e-c6b1372671d2"
      },
      "outputs": [
        {
          "output_type": "execute_result",
          "data": {
            "text/plain": [
              "'data scientist and ai creator'"
            ],
            "application/vnd.google.colaboratory.intrinsic+json": {
              "type": "string"
            }
          },
          "metadata": {},
          "execution_count": 79
        }
      ],
      "source": [
        "s1+' '+s2+' '+s3"
      ]
    },
    {
      "cell_type": "markdown",
      "metadata": {
        "id": "7sYxfVVE-p4o"
      },
      "source": [
        "2. จงสร้างข้อความ `'data scientist and ai creator are the most favourite job in the present.:)'` จากตัวแปรที่กำหนดให้ทั้งหมดและประยุกต์ใช้สตริงอื่นๆ เพิ่มเติม"
      ]
    },
    {
      "cell_type": "code",
      "execution_count": null,
      "metadata": {
        "id": "Kj7H68WS-p4o",
        "colab": {
          "base_uri": "https://localhost:8080/",
          "height": 35
        },
        "outputId": "8f5b4c16-e7fe-4e03-ecd7-cf152880689c"
      },
      "outputs": [
        {
          "output_type": "execute_result",
          "data": {
            "text/plain": [
              "'data scientist and ai creator are the most favourite job in the present.:)'"
            ],
            "application/vnd.google.colaboratory.intrinsic+json": {
              "type": "string"
            }
          },
          "metadata": {},
          "execution_count": 80
        }
      ],
      "source": [
        "s1+' '+s2+' '+s3+' are '+s4+' '+s5+'.:)'"
      ]
    },
    {
      "cell_type": "markdown",
      "metadata": {
        "id": "dR2pd8HOOLOg"
      },
      "source": [
        "## 1.4.5 ตัวดำเนินการเกี่ยวกับตัวแปรบูลีน\n",
        "ตัวดำเนินการเกี่ยวกับตัวแปรบูลีนประกอบด้วย 3 ตัวดำเนินการดังนี้\n",
        "1. ตัวดำเนินการ นิเสธ(Not)สัญลักษณ์ทางคณิตศาสตร์คือ ~ ใช้คำสั่ง `not` หน้าตัวแปรที่ต้องการโดยต้องเว้นวรรคกับตัวแปร\n",
        "2. ตัวดำเนินการ และ(and) สัญลักษณ์ทางคณิตศาสตร์คือ $\\wedge$ ใช้คำสั่ง`and` เชื่อมระหว่างสองตัวแปรโดยต้องเว้นวรรคกับตัวแปร\n",
        "3. ตัวดำเนินการ หรือ(or) สัญลักษณ์ทางคณิตศาสตร์คือ $\\vee$ ใช้คำสั่ง `or` เชื่อมระหว่างสองตัวแปรโดยต้องเว้นวรรคกับตัวแปร\n",
        "**หมายเหตุ:** หากใช้ตัวดำเนินการโดยไม่เว้นวรรคให้ใส่ `()` คร่อมตัวแปรแทน"
      ]
    },
    {
      "cell_type": "markdown",
      "metadata": {
        "id": "K6pWrNxp7C-b"
      },
      "source": [
        "**ตัวอย่าง1.4.5** กำหนดตัวแปรดังนี้"
      ]
    },
    {
      "cell_type": "code",
      "execution_count": null,
      "metadata": {
        "id": "iXgQZixlNy6-"
      },
      "outputs": [],
      "source": [
        "b1=True\n",
        "b2=False\n",
        "b3=True"
      ]
    },
    {
      "cell_type": "markdown",
      "metadata": {
        "id": "oudAB0Bl-p4o"
      },
      "source": [
        "จงหาค่าดังต่อไปนี้"
      ]
    },
    {
      "cell_type": "markdown",
      "metadata": {
        "id": "Gjt-B7OO-p4o"
      },
      "source": [
        "1. ~$b1$"
      ]
    },
    {
      "cell_type": "code",
      "execution_count": null,
      "metadata": {
        "id": "elx54zKm-p4p",
        "colab": {
          "base_uri": "https://localhost:8080/"
        },
        "outputId": "a2ac08b0-1ff4-4a6c-ec85-1f59f4e859c2"
      },
      "outputs": [
        {
          "output_type": "execute_result",
          "data": {
            "text/plain": [
              "False"
            ]
          },
          "metadata": {},
          "execution_count": 83
        }
      ],
      "source": [
        "not b1"
      ]
    },
    {
      "cell_type": "code",
      "source": [
        "not(b1)"
      ],
      "metadata": {
        "colab": {
          "base_uri": "https://localhost:8080/"
        },
        "id": "UCCYStiMZXi0",
        "outputId": "969cb979-ec5e-4883-c1df-6e87cc8b084d"
      },
      "execution_count": null,
      "outputs": [
        {
          "output_type": "execute_result",
          "data": {
            "text/plain": [
              "False"
            ]
          },
          "metadata": {},
          "execution_count": 84
        }
      ]
    },
    {
      "cell_type": "markdown",
      "metadata": {
        "id": "scP77wHn-p4p"
      },
      "source": [
        "2. $b1 \\wedge b2$"
      ]
    },
    {
      "cell_type": "code",
      "execution_count": null,
      "metadata": {
        "id": "jbv2U_3t-p4p",
        "colab": {
          "base_uri": "https://localhost:8080/"
        },
        "outputId": "f386664a-5770-4b58-cd7a-8e1247cb4efa"
      },
      "outputs": [
        {
          "output_type": "execute_result",
          "data": {
            "text/plain": [
              "False"
            ]
          },
          "metadata": {},
          "execution_count": 85
        }
      ],
      "source": [
        "b1 and b2"
      ]
    },
    {
      "cell_type": "markdown",
      "metadata": {
        "id": "-MNZdYtB-p4p"
      },
      "source": [
        "3. $b2 \\vee b3$"
      ]
    },
    {
      "cell_type": "code",
      "execution_count": null,
      "metadata": {
        "id": "o30_NjIt-p4p",
        "colab": {
          "base_uri": "https://localhost:8080/"
        },
        "outputId": "ddbeb694-bced-4a49-833a-090f3aeb8a3c"
      },
      "outputs": [
        {
          "output_type": "execute_result",
          "data": {
            "text/plain": [
              "True"
            ]
          },
          "metadata": {},
          "execution_count": 86
        }
      ],
      "source": [
        "(b2)or(b3)"
      ]
    },
    {
      "cell_type": "markdown",
      "metadata": {
        "id": "r1IU0Mal-p4p"
      },
      "source": [
        "4. $b2\\vee$ ~$(b1 \\wedge b3)$"
      ]
    },
    {
      "cell_type": "code",
      "execution_count": null,
      "metadata": {
        "id": "lHU7E1i5-p4p",
        "colab": {
          "base_uri": "https://localhost:8080/"
        },
        "outputId": "7e060a17-8dd1-4ef8-d225-42f07b164107"
      },
      "outputs": [
        {
          "output_type": "execute_result",
          "data": {
            "text/plain": [
              "False"
            ]
          },
          "metadata": {},
          "execution_count": 87
        }
      ],
      "source": [
        "b2 or not(b1 and b3)"
      ]
    },
    {
      "cell_type": "markdown",
      "metadata": {
        "id": "NcyklkLMP6C_"
      },
      "source": [
        "## 1.4.6 การเปรียบเทียบตัวแปร\n",
        "การเปรียบเทียบตัวแปรแบบต่างๆ แสดงดังนี้\n",
        "\n",
        "| **ลักษณะการเปรียบเทียบ** | **สัญลักษณ์** |\n",
        "|-----------------------|------------|\n",
        "| การเท่ากัน              | `==`       |\n",
        "| การไม่เท่ากัน            | `!=`       |\n",
        "| น้อยกว่า                | `<`        |\n",
        "| น้อยกว่าหรือเท่ากับ        | `<=`       |\n",
        "| มากกว่า                | `>`        |\n",
        "| มากกว่าหรือเท่ากับ        | `>=`       |\n"
      ]
    },
    {
      "cell_type": "markdown",
      "metadata": {
        "id": "cNo8qhgj7hnJ"
      },
      "source": [
        "**ตัวอย่าง1.4.6** กำหนดค่าตัวแปรดังนี้"
      ]
    },
    {
      "cell_type": "code",
      "execution_count": null,
      "metadata": {
        "id": "WRarEWs6PHun"
      },
      "outputs": [],
      "source": [
        "a= -9\n",
        "b= 7"
      ]
    },
    {
      "cell_type": "markdown",
      "metadata": {
        "id": "AIVk5SYu-p4q"
      },
      "source": [
        "จงหาค่าความจริงจากการเปรียบเทียบค่าของสองตัวแปรในกรณีต่างๆ ตามตารางข้างต้น"
      ]
    },
    {
      "cell_type": "code",
      "execution_count": null,
      "metadata": {
        "id": "VoH00RSG-p4r",
        "colab": {
          "base_uri": "https://localhost:8080/"
        },
        "outputId": "3e72d562-5a53-4381-b3da-da158e9c4c34"
      },
      "outputs": [
        {
          "output_type": "execute_result",
          "data": {
            "text/plain": [
              "False"
            ]
          },
          "metadata": {},
          "execution_count": 89
        }
      ],
      "source": [
        "a==b"
      ]
    },
    {
      "cell_type": "code",
      "source": [
        "a!=b"
      ],
      "metadata": {
        "colab": {
          "base_uri": "https://localhost:8080/"
        },
        "id": "vK0l6anzaIIv",
        "outputId": "33f9f1c2-611a-4027-b301-f390a6c11d8f"
      },
      "execution_count": null,
      "outputs": [
        {
          "output_type": "execute_result",
          "data": {
            "text/plain": [
              "True"
            ]
          },
          "metadata": {},
          "execution_count": 90
        }
      ]
    },
    {
      "cell_type": "code",
      "source": [
        "a<b"
      ],
      "metadata": {
        "colab": {
          "base_uri": "https://localhost:8080/"
        },
        "id": "8tZ0S0_saK4H",
        "outputId": "40b87ee1-bd93-41f7-f557-fb6677ee0357"
      },
      "execution_count": null,
      "outputs": [
        {
          "output_type": "execute_result",
          "data": {
            "text/plain": [
              "True"
            ]
          },
          "metadata": {},
          "execution_count": 91
        }
      ]
    },
    {
      "cell_type": "code",
      "source": [
        "a<=b"
      ],
      "metadata": {
        "colab": {
          "base_uri": "https://localhost:8080/"
        },
        "id": "4VT34fhzaNiv",
        "outputId": "d794b7aa-2835-4376-d49b-020f32656d35"
      },
      "execution_count": null,
      "outputs": [
        {
          "output_type": "execute_result",
          "data": {
            "text/plain": [
              "True"
            ]
          },
          "metadata": {},
          "execution_count": 92
        }
      ]
    },
    {
      "cell_type": "code",
      "source": [
        "a>b"
      ],
      "metadata": {
        "colab": {
          "base_uri": "https://localhost:8080/"
        },
        "id": "Xk5fy06caPNE",
        "outputId": "2177f08f-feb0-41c0-82cb-416688a16677"
      },
      "execution_count": null,
      "outputs": [
        {
          "output_type": "execute_result",
          "data": {
            "text/plain": [
              "False"
            ]
          },
          "metadata": {},
          "execution_count": 93
        }
      ]
    },
    {
      "cell_type": "code",
      "source": [
        "a>=b"
      ],
      "metadata": {
        "colab": {
          "base_uri": "https://localhost:8080/"
        },
        "id": "Q0-0LrDcaTNf",
        "outputId": "6477de9b-a915-4981-fc53-f027883ff5ec"
      },
      "execution_count": null,
      "outputs": [
        {
          "output_type": "execute_result",
          "data": {
            "text/plain": [
              "False"
            ]
          },
          "metadata": {},
          "execution_count": 94
        }
      ]
    },
    {
      "cell_type": "markdown",
      "metadata": {
        "id": "YOGDTgA0-p4r"
      },
      "source": [
        "---"
      ]
    },
    {
      "cell_type": "markdown",
      "metadata": {
        "id": "--_A5g6oXfgt"
      },
      "source": [
        "# เอกสารอ้างอิง\n",
        "1. Python Language. https://www.python.org\n",
        "2. Sowmya Krishnan. Data Structures in Python-A Brief Introduction. https://images.app.goo.gl/aTn7VP5tp3N2nhLG6\n",
        "3. https://docs.python.org/3/tutorial/inputoutput.html\n",
        "4. กิตติภณ พละการ, กิตติภพ พละการ, สมชาย ประสิทธิ์จูตระกูล และ สุกรี สินธุภิญโญ. ภาควิชาวิศวกรรมคอมพิวเตอร์ คณะวิศวกรรมศาสตร์ จุฬาลงกรณ์มหาวิทยาลัย. Python 101. https://www.cp.eng.chula.ac.th/books/python101/\n",
        "5. เดช ธรรมศิริ. รายวิชา 3602801 การเขียนโปรแกรมคอมพิวเตอร์ทางธุรกิจ. มหาวิทยาลัยราชภัฏนครปฐม. http://courseware.npru.ac.th/admin/files/20210907110003_65235a3b992bf4f7d36b7e3cb735f37c.pdf"
      ]
    },
    {
      "cell_type": "markdown",
      "metadata": {
        "id": "smzse4qZMJYs"
      },
      "source": [
        "<img src = 'https://drive.google.com/uc?id=18qUXmnQK3FIPfMCm8m0aKf1Saam6ezdJ'>"
      ]
    },
    {
      "cell_type": "markdown",
      "metadata": {
        "id": "rE16rIVtMJYs"
      },
      "source": [
        "<img src = 'https://drive.google.com/uc?id=192V5NZG8GXDFzYQIxTRJCSmiBUkc2xys'>"
      ]
    }
  ],
  "metadata": {
    "colab": {
      "collapsed_sections": [
        "dR2pd8HOOLOg"
      ],
      "provenance": [],
      "include_colab_link": true
    },
    "kernelspec": {
      "display_name": "Python 3 (ipykernel)",
      "language": "python",
      "name": "python3"
    },
    "language_info": {
      "codemirror_mode": {
        "name": "ipython",
        "version": 3
      },
      "file_extension": ".py",
      "mimetype": "text/x-python",
      "name": "python",
      "nbconvert_exporter": "python",
      "pygments_lexer": "ipython3",
      "version": "3.11.0"
    }
  },
  "nbformat": 4,
  "nbformat_minor": 0
}