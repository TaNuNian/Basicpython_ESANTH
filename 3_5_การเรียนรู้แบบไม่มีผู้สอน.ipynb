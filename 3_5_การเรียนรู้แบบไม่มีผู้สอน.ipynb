{
  "nbformat": 4,
  "nbformat_minor": 0,
  "metadata": {
    "colab": {
      "provenance": [],
      "include_colab_link": true
    },
    "kernelspec": {
      "name": "python3",
      "display_name": "Python 3"
    },
    "language_info": {
      "name": "python"
    }
  },
  "cells": [
    {
      "cell_type": "markdown",
      "metadata": {
        "id": "view-in-github",
        "colab_type": "text"
      },
      "source": [
        "<a href=\"https://colab.research.google.com/github/TaNuNian/Basicpython_ESANTH/blob/main/3_5_%E0%B8%81%E0%B8%B2%E0%B8%A3%E0%B9%80%E0%B8%A3%E0%B8%B5%E0%B8%A2%E0%B8%99%E0%B8%A3%E0%B8%B9%E0%B9%89%E0%B9%81%E0%B8%9A%E0%B8%9A%E0%B9%84%E0%B8%A1%E0%B9%88%E0%B8%A1%E0%B8%B5%E0%B8%9C%E0%B8%B9%E0%B9%89%E0%B8%AA%E0%B8%AD%E0%B8%99.ipynb\" target=\"_parent\"><img src=\"https://colab.research.google.com/assets/colab-badge.svg\" alt=\"Open In Colab\"/></a>"
      ]
    },
    {
      "cell_type": "markdown",
      "source": [
        "<img src = 'https://drive.google.com/uc?id=18zsxFId1FaUI1RvfkAex6ZoNpToP8GoT'>"
      ],
      "metadata": {
        "id": "X37vubLxBUVi"
      }
    },
    {
      "cell_type": "code",
      "source": [
        "3.5"
      ],
      "metadata": {
        "id": "Z4VEXJqfQMod"
      },
      "execution_count": null,
      "outputs": []
    },
    {
      "cell_type": "markdown",
      "source": [
        "# ผู้เรียบเรียงเนื้อหา: ดร.เปรม จันทร์สว่าง\n",
        "## สาขาวิชาสถิติ คณะวิทยาศาตร์ มหาวิทยาลัยขอนแก่น\n",
        "\n",
        "# ผู้บรรยาย: ดร.วิธวินท์ สุสุทธิ\n",
        "## ภาควิชาคณิตศาสตร์ คณะวิทยาศาสตร์ มหาวิทยาลัยเทคโนโลยีพระจอมเกล้าธนบุรี"
      ],
      "metadata": {
        "id": "pCiTtFdVhMsu"
      }
    },
    {
      "cell_type": "markdown",
      "source": [
        "## **การเรียนรู้แบบไม่มีผู้สอน (Unsupervised learning)**\n",
        "\n",
        "- แนวคิดการเรียนรู้แบบไม่มีผู้สอน\n",
        "- การวิเคราะห์กลุ่ม (Cluster analysis)\n",
        "- K-means algorithm และตัวอย่างการใช้ K-means ในการจัดกลุ่ม"
      ],
      "metadata": {
        "id": "r8wTgVAMBg6r"
      }
    },
    {
      "cell_type": "markdown",
      "source": [
        "#### **แนวคิดการเรียนรู้แบบไม่มีผู้สอน**\n",
        "\n",
        "การเรียนรู้แบบไม่มีผู้สอนเป็นวิธีการเรียนรู้ของเครื่องที่ไม่จำเป็นต้องมีตัวแปรเป้าหมาย กล่าวคือตัวแบบการเรียนรู้ของเครื่องจะเรียนรู้ลักษณะ กลุ่มความเหมือน และความแตกต่างของข้อมูลเพื่อวิเคราะห์กลุ่ม (Cluster analysis) หรือหากฏความความสัมพันธ์ (Association rule) ของข้อมูล\n",
        "ตัวอย่างการประยุกต์ใช้:\n",
        "\n",
        "*   การจัดกลุ่มลูกค้า  \n",
        "*   การตรวจจับสิ่งผิดปกติ   \n",
        "*   ระบบแนะนำ\n",
        "*   การประมวลผลภาพ\n",
        "\n"
      ],
      "metadata": {
        "id": "jt7UZiuOBp-6"
      }
    },
    {
      "cell_type": "markdown",
      "source": [
        "#### **การวิเคราะห์กลุ่ม (Cluster analysis)**\n",
        "\n",
        "การวิเคราะห์กลุ่มเป็นวิธีการเรียนรู้ของเครื่องในการจัดกลุ่มข้อมูลโดยอาศัยหลักการที่ว่า\n",
        "\n",
        "**ข้อมูลที่คล้ายคลึงกันจะถูกจัดให้อยู่ในกลุ่มเดียวกัน ข้อมูลที่แตกต่างกันจะถูกจัดให้อยู่ในกลุ่มที่แตกต่างกัน**\n",
        "\n",
        "การวิเคราะห์ในแนวทางนี้ช่วยลดปัญหาในการที่ต้องทำการระบุป้ายระบุกลุ่มให้ข้อมูล (Label data) ซึ่งบางครั้งจะต้องอาศัยผู้เชี่ยวชาญในการระบุกลุ่มให้ข้อมูล โดยลักษณะของกลุ่มที่ได้จะขึ้นอยู่กับการกำหนดนิยามความคล้ายหรือความต่างระหว่างจุดข้อมูลสองจุดใดๆ"
      ],
      "metadata": {
        "id": "aIxzH_25BzAI"
      }
    },
    {
      "cell_type": "markdown",
      "source": [
        "#### **K-means algorithm**\n",
        "เป็นการแบ่งกลุ่มข้อมูลจำนวน n ข้อมูล ออกเป็น k กลุ่ม โดยแต่ละข้อมูลจะอยู่ในกลุ่มที่มีค่าเฉลี่ยใกล้เคียงกันที่สุด\n",
        "\n",
        "ขั้นตอนวิธีในการทำ K-means สามารถอธิบายได้ดังนี้\n",
        "\n",
        "**ขั้นตอนที่ 1**: กำหนดจำนวนกลุ่ม\n",
        "\n",
        "**ขั้นตอนที่ 2**: กำหนดจุดศูนย์กลางเริ่มต้นของแต่ละกลุ่ม\n",
        "\n",
        "**ขั้นตอนที่ 3**: ระบุกลุ่มให้แต่ละจุดข้อมูลโดยเลือกกลุ่มที่มีระยะทางน้อยที่สุดระหว่างจุดข้อมูลกับจุดศูนย์กลางกลุ่ม\n",
        "\n",
        "**ขั้นตอนที่ 4**: คำนวณค่าเฉลี่ยของข้อมูลในแต่ละกลุ่มและกำหนดให้เป็นจุดศูนย์กลางใหม่ของแต่ละกลุ่ม\n",
        "\n",
        "**ขั้นตอนที่ 5**: ทำซ้ำขั้นตอนที่ 3 และ 4 ใหม่จนกระทั่งจุดศูนย์กลางของแต่ละกลุ่มไม่เปลี่ยนค่า"
      ],
      "metadata": {
        "id": "c9l0R0SZB_OS"
      }
    },
    {
      "cell_type": "markdown",
      "source": [
        "**ตัวอย่างการทำงาน**"
      ],
      "metadata": {
        "id": "kLJsxucRw_7F"
      }
    },
    {
      "cell_type": "markdown",
      "source": [
        "กำหนดจำนวนกลุ่ม และสุ่มจุดศูนย์กลาง\n",
        "\n",
        "<img src = 'https://drive.google.com/uc?id=1swSE16NN9qaDNz9xyEXxxd7LG3-HCy_l' width = 70%>\n",
        "\n",
        "ระบุกลุ่มให้แต่ละจุดข้อมูลโดยเลือกกลุ่มที่มีระยะทางน้อยที่สุดระหว่างจุดข้อมูลกับจุดศูนย์กลางกลุ่ม\n",
        "\n",
        "\n",
        "<img src = 'https://drive.google.com/uc?id=1auTPdPH4QOSs1Rg8n1abxtQqswn9ddxF' width = 70%>\n",
        "\n",
        "คำนวณค่าเฉลี่ยของข้อมูลในแต่ละกลุ่มและกำหนดให้เป็นจุดศูนย์กลางใหม่ของแต่ละกลุ่ม\n",
        "\n",
        "<img src = 'https://drive.google.com/uc?id=1XgS232ydWDY5aWE9oqcEBB__WPUY80al' width = 70%>\n",
        "\n",
        "ผลลัพธ์ของรอบที่ 1\n",
        "\n",
        "<img src = 'https://drive.google.com/uc?id=1q3OrptHD0VGoS3OUIuJhI9UICtL6k-FC' width = 70%>\n",
        "\n",
        "ระบุกลุ่มให้แต่ละจุดข้อมูลโดยเลือกกลุ่มที่มีระยะทางน้อยที่สุดระหว่างจุดข้อมูลกับจุดศูนย์กลางกลุ่ม คำนวณค่าเฉลี่ยของข้อมูลในแต่ละกลุ่มและกำหนดให้เป็นจุดศูนย์กลางใหม่ของแต่ละกลุ่ม\n",
        "\n",
        "<img src = 'https://drive.google.com/uc?id=1RW99avmv_s0_4XsakCWrt5ieTuFEE5tx' width = 70%>\n",
        "\n",
        "ผลลัพธ์ของรอบที่ 2\n",
        "\n",
        "<img src = 'https://drive.google.com/uc?id=1tMbZSW8xfPXC6-v80b-cneWD4VROdqid' width = 70%>\n"
      ],
      "metadata": {
        "id": "eGdNf-CvxHtM"
      }
    },
    {
      "cell_type": "markdown",
      "source": [
        "##### **ตัวอย่างการใช้ K-mean algorithm ในการจัดกลุ่มบ้านตามละติจูดและลองติจูด**"
      ],
      "metadata": {
        "id": "lW4D-IOXCZy7"
      }
    },
    {
      "cell_type": "markdown",
      "source": [
        "**ดึงข้อมูล**"
      ],
      "metadata": {
        "id": "1enwh04fCfkD"
      }
    },
    {
      "cell_type": "code",
      "execution_count": null,
      "metadata": {
        "id": "dtJGzsRHBLIs"
      },
      "outputs": [],
      "source": [
        "from google.colab import drive\n",
        "drive.mount('/content/drive')\n",
        "\n",
        "import pandas as pd\n",
        "\n",
        "df = pd.read_csv('/content/drive/MyDrive/MLDataset/housing.csv')\n",
        "df.head()"
      ]
    },
    {
      "cell_type": "markdown",
      "source": [
        "**เตรียมข้อมูล**\n",
        "\n",
        "slice ข้อมูลในคอลัมภ์ 'longitude', 'latitude', 'median_house_value'"
      ],
      "metadata": {
        "id": "RVOd3CKoC6gI"
      }
    },
    {
      "cell_type": "code",
      "source": [
        "house = df.loc[:,['longitude', 'latitude', 'median_house_value']]\n",
        "house.head()"
      ],
      "metadata": {
        "id": "M4iRCI6HC82p"
      },
      "execution_count": null,
      "outputs": []
    },
    {
      "cell_type": "markdown",
      "source": [
        "**สำรวจข้อมูล**\n",
        "\n",
        "พลอตลองจิจูดและละจิจูดและพลอตแยกเฉดสีตามค่ามัธยฐานราคาบ้าน (median_house_value)"
      ],
      "metadata": {
        "id": "3xmpqPnFDBPT"
      }
    },
    {
      "cell_type": "code",
      "source": [
        "import seaborn as sns\n",
        "\n",
        "sns.scatterplot(data = house, x = 'longitude', y = 'latitude', hue = 'median_house_value')"
      ],
      "metadata": {
        "id": "oO-uOP34DEX0"
      },
      "execution_count": null,
      "outputs": []
    },
    {
      "cell_type": "markdown",
      "source": [
        "แปลงข้อมูลด้วยการปรับให้ขนาดของจุดข้อมูลเท่ากับ 1"
      ],
      "metadata": {
        "id": "SUEoHTy9DKcR"
      }
    },
    {
      "cell_type": "code",
      "source": [
        "X = house.loc[:,['longitude', 'latitude']]\n",
        "from sklearn import preprocessing\n",
        "X_norm = preprocessing.normalize(X)\n",
        "X_norm[0:5,:]"
      ],
      "metadata": {
        "id": "AIudA-DbDLWt"
      },
      "execution_count": null,
      "outputs": []
    },
    {
      "cell_type": "markdown",
      "source": [
        "ทำ K-means"
      ],
      "metadata": {
        "id": "JrdSUejvDSHM"
      }
    },
    {
      "cell_type": "code",
      "source": [
        "from sklearn.cluster import KMeans\n",
        "kmeans = KMeans(n_clusters = 3, random_state = 0, n_init='auto')\n",
        "kmeans.fit(X_norm)"
      ],
      "metadata": {
        "id": "J_gPZ0WKDTG4"
      },
      "execution_count": null,
      "outputs": []
    },
    {
      "cell_type": "code",
      "source": [
        "centers = kmeans.cluster_centers_\n",
        "centers"
      ],
      "metadata": {
        "id": "5h4D7AHhqAIb"
      },
      "execution_count": null,
      "outputs": []
    },
    {
      "cell_type": "code",
      "source": [
        "df_norm = pd.DataFrame(X_norm)\n",
        "df_norm.columns = ['V1','V2']\n",
        "df_norm.sample(5)"
      ],
      "metadata": {
        "id": "3-bN6OAxf6RV"
      },
      "execution_count": null,
      "outputs": []
    },
    {
      "cell_type": "code",
      "source": [
        "ax = sns.scatterplot(data = df_norm, x = 'V1', y = 'V2', hue = kmeans.labels_)\n",
        "ax = sns.scatterplot(data = centers, x= centers[:, 0], y=centers[:, 1], palette='deep', ax=ax)"
      ],
      "metadata": {
        "id": "72vWmi9i2xTt"
      },
      "execution_count": null,
      "outputs": []
    },
    {
      "cell_type": "code",
      "source": [
        "sns.scatterplot(data = house, x = 'longitude', y = 'latitude', hue = kmeans.labels_)"
      ],
      "metadata": {
        "id": "_TPyN9GAtTji"
      },
      "execution_count": null,
      "outputs": []
    },
    {
      "cell_type": "code",
      "source": [
        "from sklearn.metrics import silhouette_score\n",
        "silhouette_score(X_norm, kmeans.labels_, metric='euclidean')"
      ],
      "metadata": {
        "id": "wnjVJLIrDbxh"
      },
      "execution_count": null,
      "outputs": []
    },
    {
      "cell_type": "markdown",
      "source": [
        "ประเมินเพื่อหาจำนวนกลุ่มที่เหมาะสม"
      ],
      "metadata": {
        "id": "cbzOxplGDe56"
      }
    },
    {
      "cell_type": "code",
      "source": [
        "k_param = [2,3,4,5,6,7]\n",
        "fits = []\n",
        "score = []\n",
        "for i in k_param:\n",
        "  kmeans_i = KMeans(n_clusters = i, random_state = 0, n_init='auto')\n",
        "  fits.append(kmeans_i.fit(X_norm))\n",
        "  score.append(silhouette_score(X_norm, kmeans_i.labels_, metric='euclidean'))\n",
        "  print(f'# of cluster: {i} => score = {score[-1]:.2f}')"
      ],
      "metadata": {
        "id": "IKvMYHPHDf3v"
      },
      "execution_count": null,
      "outputs": []
    },
    {
      "cell_type": "code",
      "source": [
        "sns.lineplot(x = k_param, y = score)"
      ],
      "metadata": {
        "id": "0Sz47S1-DkOY"
      },
      "execution_count": null,
      "outputs": []
    },
    {
      "cell_type": "code",
      "source": [
        "kmeans = KMeans(n_clusters = 2, random_state = 0, n_init='auto')\n",
        "kmeans.fit(X_norm)\n",
        "sns.scatterplot(data = house, x = 'longitude', y = 'latitude', hue = kmeans.labels_)"
      ],
      "metadata": {
        "id": "eG5lz9Ven5Yz"
      },
      "execution_count": null,
      "outputs": []
    },
    {
      "cell_type": "markdown",
      "source": [
        "<img src = 'https://drive.google.com/uc?id=18qUXmnQK3FIPfMCm8m0aKf1Saam6ezdJ'>\n",
        "<img src = 'https://drive.google.com/uc?id=192V5NZG8GXDFzYQIxTRJCSmiBUkc2xys'>"
      ],
      "metadata": {
        "id": "mE_zUBKCBTTc"
      }
    }
  ]
}